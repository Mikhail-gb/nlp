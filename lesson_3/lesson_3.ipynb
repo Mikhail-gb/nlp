{
 "cells": [
  {
   "cell_type": "code",
   "execution_count": 1,
   "outputs": [],
   "source": [
    "import os\n",
    "import pandas as pd\n",
    "import numpy as np\n",
    "import nltk\n",
    "from nltk.corpus import wordnet\n",
    "from gensim.models import Word2Vec, FastText\n",
    "import pickle"
   ],
   "metadata": {
    "collapsed": false,
    "pycharm": {
     "name": "#%%\n"
    }
   }
  },
  {
   "cell_type": "code",
   "execution_count": 2,
   "outputs": [],
   "source": [
    "# df_train = pd.read_json(path_or_buf='../data//gazeta_train.jsonl', lines=True)\n",
    "# df_test = pd.read_json(path_or_buf='../data/gazeta_test.jsonl', lines=True)\n",
    "# df_val = pd.read_json(path_or_buf='../data/gazeta_val.jsonl', lines=True)"
   ],
   "metadata": {
    "collapsed": false,
    "pycharm": {
     "name": "#%%\n"
    }
   }
  },
  {
   "cell_type": "code",
   "execution_count": 3,
   "outputs": [],
   "source": [
    "stopworlds = nltk.corpus.stopwords.words('russian')\n",
    "stemmer = nltk.stem.PorterStemmer()\n",
    "lemmatizer = nltk.stem.WordNetLemmatizer()\n",
    "v_word_tokenize = np.vectorize(nltk.tokenize.word_tokenize)"
   ],
   "metadata": {
    "collapsed": false,
    "pycharm": {
     "name": "#%%\n"
    }
   }
  },
  {
   "cell_type": "code",
   "execution_count": 4,
   "outputs": [],
   "source": [
    "def preprocess_txt(line):\n",
    "    return list({\n",
    "        lemmatizer.lemmatize(\n",
    "            stemmer.stem(w), wordnet.VERB\n",
    "        ) for w in nltk.tokenize.word_tokenize(line) if w not in stopworlds\n",
    "    })"
   ],
   "metadata": {
    "collapsed": false,
    "pycharm": {
     "name": "#%%\n"
    }
   }
  },
  {
   "cell_type": "code",
   "execution_count": 124,
   "outputs": [],
   "source": [
    "with pd.read_json(path_or_buf='../data//gazeta_train.jsonl', lines=True, chunksize=100) as reader:\n",
    "    if os.path.isfile('../data//gazeta_train.csv'):\n",
    "        os.remove('../data//gazeta_train.csv')\n",
    "    for chunk in reader:\n",
    "        chunk['text_mod'] = chunk['text'].apply(\n",
    "            lambda x: preprocess_txt(x)\n",
    "        )\n",
    "        chunk.to_csv('../data//gazeta_train.csv', mode='a', index=False, sep='&')\n"
   ],
   "metadata": {
    "collapsed": false,
    "pycharm": {
     "name": "#%%\n"
    }
   }
  },
  {
   "cell_type": "code",
   "execution_count": null,
   "outputs": [],
   "source": [
    "df_train = pd.read_csv('../data//gazeta_train.csv', sep='&')"
   ],
   "metadata": {
    "collapsed": false,
    "pycharm": {
     "name": "#%%\n"
    }
   }
  },
  {
   "cell_type": "code",
   "execution_count": null,
   "outputs": [],
   "source": [
    "df_train.columns"
   ],
   "metadata": {
    "collapsed": false,
    "pycharm": {
     "name": "#%%\n"
    }
   }
  },
  {
   "cell_type": "code",
   "execution_count": 8,
   "outputs": [],
   "source": [
    "modelW2V = Word2Vec(sentences=df_train['text_mod'], vector_size=300, min_count=1, window=5, workers=6)"
   ],
   "metadata": {
    "collapsed": false,
    "pycharm": {
     "name": "#%%\n"
    }
   }
  },
  {
   "cell_type": "code",
   "execution_count": 9,
   "outputs": [],
   "source": [
    "with open('modelW2V.pickle', 'wb') as f:\n",
    "    pickle.dump(modelW2V, f)"
   ],
   "metadata": {
    "collapsed": false,
    "pycharm": {
     "name": "#%%\n"
    }
   }
  },
  {
   "cell_type": "code",
   "execution_count": 7,
   "outputs": [],
   "source": [
    "modelFT = FastText(sentences=df_train['text_mod'], vector_size=300, min_count=1, window=5, workers=6)"
   ],
   "metadata": {
    "collapsed": false,
    "pycharm": {
     "name": "#%%\n"
    }
   }
  },
  {
   "cell_type": "code",
   "execution_count": 8,
   "outputs": [],
   "source": [
    "with open('modelFT.pickle', 'wb') as f:\n",
    "    pickle.dump(modelFT, f)"
   ],
   "metadata": {
    "collapsed": false,
    "pycharm": {
     "name": "#%%\n"
    }
   }
  },
  {
   "cell_type": "code",
   "execution_count": 5,
   "outputs": [],
   "source": [
    "with open('modelW2V.pickle', 'rb') as f:\n",
    "    modelW2V = pickle.load(f)"
   ],
   "metadata": {
    "collapsed": false,
    "pycharm": {
     "name": "#%%\n"
    }
   }
  },
  {
   "cell_type": "code",
   "execution_count": 6,
   "outputs": [],
   "source": [
    "with open('modelFT.pickle', 'rb') as f:\n",
    "    modelFT = pickle.load(f)"
   ],
   "metadata": {
    "collapsed": false,
    "pycharm": {
     "name": "#%%\n"
    }
   }
  },
  {
   "cell_type": "code",
   "execution_count": 9,
   "outputs": [],
   "source": [
    "def get_response(model, question, topn = 5):\n",
    "    df = pd.DataFrame(columns=['p', 'text'])\n",
    "    with pd.read_csv('../data//gazeta_train.csv', sep='&', chunksize=1000) as rider:\n",
    "        for chunk in rider:\n",
    "            chunk['p'] = model.wv.wmdistance(question, chunk['text'])\n",
    "            chunk_top = chunk.nsmallest(n=topn, columns=['p'], keep='first')\n",
    "            df = pd.concat([df, chunk_top])\n",
    "    df_top = df.nsmallest(n=topn, columns=['p'], keep='first')\n",
    "    return df_top"
   ],
   "metadata": {
    "collapsed": false,
    "pycharm": {
     "name": "#%%\n"
    }
   }
  },
  {
   "cell_type": "code",
   "execution_count": 11,
   "outputs": [
    {
     "data": {
      "text/plain": "              p                                               text  \\\n50000  1.321085  В «день тишины» накануне выборов президента Ук...   \n50001  1.321085  «Я попросила президента о досрочной отставке. ...   \n50002  1.321085  Бывший лечащий врач Юлии Началовой Василий Шур...   \n50003  1.321085  21 марта в японской Сайтаме был разыгран первы...   \n50004  1.321085  Экс-мэр Москвы Юрий Лужков считает оправданной...   \n\n                      date                                                url  \\\n50000  2019-03-21 12:01:52  https://www.gazeta.ru/culture/2019/03/21/a_122...   \n50001  2019-03-21 12:03:29  https://www.gazeta.ru/politics/2019/03/21_a_12...   \n50002  2019-03-21 12:03:52  https://www.gazeta.ru/social/2019/03/21/122559...   \n50003  2019-03-21 12:14:29  https://www.gazeta.ru/sport/2019/03/21/a_12256...   \n50004  2019-03-21 12:18:15  https://www.gazeta.ru/politics/2019/03/21_a_12...   \n\n                                                 summary  \\\n50000  Накануне выборов президента Украины телеканал ...   \n50001  Губернатор Мурманской области Марина Ковтун по...   \n50002  Толчком для карьеры Началовой послужило задерж...   \n50003  Две российские пары завоевали медали на чемпио...   \n50004  Бывший мэр Москвы Юрий Лужков поддержал инициа...   \n\n                                                   title  \\\n50000  День тишины? Нет, не слышали: как Зеленский об...   \n50001  «Конфликтный стиль»: почему Ковтун ушла в отст...   \n50002  «Задержание Началовой ДПС стало новым толчком ...   \n50003  «Китайцы непобедимы»: почему российские пары п...   \n50004  «По пьяни ельцинской»: что Лужков требует от У...   \n\n                                                text_mod  \n50000  ['подтверждения', 'символом', 'зеленский', 'пр...  \n50001  ['выборах', 'сообществе', 'влиянию', 'интересы...  \n50002  ['снята', 'заражения', 'подошли', 'окружили', ...  \n50003  ['десять', 'появиться', 'первую', 'траньков', ...  \n50004  ['председателя', 'истории', 'первую', 'россией...  ",
      "text/html": "<div>\n<style scoped>\n    .dataframe tbody tr th:only-of-type {\n        vertical-align: middle;\n    }\n\n    .dataframe tbody tr th {\n        vertical-align: top;\n    }\n\n    .dataframe thead th {\n        text-align: right;\n    }\n</style>\n<table border=\"1\" class=\"dataframe\">\n  <thead>\n    <tr style=\"text-align: right;\">\n      <th></th>\n      <th>p</th>\n      <th>text</th>\n      <th>date</th>\n      <th>url</th>\n      <th>summary</th>\n      <th>title</th>\n      <th>text_mod</th>\n    </tr>\n  </thead>\n  <tbody>\n    <tr>\n      <th>50000</th>\n      <td>1.321085</td>\n      <td>В «день тишины» накануне выборов президента Ук...</td>\n      <td>2019-03-21 12:01:52</td>\n      <td>https://www.gazeta.ru/culture/2019/03/21/a_122...</td>\n      <td>Накануне выборов президента Украины телеканал ...</td>\n      <td>День тишины? Нет, не слышали: как Зеленский об...</td>\n      <td>['подтверждения', 'символом', 'зеленский', 'пр...</td>\n    </tr>\n    <tr>\n      <th>50001</th>\n      <td>1.321085</td>\n      <td>«Я попросила президента о досрочной отставке. ...</td>\n      <td>2019-03-21 12:03:29</td>\n      <td>https://www.gazeta.ru/politics/2019/03/21_a_12...</td>\n      <td>Губернатор Мурманской области Марина Ковтун по...</td>\n      <td>«Конфликтный стиль»: почему Ковтун ушла в отст...</td>\n      <td>['выборах', 'сообществе', 'влиянию', 'интересы...</td>\n    </tr>\n    <tr>\n      <th>50002</th>\n      <td>1.321085</td>\n      <td>Бывший лечащий врач Юлии Началовой Василий Шур...</td>\n      <td>2019-03-21 12:03:52</td>\n      <td>https://www.gazeta.ru/social/2019/03/21/122559...</td>\n      <td>Толчком для карьеры Началовой послужило задерж...</td>\n      <td>«Задержание Началовой ДПС стало новым толчком ...</td>\n      <td>['снята', 'заражения', 'подошли', 'окружили', ...</td>\n    </tr>\n    <tr>\n      <th>50003</th>\n      <td>1.321085</td>\n      <td>21 марта в японской Сайтаме был разыгран первы...</td>\n      <td>2019-03-21 12:14:29</td>\n      <td>https://www.gazeta.ru/sport/2019/03/21/a_12256...</td>\n      <td>Две российские пары завоевали медали на чемпио...</td>\n      <td>«Китайцы непобедимы»: почему российские пары п...</td>\n      <td>['десять', 'появиться', 'первую', 'траньков', ...</td>\n    </tr>\n    <tr>\n      <th>50004</th>\n      <td>1.321085</td>\n      <td>Экс-мэр Москвы Юрий Лужков считает оправданной...</td>\n      <td>2019-03-21 12:18:15</td>\n      <td>https://www.gazeta.ru/politics/2019/03/21_a_12...</td>\n      <td>Бывший мэр Москвы Юрий Лужков поддержал инициа...</td>\n      <td>«По пьяни ельцинской»: что Лужков требует от У...</td>\n      <td>['председателя', 'истории', 'первую', 'россией...</td>\n    </tr>\n  </tbody>\n</table>\n</div>"
     },
     "execution_count": 11,
     "metadata": {},
     "output_type": "execute_result"
    }
   ],
   "source": [
    "get_response(modelFT, 'Когда отменят транспортный налог', topn=5)"
   ],
   "metadata": {
    "collapsed": false,
    "pycharm": {
     "name": "#%%\n"
    }
   }
  },
  {
   "cell_type": "code",
   "execution_count": 12,
   "outputs": [
    {
     "data": {
      "text/plain": "     p                                               text  \\\n0  inf  Сегодня транспортный налог начисляется в завис...   \n1  inf  Словосочетание «музыкальный кинофестиваль» уже...   \n2  inf  После более чем 12-часовых консультаций Совет ...   \n3  inf  Жертвами урагана «Агата», обрушившегося на Цен...   \n4  inf  Решение ограничить рост тарифов естественных м...   \n\n                  date                                                url  \\\n0  2010-06-01 10:35:49  https://www.gazeta.ru/auto/2010/05/31_a_337771...   \n1  2010-06-01 10:42:59  https://www.gazeta.ru/culture/2010/06/01/a_337...   \n2  2010-06-01 11:00:30  https://www.gazeta.ru/politics/2010/06/01_a_33...   \n3  2010-06-01 11:05:30  https://www.gazeta.ru/social/2010/06/01/337799...   \n4  2010-06-01 11:48:50  https://www.gazeta.ru/financial/2010/06/01/337...   \n\n                                             summary  \\\n0  С 2011 года правительство отменяет самый раздр...   \n1  Британские затворники, московские модники, бра...   \n2  Совбез ООН собрался на экстренное совещание дл...   \n3  Ураган «Агата» в Центральной Америке унес жизн...   \n4  Правительство хочет сдержать рост тарифов есте...   \n\n                            title  \\\n0                     Налог в бак   \n1    Секс, наркотики и темный зал   \n2             Осудить и отпустить   \n3  «Агата» открыла страшный сезон   \n4    Тарифы инфляцию не остановят   \n\n                                            text_mod  \n0  ['малолитражек', 'доходов', 'бензин', '6000', ...  \n1  ['пор', 'балеарике', 'наш', 'андеграундной', '...  \n2  ['израильский', 'председателя', 'человек', 'от...  \n3  ['пешком', 'доходов', 'центральную', 'человек'...  \n4  ['попытаюся', 'ряд', 'андрей', 'те', 'а', 'ген...  ",
      "text/html": "<div>\n<style scoped>\n    .dataframe tbody tr th:only-of-type {\n        vertical-align: middle;\n    }\n\n    .dataframe tbody tr th {\n        vertical-align: top;\n    }\n\n    .dataframe thead th {\n        text-align: right;\n    }\n</style>\n<table border=\"1\" class=\"dataframe\">\n  <thead>\n    <tr style=\"text-align: right;\">\n      <th></th>\n      <th>p</th>\n      <th>text</th>\n      <th>date</th>\n      <th>url</th>\n      <th>summary</th>\n      <th>title</th>\n      <th>text_mod</th>\n    </tr>\n  </thead>\n  <tbody>\n    <tr>\n      <th>0</th>\n      <td>inf</td>\n      <td>Сегодня транспортный налог начисляется в завис...</td>\n      <td>2010-06-01 10:35:49</td>\n      <td>https://www.gazeta.ru/auto/2010/05/31_a_337771...</td>\n      <td>С 2011 года правительство отменяет самый раздр...</td>\n      <td>Налог в бак</td>\n      <td>['малолитражек', 'доходов', 'бензин', '6000', ...</td>\n    </tr>\n    <tr>\n      <th>1</th>\n      <td>inf</td>\n      <td>Словосочетание «музыкальный кинофестиваль» уже...</td>\n      <td>2010-06-01 10:42:59</td>\n      <td>https://www.gazeta.ru/culture/2010/06/01/a_337...</td>\n      <td>Британские затворники, московские модники, бра...</td>\n      <td>Секс, наркотики и темный зал</td>\n      <td>['пор', 'балеарике', 'наш', 'андеграундной', '...</td>\n    </tr>\n    <tr>\n      <th>2</th>\n      <td>inf</td>\n      <td>После более чем 12-часовых консультаций Совет ...</td>\n      <td>2010-06-01 11:00:30</td>\n      <td>https://www.gazeta.ru/politics/2010/06/01_a_33...</td>\n      <td>Совбез ООН собрался на экстренное совещание дл...</td>\n      <td>Осудить и отпустить</td>\n      <td>['израильский', 'председателя', 'человек', 'от...</td>\n    </tr>\n    <tr>\n      <th>3</th>\n      <td>inf</td>\n      <td>Жертвами урагана «Агата», обрушившегося на Цен...</td>\n      <td>2010-06-01 11:05:30</td>\n      <td>https://www.gazeta.ru/social/2010/06/01/337799...</td>\n      <td>Ураган «Агата» в Центральной Америке унес жизн...</td>\n      <td>«Агата» открыла страшный сезон</td>\n      <td>['пешком', 'доходов', 'центральную', 'человек'...</td>\n    </tr>\n    <tr>\n      <th>4</th>\n      <td>inf</td>\n      <td>Решение ограничить рост тарифов естественных м...</td>\n      <td>2010-06-01 11:48:50</td>\n      <td>https://www.gazeta.ru/financial/2010/06/01/337...</td>\n      <td>Правительство хочет сдержать рост тарифов есте...</td>\n      <td>Тарифы инфляцию не остановят</td>\n      <td>['попытаюся', 'ряд', 'андрей', 'те', 'а', 'ген...</td>\n    </tr>\n  </tbody>\n</table>\n</div>"
     },
     "execution_count": 12,
     "metadata": {},
     "output_type": "execute_result"
    }
   ],
   "source": [
    "get_response(modelW2V, 'Когда отменят транспортный налог', topn=5)"
   ],
   "metadata": {
    "collapsed": false,
    "pycharm": {
     "name": "#%%\n"
    }
   }
  },
  {
   "cell_type": "code",
   "execution_count": null,
   "outputs": [],
   "source": [],
   "metadata": {
    "collapsed": false,
    "pycharm": {
     "name": "#%%\n"
    }
   }
  }
 ],
 "metadata": {
  "kernelspec": {
   "display_name": "Python 3",
   "language": "python",
   "name": "python3"
  },
  "language_info": {
   "codemirror_mode": {
    "name": "ipython",
    "version": 2
   },
   "file_extension": ".py",
   "mimetype": "text/x-python",
   "name": "python",
   "nbconvert_exporter": "python",
   "pygments_lexer": "ipython2",
   "version": "2.7.6"
  }
 },
 "nbformat": 4,
 "nbformat_minor": 0
}