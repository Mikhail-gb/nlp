{
 "nbformat": 4,
 "nbformat_minor": 0,
 "metadata": {
  "accelerator": "GPU",
  "colab": {
   "name": "transformer_actual.ipynb",
   "provenance": [],
   "collapsed_sections": [
    "s_qNSzzyaCbD"
   ]
  },
  "kernelspec": {
   "display_name": "Python 3",
   "language": "python",
   "name": "python3"
  },
  "language_info": {
   "codemirror_mode": {
    "name": "ipython",
    "version": 3
   },
   "file_extension": ".py",
   "mimetype": "text/x-python",
   "name": "python",
   "nbconvert_exporter": "python",
   "pygments_lexer": "ipython3",
   "version": "3.8.3"
  },
  "widgets": {
   "application/vnd.jupyter.widget-state+json": {
    "a372124a7d7545ba8790255bc99cb6e0": {
     "model_module": "@jupyter-widgets/controls",
     "model_name": "HBoxModel",
     "model_module_version": "1.5.0",
     "state": {
      "_view_name": "HBoxView",
      "_dom_classes": [],
      "_model_name": "HBoxModel",
      "_view_module": "@jupyter-widgets/controls",
      "_model_module_version": "1.5.0",
      "_view_count": null,
      "_view_module_version": "1.5.0",
      "box_style": "",
      "layout": "IPY_MODEL_0899c6f886e3428e83708ef478b1c4f7",
      "_model_module": "@jupyter-widgets/controls",
      "children": [
       "IPY_MODEL_9c4f3636e1b949a58539f265a12340f5",
       "IPY_MODEL_240deb3292a14d678ccd6359f2f8a3ad"
      ]
     }
    },
    "0899c6f886e3428e83708ef478b1c4f7": {
     "model_module": "@jupyter-widgets/base",
     "model_name": "LayoutModel",
     "model_module_version": "1.2.0",
     "state": {
      "_view_name": "LayoutView",
      "grid_template_rows": null,
      "right": null,
      "justify_content": null,
      "_view_module": "@jupyter-widgets/base",
      "overflow": null,
      "_model_module_version": "1.2.0",
      "_view_count": null,
      "flex_flow": null,
      "width": null,
      "min_width": null,
      "border": null,
      "align_items": null,
      "bottom": null,
      "_model_module": "@jupyter-widgets/base",
      "top": null,
      "grid_column": null,
      "overflow_y": null,
      "overflow_x": null,
      "grid_auto_flow": null,
      "grid_area": null,
      "grid_template_columns": null,
      "flex": null,
      "_model_name": "LayoutModel",
      "justify_items": null,
      "grid_row": null,
      "max_height": null,
      "align_content": null,
      "visibility": null,
      "align_self": null,
      "height": null,
      "min_height": null,
      "padding": null,
      "grid_auto_rows": null,
      "grid_gap": null,
      "max_width": null,
      "order": null,
      "_view_module_version": "1.2.0",
      "grid_template_areas": null,
      "object_position": null,
      "object_fit": null,
      "grid_auto_columns": null,
      "margin": null,
      "display": null,
      "left": null
     }
    },
    "9c4f3636e1b949a58539f265a12340f5": {
     "model_module": "@jupyter-widgets/controls",
     "model_name": "FloatProgressModel",
     "model_module_version": "1.5.0",
     "state": {
      "_view_name": "ProgressView",
      "style": "IPY_MODEL_cf4a071f59a5427badb8244f82a01138",
      "_dom_classes": [],
      "description": "Dl Completed...: 100%",
      "_model_name": "FloatProgressModel",
      "bar_style": "success",
      "max": 1,
      "_view_module": "@jupyter-widgets/controls",
      "_model_module_version": "1.5.0",
      "value": 1,
      "_view_count": null,
      "_view_module_version": "1.5.0",
      "orientation": "horizontal",
      "min": 0,
      "description_tooltip": null,
      "_model_module": "@jupyter-widgets/controls",
      "layout": "IPY_MODEL_c2d6bafe522d45cdab64f48fcc3558c3"
     }
    },
    "240deb3292a14d678ccd6359f2f8a3ad": {
     "model_module": "@jupyter-widgets/controls",
     "model_name": "HTMLModel",
     "model_module_version": "1.5.0",
     "state": {
      "_view_name": "HTMLView",
      "style": "IPY_MODEL_87e0121c4efa42e8b19de749434d13fc",
      "_dom_classes": [],
      "description": "",
      "_model_name": "HTMLModel",
      "placeholder": "​",
      "_view_module": "@jupyter-widgets/controls",
      "_model_module_version": "1.5.0",
      "value": " 1/1 [00:07&lt;00:00,  7.98s/ url]",
      "_view_count": null,
      "_view_module_version": "1.5.0",
      "description_tooltip": null,
      "_model_module": "@jupyter-widgets/controls",
      "layout": "IPY_MODEL_da45c44f51184a60b1391a953d5d6f61"
     }
    },
    "cf4a071f59a5427badb8244f82a01138": {
     "model_module": "@jupyter-widgets/controls",
     "model_name": "ProgressStyleModel",
     "model_module_version": "1.5.0",
     "state": {
      "_view_name": "StyleView",
      "_model_name": "ProgressStyleModel",
      "description_width": "initial",
      "_view_module": "@jupyter-widgets/base",
      "_model_module_version": "1.5.0",
      "_view_count": null,
      "_view_module_version": "1.2.0",
      "bar_color": null,
      "_model_module": "@jupyter-widgets/controls"
     }
    },
    "c2d6bafe522d45cdab64f48fcc3558c3": {
     "model_module": "@jupyter-widgets/base",
     "model_name": "LayoutModel",
     "model_module_version": "1.2.0",
     "state": {
      "_view_name": "LayoutView",
      "grid_template_rows": null,
      "right": null,
      "justify_content": null,
      "_view_module": "@jupyter-widgets/base",
      "overflow": null,
      "_model_module_version": "1.2.0",
      "_view_count": null,
      "flex_flow": null,
      "width": null,
      "min_width": null,
      "border": null,
      "align_items": null,
      "bottom": null,
      "_model_module": "@jupyter-widgets/base",
      "top": null,
      "grid_column": null,
      "overflow_y": null,
      "overflow_x": null,
      "grid_auto_flow": null,
      "grid_area": null,
      "grid_template_columns": null,
      "flex": null,
      "_model_name": "LayoutModel",
      "justify_items": null,
      "grid_row": null,
      "max_height": null,
      "align_content": null,
      "visibility": null,
      "align_self": null,
      "height": null,
      "min_height": null,
      "padding": null,
      "grid_auto_rows": null,
      "grid_gap": null,
      "max_width": null,
      "order": null,
      "_view_module_version": "1.2.0",
      "grid_template_areas": null,
      "object_position": null,
      "object_fit": null,
      "grid_auto_columns": null,
      "margin": null,
      "display": null,
      "left": null
     }
    },
    "87e0121c4efa42e8b19de749434d13fc": {
     "model_module": "@jupyter-widgets/controls",
     "model_name": "DescriptionStyleModel",
     "model_module_version": "1.5.0",
     "state": {
      "_view_name": "StyleView",
      "_model_name": "DescriptionStyleModel",
      "description_width": "",
      "_view_module": "@jupyter-widgets/base",
      "_model_module_version": "1.5.0",
      "_view_count": null,
      "_view_module_version": "1.2.0",
      "_model_module": "@jupyter-widgets/controls"
     }
    },
    "da45c44f51184a60b1391a953d5d6f61": {
     "model_module": "@jupyter-widgets/base",
     "model_name": "LayoutModel",
     "model_module_version": "1.2.0",
     "state": {
      "_view_name": "LayoutView",
      "grid_template_rows": null,
      "right": null,
      "justify_content": null,
      "_view_module": "@jupyter-widgets/base",
      "overflow": null,
      "_model_module_version": "1.2.0",
      "_view_count": null,
      "flex_flow": null,
      "width": null,
      "min_width": null,
      "border": null,
      "align_items": null,
      "bottom": null,
      "_model_module": "@jupyter-widgets/base",
      "top": null,
      "grid_column": null,
      "overflow_y": null,
      "overflow_x": null,
      "grid_auto_flow": null,
      "grid_area": null,
      "grid_template_columns": null,
      "flex": null,
      "_model_name": "LayoutModel",
      "justify_items": null,
      "grid_row": null,
      "max_height": null,
      "align_content": null,
      "visibility": null,
      "align_self": null,
      "height": null,
      "min_height": null,
      "padding": null,
      "grid_auto_rows": null,
      "grid_gap": null,
      "max_width": null,
      "order": null,
      "_view_module_version": "1.2.0",
      "grid_template_areas": null,
      "object_position": null,
      "object_fit": null,
      "grid_auto_columns": null,
      "margin": null,
      "display": null,
      "left": null
     }
    },
    "f38f2892703f48b3bc433614b0c7965f": {
     "model_module": "@jupyter-widgets/controls",
     "model_name": "HBoxModel",
     "model_module_version": "1.5.0",
     "state": {
      "_view_name": "HBoxView",
      "_dom_classes": [],
      "_model_name": "HBoxModel",
      "_view_module": "@jupyter-widgets/controls",
      "_model_module_version": "1.5.0",
      "_view_count": null,
      "_view_module_version": "1.5.0",
      "box_style": "",
      "layout": "IPY_MODEL_51f4844af9a9492a8ac9f37d08314dd5",
      "_model_module": "@jupyter-widgets/controls",
      "children": [
       "IPY_MODEL_58bfcd64a99c4af58540ad943f74577a",
       "IPY_MODEL_0929e51476ec49c08ca867fa51c82169"
      ]
     }
    },
    "51f4844af9a9492a8ac9f37d08314dd5": {
     "model_module": "@jupyter-widgets/base",
     "model_name": "LayoutModel",
     "model_module_version": "1.2.0",
     "state": {
      "_view_name": "LayoutView",
      "grid_template_rows": null,
      "right": null,
      "justify_content": null,
      "_view_module": "@jupyter-widgets/base",
      "overflow": null,
      "_model_module_version": "1.2.0",
      "_view_count": null,
      "flex_flow": null,
      "width": null,
      "min_width": null,
      "border": null,
      "align_items": null,
      "bottom": null,
      "_model_module": "@jupyter-widgets/base",
      "top": null,
      "grid_column": null,
      "overflow_y": null,
      "overflow_x": null,
      "grid_auto_flow": null,
      "grid_area": null,
      "grid_template_columns": null,
      "flex": null,
      "_model_name": "LayoutModel",
      "justify_items": null,
      "grid_row": null,
      "max_height": null,
      "align_content": null,
      "visibility": null,
      "align_self": null,
      "height": null,
      "min_height": null,
      "padding": null,
      "grid_auto_rows": null,
      "grid_gap": null,
      "max_width": null,
      "order": null,
      "_view_module_version": "1.2.0",
      "grid_template_areas": null,
      "object_position": null,
      "object_fit": null,
      "grid_auto_columns": null,
      "margin": null,
      "display": null,
      "left": null
     }
    },
    "58bfcd64a99c4af58540ad943f74577a": {
     "model_module": "@jupyter-widgets/controls",
     "model_name": "FloatProgressModel",
     "model_module_version": "1.5.0",
     "state": {
      "_view_name": "ProgressView",
      "style": "IPY_MODEL_dc7d7880f9a44dd5aef176b77da51920",
      "_dom_classes": [],
      "description": "Dl Size...: 100%",
      "_model_name": "FloatProgressModel",
      "bar_style": "success",
      "max": 1,
      "_view_module": "@jupyter-widgets/controls",
      "_model_module_version": "1.5.0",
      "value": 1,
      "_view_count": null,
      "_view_module_version": "1.5.0",
      "orientation": "horizontal",
      "min": 0,
      "description_tooltip": null,
      "_model_module": "@jupyter-widgets/controls",
      "layout": "IPY_MODEL_3f270f26d3de41d3a70f5bff0b513b3d"
     }
    },
    "0929e51476ec49c08ca867fa51c82169": {
     "model_module": "@jupyter-widgets/controls",
     "model_name": "HTMLModel",
     "model_module_version": "1.5.0",
     "state": {
      "_view_name": "HTMLView",
      "style": "IPY_MODEL_10c677f6e13042be975996bf12db8dda",
      "_dom_classes": [],
      "description": "",
      "_model_name": "HTMLModel",
      "placeholder": "​",
      "_view_module": "@jupyter-widgets/controls",
      "_model_module_version": "1.5.0",
      "value": " 124/124 [00:07&lt;00:00, 15.65 MiB/s]",
      "_view_count": null,
      "_view_module_version": "1.5.0",
      "description_tooltip": null,
      "_model_module": "@jupyter-widgets/controls",
      "layout": "IPY_MODEL_d4cad5549c234f83895ebcc00e578443"
     }
    },
    "dc7d7880f9a44dd5aef176b77da51920": {
     "model_module": "@jupyter-widgets/controls",
     "model_name": "ProgressStyleModel",
     "model_module_version": "1.5.0",
     "state": {
      "_view_name": "StyleView",
      "_model_name": "ProgressStyleModel",
      "description_width": "initial",
      "_view_module": "@jupyter-widgets/base",
      "_model_module_version": "1.5.0",
      "_view_count": null,
      "_view_module_version": "1.2.0",
      "bar_color": null,
      "_model_module": "@jupyter-widgets/controls"
     }
    },
    "3f270f26d3de41d3a70f5bff0b513b3d": {
     "model_module": "@jupyter-widgets/base",
     "model_name": "LayoutModel",
     "model_module_version": "1.2.0",
     "state": {
      "_view_name": "LayoutView",
      "grid_template_rows": null,
      "right": null,
      "justify_content": null,
      "_view_module": "@jupyter-widgets/base",
      "overflow": null,
      "_model_module_version": "1.2.0",
      "_view_count": null,
      "flex_flow": null,
      "width": null,
      "min_width": null,
      "border": null,
      "align_items": null,
      "bottom": null,
      "_model_module": "@jupyter-widgets/base",
      "top": null,
      "grid_column": null,
      "overflow_y": null,
      "overflow_x": null,
      "grid_auto_flow": null,
      "grid_area": null,
      "grid_template_columns": null,
      "flex": null,
      "_model_name": "LayoutModel",
      "justify_items": null,
      "grid_row": null,
      "max_height": null,
      "align_content": null,
      "visibility": null,
      "align_self": null,
      "height": null,
      "min_height": null,
      "padding": null,
      "grid_auto_rows": null,
      "grid_gap": null,
      "max_width": null,
      "order": null,
      "_view_module_version": "1.2.0",
      "grid_template_areas": null,
      "object_position": null,
      "object_fit": null,
      "grid_auto_columns": null,
      "margin": null,
      "display": null,
      "left": null
     }
    },
    "10c677f6e13042be975996bf12db8dda": {
     "model_module": "@jupyter-widgets/controls",
     "model_name": "DescriptionStyleModel",
     "model_module_version": "1.5.0",
     "state": {
      "_view_name": "StyleView",
      "_model_name": "DescriptionStyleModel",
      "description_width": "",
      "_view_module": "@jupyter-widgets/base",
      "_model_module_version": "1.5.0",
      "_view_count": null,
      "_view_module_version": "1.2.0",
      "_model_module": "@jupyter-widgets/controls"
     }
    },
    "d4cad5549c234f83895ebcc00e578443": {
     "model_module": "@jupyter-widgets/base",
     "model_name": "LayoutModel",
     "model_module_version": "1.2.0",
     "state": {
      "_view_name": "LayoutView",
      "grid_template_rows": null,
      "right": null,
      "justify_content": null,
      "_view_module": "@jupyter-widgets/base",
      "overflow": null,
      "_model_module_version": "1.2.0",
      "_view_count": null,
      "flex_flow": null,
      "width": null,
      "min_width": null,
      "border": null,
      "align_items": null,
      "bottom": null,
      "_model_module": "@jupyter-widgets/base",
      "top": null,
      "grid_column": null,
      "overflow_y": null,
      "overflow_x": null,
      "grid_auto_flow": null,
      "grid_area": null,
      "grid_template_columns": null,
      "flex": null,
      "_model_name": "LayoutModel",
      "justify_items": null,
      "grid_row": null,
      "max_height": null,
      "align_content": null,
      "visibility": null,
      "align_self": null,
      "height": null,
      "min_height": null,
      "padding": null,
      "grid_auto_rows": null,
      "grid_gap": null,
      "max_width": null,
      "order": null,
      "_view_module_version": "1.2.0",
      "grid_template_areas": null,
      "object_position": null,
      "object_fit": null,
      "grid_auto_columns": null,
      "margin": null,
      "display": null,
      "left": null
     }
    },
    "56be0f61642941a3b1a1525b2f1408de": {
     "model_module": "@jupyter-widgets/controls",
     "model_name": "HBoxModel",
     "model_module_version": "1.5.0",
     "state": {
      "_view_name": "HBoxView",
      "_dom_classes": [],
      "_model_name": "HBoxModel",
      "_view_module": "@jupyter-widgets/controls",
      "_model_module_version": "1.5.0",
      "_view_count": null,
      "_view_module_version": "1.5.0",
      "box_style": "",
      "layout": "IPY_MODEL_696495599e364be9adfe61e699a1083b",
      "_model_module": "@jupyter-widgets/controls",
      "children": [
       "IPY_MODEL_85aef33921f442738d31e61211e183e2",
       "IPY_MODEL_7e9b019bcc554e6cbd56c8253bcf2e14"
      ]
     }
    },
    "696495599e364be9adfe61e699a1083b": {
     "model_module": "@jupyter-widgets/base",
     "model_name": "LayoutModel",
     "model_module_version": "1.2.0",
     "state": {
      "_view_name": "LayoutView",
      "grid_template_rows": null,
      "right": null,
      "justify_content": null,
      "_view_module": "@jupyter-widgets/base",
      "overflow": null,
      "_model_module_version": "1.2.0",
      "_view_count": null,
      "flex_flow": null,
      "width": null,
      "min_width": null,
      "border": null,
      "align_items": null,
      "bottom": null,
      "_model_module": "@jupyter-widgets/base",
      "top": null,
      "grid_column": null,
      "overflow_y": null,
      "overflow_x": null,
      "grid_auto_flow": null,
      "grid_area": null,
      "grid_template_columns": null,
      "flex": null,
      "_model_name": "LayoutModel",
      "justify_items": null,
      "grid_row": null,
      "max_height": null,
      "align_content": null,
      "visibility": null,
      "align_self": null,
      "height": null,
      "min_height": null,
      "padding": null,
      "grid_auto_rows": null,
      "grid_gap": null,
      "max_width": null,
      "order": null,
      "_view_module_version": "1.2.0",
      "grid_template_areas": null,
      "object_position": null,
      "object_fit": null,
      "grid_auto_columns": null,
      "margin": null,
      "display": null,
      "left": null
     }
    },
    "85aef33921f442738d31e61211e183e2": {
     "model_module": "@jupyter-widgets/controls",
     "model_name": "FloatProgressModel",
     "model_module_version": "1.5.0",
     "state": {
      "_view_name": "ProgressView",
      "style": "IPY_MODEL_c2e29f53c62543e6b8a1f42b71774031",
      "_dom_classes": [],
      "description": "Extraction completed...: 100%",
      "_model_name": "FloatProgressModel",
      "bar_style": "success",
      "max": 1,
      "_view_module": "@jupyter-widgets/controls",
      "_model_module_version": "1.5.0",
      "value": 1,
      "_view_count": null,
      "_view_module_version": "1.5.0",
      "orientation": "horizontal",
      "min": 0,
      "description_tooltip": null,
      "_model_module": "@jupyter-widgets/controls",
      "layout": "IPY_MODEL_9fc26ed55f2842cea1930c67486cadbb"
     }
    },
    "7e9b019bcc554e6cbd56c8253bcf2e14": {
     "model_module": "@jupyter-widgets/controls",
     "model_name": "HTMLModel",
     "model_module_version": "1.5.0",
     "state": {
      "_view_name": "HTMLView",
      "style": "IPY_MODEL_f341b51b94d74f67ab6e98a3608fec2e",
      "_dom_classes": [],
      "description": "",
      "_model_name": "HTMLModel",
      "placeholder": "​",
      "_view_module": "@jupyter-widgets/controls",
      "_model_module_version": "1.5.0",
      "value": " 1/1 [00:07&lt;00:00,  7.85s/ file]",
      "_view_count": null,
      "_view_module_version": "1.5.0",
      "description_tooltip": null,
      "_model_module": "@jupyter-widgets/controls",
      "layout": "IPY_MODEL_98fe582e02b54a5a92113c0d7be8d0d9"
     }
    },
    "c2e29f53c62543e6b8a1f42b71774031": {
     "model_module": "@jupyter-widgets/controls",
     "model_name": "ProgressStyleModel",
     "model_module_version": "1.5.0",
     "state": {
      "_view_name": "StyleView",
      "_model_name": "ProgressStyleModel",
      "description_width": "initial",
      "_view_module": "@jupyter-widgets/base",
      "_model_module_version": "1.5.0",
      "_view_count": null,
      "_view_module_version": "1.2.0",
      "bar_color": null,
      "_model_module": "@jupyter-widgets/controls"
     }
    },
    "9fc26ed55f2842cea1930c67486cadbb": {
     "model_module": "@jupyter-widgets/base",
     "model_name": "LayoutModel",
     "model_module_version": "1.2.0",
     "state": {
      "_view_name": "LayoutView",
      "grid_template_rows": null,
      "right": null,
      "justify_content": null,
      "_view_module": "@jupyter-widgets/base",
      "overflow": null,
      "_model_module_version": "1.2.0",
      "_view_count": null,
      "flex_flow": null,
      "width": null,
      "min_width": null,
      "border": null,
      "align_items": null,
      "bottom": null,
      "_model_module": "@jupyter-widgets/base",
      "top": null,
      "grid_column": null,
      "overflow_y": null,
      "overflow_x": null,
      "grid_auto_flow": null,
      "grid_area": null,
      "grid_template_columns": null,
      "flex": null,
      "_model_name": "LayoutModel",
      "justify_items": null,
      "grid_row": null,
      "max_height": null,
      "align_content": null,
      "visibility": null,
      "align_self": null,
      "height": null,
      "min_height": null,
      "padding": null,
      "grid_auto_rows": null,
      "grid_gap": null,
      "max_width": null,
      "order": null,
      "_view_module_version": "1.2.0",
      "grid_template_areas": null,
      "object_position": null,
      "object_fit": null,
      "grid_auto_columns": null,
      "margin": null,
      "display": null,
      "left": null
     }
    },
    "f341b51b94d74f67ab6e98a3608fec2e": {
     "model_module": "@jupyter-widgets/controls",
     "model_name": "DescriptionStyleModel",
     "model_module_version": "1.5.0",
     "state": {
      "_view_name": "StyleView",
      "_model_name": "DescriptionStyleModel",
      "description_width": "",
      "_view_module": "@jupyter-widgets/base",
      "_model_module_version": "1.5.0",
      "_view_count": null,
      "_view_module_version": "1.2.0",
      "_model_module": "@jupyter-widgets/controls"
     }
    },
    "98fe582e02b54a5a92113c0d7be8d0d9": {
     "model_module": "@jupyter-widgets/base",
     "model_name": "LayoutModel",
     "model_module_version": "1.2.0",
     "state": {
      "_view_name": "LayoutView",
      "grid_template_rows": null,
      "right": null,
      "justify_content": null,
      "_view_module": "@jupyter-widgets/base",
      "overflow": null,
      "_model_module_version": "1.2.0",
      "_view_count": null,
      "flex_flow": null,
      "width": null,
      "min_width": null,
      "border": null,
      "align_items": null,
      "bottom": null,
      "_model_module": "@jupyter-widgets/base",
      "top": null,
      "grid_column": null,
      "overflow_y": null,
      "overflow_x": null,
      "grid_auto_flow": null,
      "grid_area": null,
      "grid_template_columns": null,
      "flex": null,
      "_model_name": "LayoutModel",
      "justify_items": null,
      "grid_row": null,
      "max_height": null,
      "align_content": null,
      "visibility": null,
      "align_self": null,
      "height": null,
      "min_height": null,
      "padding": null,
      "grid_auto_rows": null,
      "grid_gap": null,
      "max_width": null,
      "order": null,
      "_view_module_version": "1.2.0",
      "grid_template_areas": null,
      "object_position": null,
      "object_fit": null,
      "grid_auto_columns": null,
      "margin": null,
      "display": null,
      "left": null
     }
    },
    "e757a85126d54206a37d16d0daebcc33": {
     "model_module": "@jupyter-widgets/controls",
     "model_name": "HBoxModel",
     "model_module_version": "1.5.0",
     "state": {
      "_view_name": "HBoxView",
      "_dom_classes": [],
      "_model_name": "HBoxModel",
      "_view_module": "@jupyter-widgets/controls",
      "_model_module_version": "1.5.0",
      "_view_count": null,
      "_view_module_version": "1.5.0",
      "box_style": "",
      "layout": "IPY_MODEL_dcf85a9e1436437a9203a2ff13d6106f",
      "_model_module": "@jupyter-widgets/controls",
      "children": [
       "IPY_MODEL_052d2996a36f41a29406bdeebb3ae284",
       "IPY_MODEL_9962d60b732c4af7a6e9c375dbb0b3e1"
      ]
     }
    },
    "dcf85a9e1436437a9203a2ff13d6106f": {
     "model_module": "@jupyter-widgets/base",
     "model_name": "LayoutModel",
     "model_module_version": "1.2.0",
     "state": {
      "_view_name": "LayoutView",
      "grid_template_rows": null,
      "right": null,
      "justify_content": null,
      "_view_module": "@jupyter-widgets/base",
      "overflow": null,
      "_model_module_version": "1.2.0",
      "_view_count": null,
      "flex_flow": null,
      "width": null,
      "min_width": null,
      "border": null,
      "align_items": null,
      "bottom": null,
      "_model_module": "@jupyter-widgets/base",
      "top": null,
      "grid_column": null,
      "overflow_y": null,
      "overflow_x": null,
      "grid_auto_flow": null,
      "grid_area": null,
      "grid_template_columns": null,
      "flex": null,
      "_model_name": "LayoutModel",
      "justify_items": null,
      "grid_row": null,
      "max_height": null,
      "align_content": null,
      "visibility": null,
      "align_self": null,
      "height": null,
      "min_height": null,
      "padding": null,
      "grid_auto_rows": null,
      "grid_gap": null,
      "max_width": null,
      "order": null,
      "_view_module_version": "1.2.0",
      "grid_template_areas": null,
      "object_position": null,
      "object_fit": null,
      "grid_auto_columns": null,
      "margin": null,
      "display": null,
      "left": null
     }
    },
    "052d2996a36f41a29406bdeebb3ae284": {
     "model_module": "@jupyter-widgets/controls",
     "model_name": "FloatProgressModel",
     "model_module_version": "1.5.0",
     "state": {
      "_view_name": "ProgressView",
      "style": "IPY_MODEL_ec3857746eb24cefb38f3a3a9311d7b5",
      "_dom_classes": [],
      "description": "Generating splits...: 100%",
      "_model_name": "FloatProgressModel",
      "bar_style": "",
      "max": 3,
      "_view_module": "@jupyter-widgets/controls",
      "_model_module_version": "1.5.0",
      "value": 3,
      "_view_count": null,
      "_view_module_version": "1.5.0",
      "orientation": "horizontal",
      "min": 0,
      "description_tooltip": null,
      "_model_module": "@jupyter-widgets/controls",
      "layout": "IPY_MODEL_8bcfcbcefe5e4faaa8089744bbb275bf"
     }
    },
    "9962d60b732c4af7a6e9c375dbb0b3e1": {
     "model_module": "@jupyter-widgets/controls",
     "model_name": "HTMLModel",
     "model_module_version": "1.5.0",
     "state": {
      "_view_name": "HTMLView",
      "style": "IPY_MODEL_8397a671776f48f3ab532a70c6e8a83b",
      "_dom_classes": [],
      "description": "",
      "_model_name": "HTMLModel",
      "placeholder": "​",
      "_view_module": "@jupyter-widgets/controls",
      "_model_module_version": "1.5.0",
      "value": " 3/3 [00:54&lt;00:00, 25.78s/ splits]",
      "_view_count": null,
      "_view_module_version": "1.5.0",
      "description_tooltip": null,
      "_model_module": "@jupyter-widgets/controls",
      "layout": "IPY_MODEL_4cab8c601a3f4ebe890673c0de1a5368"
     }
    },
    "ec3857746eb24cefb38f3a3a9311d7b5": {
     "model_module": "@jupyter-widgets/controls",
     "model_name": "ProgressStyleModel",
     "model_module_version": "1.5.0",
     "state": {
      "_view_name": "StyleView",
      "_model_name": "ProgressStyleModel",
      "description_width": "initial",
      "_view_module": "@jupyter-widgets/base",
      "_model_module_version": "1.5.0",
      "_view_count": null,
      "_view_module_version": "1.2.0",
      "bar_color": null,
      "_model_module": "@jupyter-widgets/controls"
     }
    },
    "8bcfcbcefe5e4faaa8089744bbb275bf": {
     "model_module": "@jupyter-widgets/base",
     "model_name": "LayoutModel",
     "model_module_version": "1.2.0",
     "state": {
      "_view_name": "LayoutView",
      "grid_template_rows": null,
      "right": null,
      "justify_content": null,
      "_view_module": "@jupyter-widgets/base",
      "overflow": null,
      "_model_module_version": "1.2.0",
      "_view_count": null,
      "flex_flow": null,
      "width": null,
      "min_width": null,
      "border": null,
      "align_items": null,
      "bottom": null,
      "_model_module": "@jupyter-widgets/base",
      "top": null,
      "grid_column": null,
      "overflow_y": null,
      "overflow_x": null,
      "grid_auto_flow": null,
      "grid_area": null,
      "grid_template_columns": null,
      "flex": null,
      "_model_name": "LayoutModel",
      "justify_items": null,
      "grid_row": null,
      "max_height": null,
      "align_content": null,
      "visibility": null,
      "align_self": null,
      "height": null,
      "min_height": null,
      "padding": null,
      "grid_auto_rows": null,
      "grid_gap": null,
      "max_width": null,
      "order": null,
      "_view_module_version": "1.2.0",
      "grid_template_areas": null,
      "object_position": null,
      "object_fit": null,
      "grid_auto_columns": null,
      "margin": null,
      "display": null,
      "left": null
     }
    },
    "8397a671776f48f3ab532a70c6e8a83b": {
     "model_module": "@jupyter-widgets/controls",
     "model_name": "DescriptionStyleModel",
     "model_module_version": "1.5.0",
     "state": {
      "_view_name": "StyleView",
      "_model_name": "DescriptionStyleModel",
      "description_width": "",
      "_view_module": "@jupyter-widgets/base",
      "_model_module_version": "1.5.0",
      "_view_count": null,
      "_view_module_version": "1.2.0",
      "_model_module": "@jupyter-widgets/controls"
     }
    },
    "4cab8c601a3f4ebe890673c0de1a5368": {
     "model_module": "@jupyter-widgets/base",
     "model_name": "LayoutModel",
     "model_module_version": "1.2.0",
     "state": {
      "_view_name": "LayoutView",
      "grid_template_rows": null,
      "right": null,
      "justify_content": null,
      "_view_module": "@jupyter-widgets/base",
      "overflow": null,
      "_model_module_version": "1.2.0",
      "_view_count": null,
      "flex_flow": null,
      "width": null,
      "min_width": null,
      "border": null,
      "align_items": null,
      "bottom": null,
      "_model_module": "@jupyter-widgets/base",
      "top": null,
      "grid_column": null,
      "overflow_y": null,
      "overflow_x": null,
      "grid_auto_flow": null,
      "grid_area": null,
      "grid_template_columns": null,
      "flex": null,
      "_model_name": "LayoutModel",
      "justify_items": null,
      "grid_row": null,
      "max_height": null,
      "align_content": null,
      "visibility": null,
      "align_self": null,
      "height": null,
      "min_height": null,
      "padding": null,
      "grid_auto_rows": null,
      "grid_gap": null,
      "max_width": null,
      "order": null,
      "_view_module_version": "1.2.0",
      "grid_template_areas": null,
      "object_position": null,
      "object_fit": null,
      "grid_auto_columns": null,
      "margin": null,
      "display": null,
      "left": null
     }
    },
    "4fb90e63bce14f66b969726d3492f859": {
     "model_module": "@jupyter-widgets/controls",
     "model_name": "HBoxModel",
     "model_module_version": "1.5.0",
     "state": {
      "_view_name": "HBoxView",
      "_dom_classes": [],
      "_model_name": "HBoxModel",
      "_view_module": "@jupyter-widgets/controls",
      "_model_module_version": "1.5.0",
      "_view_count": null,
      "_view_module_version": "1.5.0",
      "box_style": "",
      "layout": "IPY_MODEL_ec42c26b440042bfbfe490714afd3b6a",
      "_model_module": "@jupyter-widgets/controls",
      "children": [
       "IPY_MODEL_fb7db778d0964e6ebd24663cc4975af9",
       "IPY_MODEL_e2e10821d9de407ab7b9fa538d1353d7"
      ]
     }
    },
    "ec42c26b440042bfbfe490714afd3b6a": {
     "model_module": "@jupyter-widgets/base",
     "model_name": "LayoutModel",
     "model_module_version": "1.2.0",
     "state": {
      "_view_name": "LayoutView",
      "grid_template_rows": null,
      "right": null,
      "justify_content": null,
      "_view_module": "@jupyter-widgets/base",
      "overflow": null,
      "_model_module_version": "1.2.0",
      "_view_count": null,
      "flex_flow": null,
      "width": null,
      "min_width": null,
      "border": null,
      "align_items": null,
      "bottom": null,
      "_model_module": "@jupyter-widgets/base",
      "top": null,
      "grid_column": null,
      "overflow_y": null,
      "overflow_x": null,
      "grid_auto_flow": null,
      "grid_area": null,
      "grid_template_columns": null,
      "flex": null,
      "_model_name": "LayoutModel",
      "justify_items": null,
      "grid_row": null,
      "max_height": null,
      "align_content": null,
      "visibility": null,
      "align_self": null,
      "height": null,
      "min_height": null,
      "padding": null,
      "grid_auto_rows": null,
      "grid_gap": null,
      "max_width": null,
      "order": null,
      "_view_module_version": "1.2.0",
      "grid_template_areas": null,
      "object_position": null,
      "object_fit": null,
      "grid_auto_columns": null,
      "margin": null,
      "display": null,
      "left": null
     }
    },
    "fb7db778d0964e6ebd24663cc4975af9": {
     "model_module": "@jupyter-widgets/controls",
     "model_name": "FloatProgressModel",
     "model_module_version": "1.5.0",
     "state": {
      "_view_name": "ProgressView",
      "style": "IPY_MODEL_2e8eb92b8651407ea9cefc54acd599b8",
      "_dom_classes": [],
      "description": "Generating train examples...: 100%",
      "_model_name": "FloatProgressModel",
      "bar_style": "",
      "max": 208106,
      "_view_module": "@jupyter-widgets/controls",
      "_model_module_version": "1.5.0",
      "value": 208106,
      "_view_count": null,
      "_view_module_version": "1.5.0",
      "orientation": "horizontal",
      "min": 0,
      "description_tooltip": null,
      "_model_module": "@jupyter-widgets/controls",
      "layout": "IPY_MODEL_e7ca0180e4bd4603b167dce5ea8aae62"
     }
    },
    "e2e10821d9de407ab7b9fa538d1353d7": {
     "model_module": "@jupyter-widgets/controls",
     "model_name": "HTMLModel",
     "model_module_version": "1.5.0",
     "state": {
      "_view_name": "HTMLView",
      "style": "IPY_MODEL_731c155712d742b88920492c46dbfc82",
      "_dom_classes": [],
      "description": "",
      "_model_name": "HTMLModel",
      "placeholder": "​",
      "_view_module": "@jupyter-widgets/controls",
      "_model_module_version": "1.5.0",
      "value": " 208106/208106 [00:49&lt;00:00, 4236.10 examples/s]",
      "_view_count": null,
      "_view_module_version": "1.5.0",
      "description_tooltip": null,
      "_model_module": "@jupyter-widgets/controls",
      "layout": "IPY_MODEL_c415f55fd6314ca988fbe7d57a46562c"
     }
    },
    "2e8eb92b8651407ea9cefc54acd599b8": {
     "model_module": "@jupyter-widgets/controls",
     "model_name": "ProgressStyleModel",
     "model_module_version": "1.5.0",
     "state": {
      "_view_name": "StyleView",
      "_model_name": "ProgressStyleModel",
      "description_width": "initial",
      "_view_module": "@jupyter-widgets/base",
      "_model_module_version": "1.5.0",
      "_view_count": null,
      "_view_module_version": "1.2.0",
      "bar_color": null,
      "_model_module": "@jupyter-widgets/controls"
     }
    },
    "e7ca0180e4bd4603b167dce5ea8aae62": {
     "model_module": "@jupyter-widgets/base",
     "model_name": "LayoutModel",
     "model_module_version": "1.2.0",
     "state": {
      "_view_name": "LayoutView",
      "grid_template_rows": null,
      "right": null,
      "justify_content": null,
      "_view_module": "@jupyter-widgets/base",
      "overflow": null,
      "_model_module_version": "1.2.0",
      "_view_count": null,
      "flex_flow": null,
      "width": null,
      "min_width": null,
      "border": null,
      "align_items": null,
      "bottom": null,
      "_model_module": "@jupyter-widgets/base",
      "top": null,
      "grid_column": null,
      "overflow_y": null,
      "overflow_x": null,
      "grid_auto_flow": null,
      "grid_area": null,
      "grid_template_columns": null,
      "flex": null,
      "_model_name": "LayoutModel",
      "justify_items": null,
      "grid_row": null,
      "max_height": null,
      "align_content": null,
      "visibility": null,
      "align_self": null,
      "height": null,
      "min_height": null,
      "padding": null,
      "grid_auto_rows": null,
      "grid_gap": null,
      "max_width": null,
      "order": null,
      "_view_module_version": "1.2.0",
      "grid_template_areas": null,
      "object_position": null,
      "object_fit": null,
      "grid_auto_columns": null,
      "margin": null,
      "display": null,
      "left": null
     }
    },
    "731c155712d742b88920492c46dbfc82": {
     "model_module": "@jupyter-widgets/controls",
     "model_name": "DescriptionStyleModel",
     "model_module_version": "1.5.0",
     "state": {
      "_view_name": "StyleView",
      "_model_name": "DescriptionStyleModel",
      "description_width": "",
      "_view_module": "@jupyter-widgets/base",
      "_model_module_version": "1.5.0",
      "_view_count": null,
      "_view_module_version": "1.2.0",
      "_model_module": "@jupyter-widgets/controls"
     }
    },
    "c415f55fd6314ca988fbe7d57a46562c": {
     "model_module": "@jupyter-widgets/base",
     "model_name": "LayoutModel",
     "model_module_version": "1.2.0",
     "state": {
      "_view_name": "LayoutView",
      "grid_template_rows": null,
      "right": null,
      "justify_content": null,
      "_view_module": "@jupyter-widgets/base",
      "overflow": null,
      "_model_module_version": "1.2.0",
      "_view_count": null,
      "flex_flow": null,
      "width": null,
      "min_width": null,
      "border": null,
      "align_items": null,
      "bottom": null,
      "_model_module": "@jupyter-widgets/base",
      "top": null,
      "grid_column": null,
      "overflow_y": null,
      "overflow_x": null,
      "grid_auto_flow": null,
      "grid_area": null,
      "grid_template_columns": null,
      "flex": null,
      "_model_name": "LayoutModel",
      "justify_items": null,
      "grid_row": null,
      "max_height": null,
      "align_content": null,
      "visibility": null,
      "align_self": null,
      "height": null,
      "min_height": null,
      "padding": null,
      "grid_auto_rows": null,
      "grid_gap": null,
      "max_width": null,
      "order": null,
      "_view_module_version": "1.2.0",
      "grid_template_areas": null,
      "object_position": null,
      "object_fit": null,
      "grid_auto_columns": null,
      "margin": null,
      "display": null,
      "left": null
     }
    },
    "94bf7679826a4151988aa1dedfdb51e7": {
     "model_module": "@jupyter-widgets/controls",
     "model_name": "HBoxModel",
     "model_module_version": "1.5.0",
     "state": {
      "_view_name": "HBoxView",
      "_dom_classes": [],
      "_model_name": "HBoxModel",
      "_view_module": "@jupyter-widgets/controls",
      "_model_module_version": "1.5.0",
      "_view_count": null,
      "_view_module_version": "1.5.0",
      "box_style": "",
      "layout": "IPY_MODEL_d78bf48c66b94e4883753fac4f00c646",
      "_model_module": "@jupyter-widgets/controls",
      "children": [
       "IPY_MODEL_5c6ca3211d8d4e9094a26efd3e61db81",
       "IPY_MODEL_0012934e6b3749a591c0392dc2e2b314"
      ]
     }
    },
    "d78bf48c66b94e4883753fac4f00c646": {
     "model_module": "@jupyter-widgets/base",
     "model_name": "LayoutModel",
     "model_module_version": "1.2.0",
     "state": {
      "_view_name": "LayoutView",
      "grid_template_rows": null,
      "right": null,
      "justify_content": null,
      "_view_module": "@jupyter-widgets/base",
      "overflow": null,
      "_model_module_version": "1.2.0",
      "_view_count": null,
      "flex_flow": null,
      "width": null,
      "min_width": null,
      "border": null,
      "align_items": null,
      "bottom": null,
      "_model_module": "@jupyter-widgets/base",
      "top": null,
      "grid_column": null,
      "overflow_y": null,
      "overflow_x": null,
      "grid_auto_flow": null,
      "grid_area": null,
      "grid_template_columns": null,
      "flex": null,
      "_model_name": "LayoutModel",
      "justify_items": null,
      "grid_row": null,
      "max_height": null,
      "align_content": null,
      "visibility": null,
      "align_self": null,
      "height": null,
      "min_height": null,
      "padding": null,
      "grid_auto_rows": null,
      "grid_gap": null,
      "max_width": null,
      "order": null,
      "_view_module_version": "1.2.0",
      "grid_template_areas": null,
      "object_position": null,
      "object_fit": null,
      "grid_auto_columns": null,
      "margin": null,
      "display": null,
      "left": null
     }
    },
    "5c6ca3211d8d4e9094a26efd3e61db81": {
     "model_module": "@jupyter-widgets/controls",
     "model_name": "FloatProgressModel",
     "model_module_version": "1.5.0",
     "state": {
      "_view_name": "ProgressView",
      "style": "IPY_MODEL_1b582ef6b0e94dc2a191215c4e0b9ec1",
      "_dom_classes": [],
      "description": "Shuffling ted_hrlr_translate-train.tfrecord...: 100%",
      "_model_name": "FloatProgressModel",
      "bar_style": "",
      "max": 208106,
      "_view_module": "@jupyter-widgets/controls",
      "_model_module_version": "1.5.0",
      "value": 208106,
      "_view_count": null,
      "_view_module_version": "1.5.0",
      "orientation": "horizontal",
      "min": 0,
      "description_tooltip": null,
      "_model_module": "@jupyter-widgets/controls",
      "layout": "IPY_MODEL_8b78d674badb45218ae160610e1e50c6"
     }
    },
    "0012934e6b3749a591c0392dc2e2b314": {
     "model_module": "@jupyter-widgets/controls",
     "model_name": "HTMLModel",
     "model_module_version": "1.5.0",
     "state": {
      "_view_name": "HTMLView",
      "style": "IPY_MODEL_7e4c8433608c4975bbc55974881da9b5",
      "_dom_classes": [],
      "description": "",
      "_model_name": "HTMLModel",
      "placeholder": "​",
      "_view_module": "@jupyter-widgets/controls",
      "_model_module_version": "1.5.0",
      "value": " 208106/208106 [00:00&lt;00:00, 26.65 examples/s]",
      "_view_count": null,
      "_view_module_version": "1.5.0",
      "description_tooltip": null,
      "_model_module": "@jupyter-widgets/controls",
      "layout": "IPY_MODEL_2f60ce7062b948a49ce3532b8cecf167"
     }
    },
    "1b582ef6b0e94dc2a191215c4e0b9ec1": {
     "model_module": "@jupyter-widgets/controls",
     "model_name": "ProgressStyleModel",
     "model_module_version": "1.5.0",
     "state": {
      "_view_name": "StyleView",
      "_model_name": "ProgressStyleModel",
      "description_width": "initial",
      "_view_module": "@jupyter-widgets/base",
      "_model_module_version": "1.5.0",
      "_view_count": null,
      "_view_module_version": "1.2.0",
      "bar_color": null,
      "_model_module": "@jupyter-widgets/controls"
     }
    },
    "8b78d674badb45218ae160610e1e50c6": {
     "model_module": "@jupyter-widgets/base",
     "model_name": "LayoutModel",
     "model_module_version": "1.2.0",
     "state": {
      "_view_name": "LayoutView",
      "grid_template_rows": null,
      "right": null,
      "justify_content": null,
      "_view_module": "@jupyter-widgets/base",
      "overflow": null,
      "_model_module_version": "1.2.0",
      "_view_count": null,
      "flex_flow": null,
      "width": null,
      "min_width": null,
      "border": null,
      "align_items": null,
      "bottom": null,
      "_model_module": "@jupyter-widgets/base",
      "top": null,
      "grid_column": null,
      "overflow_y": null,
      "overflow_x": null,
      "grid_auto_flow": null,
      "grid_area": null,
      "grid_template_columns": null,
      "flex": null,
      "_model_name": "LayoutModel",
      "justify_items": null,
      "grid_row": null,
      "max_height": null,
      "align_content": null,
      "visibility": null,
      "align_self": null,
      "height": null,
      "min_height": null,
      "padding": null,
      "grid_auto_rows": null,
      "grid_gap": null,
      "max_width": null,
      "order": null,
      "_view_module_version": "1.2.0",
      "grid_template_areas": null,
      "object_position": null,
      "object_fit": null,
      "grid_auto_columns": null,
      "margin": null,
      "display": null,
      "left": null
     }
    },
    "7e4c8433608c4975bbc55974881da9b5": {
     "model_module": "@jupyter-widgets/controls",
     "model_name": "DescriptionStyleModel",
     "model_module_version": "1.5.0",
     "state": {
      "_view_name": "StyleView",
      "_model_name": "DescriptionStyleModel",
      "description_width": "",
      "_view_module": "@jupyter-widgets/base",
      "_model_module_version": "1.5.0",
      "_view_count": null,
      "_view_module_version": "1.2.0",
      "_model_module": "@jupyter-widgets/controls"
     }
    },
    "2f60ce7062b948a49ce3532b8cecf167": {
     "model_module": "@jupyter-widgets/base",
     "model_name": "LayoutModel",
     "model_module_version": "1.2.0",
     "state": {
      "_view_name": "LayoutView",
      "grid_template_rows": null,
      "right": null,
      "justify_content": null,
      "_view_module": "@jupyter-widgets/base",
      "overflow": null,
      "_model_module_version": "1.2.0",
      "_view_count": null,
      "flex_flow": null,
      "width": null,
      "min_width": null,
      "border": null,
      "align_items": null,
      "bottom": null,
      "_model_module": "@jupyter-widgets/base",
      "top": null,
      "grid_column": null,
      "overflow_y": null,
      "overflow_x": null,
      "grid_auto_flow": null,
      "grid_area": null,
      "grid_template_columns": null,
      "flex": null,
      "_model_name": "LayoutModel",
      "justify_items": null,
      "grid_row": null,
      "max_height": null,
      "align_content": null,
      "visibility": null,
      "align_self": null,
      "height": null,
      "min_height": null,
      "padding": null,
      "grid_auto_rows": null,
      "grid_gap": null,
      "max_width": null,
      "order": null,
      "_view_module_version": "1.2.0",
      "grid_template_areas": null,
      "object_position": null,
      "object_fit": null,
      "grid_auto_columns": null,
      "margin": null,
      "display": null,
      "left": null
     }
    },
    "b1345f4753eb48d0b422a1c4f7f3eb63": {
     "model_module": "@jupyter-widgets/controls",
     "model_name": "HBoxModel",
     "model_module_version": "1.5.0",
     "state": {
      "_view_name": "HBoxView",
      "_dom_classes": [],
      "_model_name": "HBoxModel",
      "_view_module": "@jupyter-widgets/controls",
      "_model_module_version": "1.5.0",
      "_view_count": null,
      "_view_module_version": "1.5.0",
      "box_style": "",
      "layout": "IPY_MODEL_797a294e68f842b485103a672a0c070b",
      "_model_module": "@jupyter-widgets/controls",
      "children": [
       "IPY_MODEL_4761eff8c5dc4635a1258ecc50fcfa9c",
       "IPY_MODEL_2e9da43e859e41f589e9d0397a0ac007"
      ]
     }
    },
    "797a294e68f842b485103a672a0c070b": {
     "model_module": "@jupyter-widgets/base",
     "model_name": "LayoutModel",
     "model_module_version": "1.2.0",
     "state": {
      "_view_name": "LayoutView",
      "grid_template_rows": null,
      "right": null,
      "justify_content": null,
      "_view_module": "@jupyter-widgets/base",
      "overflow": null,
      "_model_module_version": "1.2.0",
      "_view_count": null,
      "flex_flow": null,
      "width": null,
      "min_width": null,
      "border": null,
      "align_items": null,
      "bottom": null,
      "_model_module": "@jupyter-widgets/base",
      "top": null,
      "grid_column": null,
      "overflow_y": null,
      "overflow_x": null,
      "grid_auto_flow": null,
      "grid_area": null,
      "grid_template_columns": null,
      "flex": null,
      "_model_name": "LayoutModel",
      "justify_items": null,
      "grid_row": null,
      "max_height": null,
      "align_content": null,
      "visibility": null,
      "align_self": null,
      "height": null,
      "min_height": null,
      "padding": null,
      "grid_auto_rows": null,
      "grid_gap": null,
      "max_width": null,
      "order": null,
      "_view_module_version": "1.2.0",
      "grid_template_areas": null,
      "object_position": null,
      "object_fit": null,
      "grid_auto_columns": null,
      "margin": null,
      "display": null,
      "left": null
     }
    },
    "4761eff8c5dc4635a1258ecc50fcfa9c": {
     "model_module": "@jupyter-widgets/controls",
     "model_name": "FloatProgressModel",
     "model_module_version": "1.5.0",
     "state": {
      "_view_name": "ProgressView",
      "style": "IPY_MODEL_39825e80c1ff4941bbb280a42a5c6a6a",
      "_dom_classes": [],
      "description": "Generating validation examples...: 100%",
      "_model_name": "FloatProgressModel",
      "bar_style": "",
      "max": 4805,
      "_view_module": "@jupyter-widgets/controls",
      "_model_module_version": "1.5.0",
      "value": 4805,
      "_view_count": null,
      "_view_module_version": "1.5.0",
      "orientation": "horizontal",
      "min": 0,
      "description_tooltip": null,
      "_model_module": "@jupyter-widgets/controls",
      "layout": "IPY_MODEL_08da0fbbb5474965bcd9d740bdfc2b2c"
     }
    },
    "2e9da43e859e41f589e9d0397a0ac007": {
     "model_module": "@jupyter-widgets/controls",
     "model_name": "HTMLModel",
     "model_module_version": "1.5.0",
     "state": {
      "_view_name": "HTMLView",
      "style": "IPY_MODEL_f4cfb380b1b44db48eb2fcdb6e4bc988",
      "_dom_classes": [],
      "description": "",
      "_model_name": "HTMLModel",
      "placeholder": "​",
      "_view_module": "@jupyter-widgets/controls",
      "_model_module_version": "1.5.0",
      "value": " 4805/4805 [00:01&lt;00:00, 3825.32 examples/s]",
      "_view_count": null,
      "_view_module_version": "1.5.0",
      "description_tooltip": null,
      "_model_module": "@jupyter-widgets/controls",
      "layout": "IPY_MODEL_c7ced3b9e6cf4f1da5ca7a1a838870aa"
     }
    },
    "39825e80c1ff4941bbb280a42a5c6a6a": {
     "model_module": "@jupyter-widgets/controls",
     "model_name": "ProgressStyleModel",
     "model_module_version": "1.5.0",
     "state": {
      "_view_name": "StyleView",
      "_model_name": "ProgressStyleModel",
      "description_width": "initial",
      "_view_module": "@jupyter-widgets/base",
      "_model_module_version": "1.5.0",
      "_view_count": null,
      "_view_module_version": "1.2.0",
      "bar_color": null,
      "_model_module": "@jupyter-widgets/controls"
     }
    },
    "08da0fbbb5474965bcd9d740bdfc2b2c": {
     "model_module": "@jupyter-widgets/base",
     "model_name": "LayoutModel",
     "model_module_version": "1.2.0",
     "state": {
      "_view_name": "LayoutView",
      "grid_template_rows": null,
      "right": null,
      "justify_content": null,
      "_view_module": "@jupyter-widgets/base",
      "overflow": null,
      "_model_module_version": "1.2.0",
      "_view_count": null,
      "flex_flow": null,
      "width": null,
      "min_width": null,
      "border": null,
      "align_items": null,
      "bottom": null,
      "_model_module": "@jupyter-widgets/base",
      "top": null,
      "grid_column": null,
      "overflow_y": null,
      "overflow_x": null,
      "grid_auto_flow": null,
      "grid_area": null,
      "grid_template_columns": null,
      "flex": null,
      "_model_name": "LayoutModel",
      "justify_items": null,
      "grid_row": null,
      "max_height": null,
      "align_content": null,
      "visibility": null,
      "align_self": null,
      "height": null,
      "min_height": null,
      "padding": null,
      "grid_auto_rows": null,
      "grid_gap": null,
      "max_width": null,
      "order": null,
      "_view_module_version": "1.2.0",
      "grid_template_areas": null,
      "object_position": null,
      "object_fit": null,
      "grid_auto_columns": null,
      "margin": null,
      "display": null,
      "left": null
     }
    },
    "f4cfb380b1b44db48eb2fcdb6e4bc988": {
     "model_module": "@jupyter-widgets/controls",
     "model_name": "DescriptionStyleModel",
     "model_module_version": "1.5.0",
     "state": {
      "_view_name": "StyleView",
      "_model_name": "DescriptionStyleModel",
      "description_width": "",
      "_view_module": "@jupyter-widgets/base",
      "_model_module_version": "1.5.0",
      "_view_count": null,
      "_view_module_version": "1.2.0",
      "_model_module": "@jupyter-widgets/controls"
     }
    },
    "c7ced3b9e6cf4f1da5ca7a1a838870aa": {
     "model_module": "@jupyter-widgets/base",
     "model_name": "LayoutModel",
     "model_module_version": "1.2.0",
     "state": {
      "_view_name": "LayoutView",
      "grid_template_rows": null,
      "right": null,
      "justify_content": null,
      "_view_module": "@jupyter-widgets/base",
      "overflow": null,
      "_model_module_version": "1.2.0",
      "_view_count": null,
      "flex_flow": null,
      "width": null,
      "min_width": null,
      "border": null,
      "align_items": null,
      "bottom": null,
      "_model_module": "@jupyter-widgets/base",
      "top": null,
      "grid_column": null,
      "overflow_y": null,
      "overflow_x": null,
      "grid_auto_flow": null,
      "grid_area": null,
      "grid_template_columns": null,
      "flex": null,
      "_model_name": "LayoutModel",
      "justify_items": null,
      "grid_row": null,
      "max_height": null,
      "align_content": null,
      "visibility": null,
      "align_self": null,
      "height": null,
      "min_height": null,
      "padding": null,
      "grid_auto_rows": null,
      "grid_gap": null,
      "max_width": null,
      "order": null,
      "_view_module_version": "1.2.0",
      "grid_template_areas": null,
      "object_position": null,
      "object_fit": null,
      "grid_auto_columns": null,
      "margin": null,
      "display": null,
      "left": null
     }
    },
    "1d791c46665b4c139b682f4f9a52adb6": {
     "model_module": "@jupyter-widgets/controls",
     "model_name": "HBoxModel",
     "model_module_version": "1.5.0",
     "state": {
      "_view_name": "HBoxView",
      "_dom_classes": [],
      "_model_name": "HBoxModel",
      "_view_module": "@jupyter-widgets/controls",
      "_model_module_version": "1.5.0",
      "_view_count": null,
      "_view_module_version": "1.5.0",
      "box_style": "",
      "layout": "IPY_MODEL_8a620df9673f42da96b823177273ba0c",
      "_model_module": "@jupyter-widgets/controls",
      "children": [
       "IPY_MODEL_9e034d6901c1400fa6901962afa87302",
       "IPY_MODEL_e6822d59567e42b89f1c6f6e499b31c8"
      ]
     }
    },
    "8a620df9673f42da96b823177273ba0c": {
     "model_module": "@jupyter-widgets/base",
     "model_name": "LayoutModel",
     "model_module_version": "1.2.0",
     "state": {
      "_view_name": "LayoutView",
      "grid_template_rows": null,
      "right": null,
      "justify_content": null,
      "_view_module": "@jupyter-widgets/base",
      "overflow": null,
      "_model_module_version": "1.2.0",
      "_view_count": null,
      "flex_flow": null,
      "width": null,
      "min_width": null,
      "border": null,
      "align_items": null,
      "bottom": null,
      "_model_module": "@jupyter-widgets/base",
      "top": null,
      "grid_column": null,
      "overflow_y": null,
      "overflow_x": null,
      "grid_auto_flow": null,
      "grid_area": null,
      "grid_template_columns": null,
      "flex": null,
      "_model_name": "LayoutModel",
      "justify_items": null,
      "grid_row": null,
      "max_height": null,
      "align_content": null,
      "visibility": null,
      "align_self": null,
      "height": null,
      "min_height": null,
      "padding": null,
      "grid_auto_rows": null,
      "grid_gap": null,
      "max_width": null,
      "order": null,
      "_view_module_version": "1.2.0",
      "grid_template_areas": null,
      "object_position": null,
      "object_fit": null,
      "grid_auto_columns": null,
      "margin": null,
      "display": null,
      "left": null
     }
    },
    "9e034d6901c1400fa6901962afa87302": {
     "model_module": "@jupyter-widgets/controls",
     "model_name": "FloatProgressModel",
     "model_module_version": "1.5.0",
     "state": {
      "_view_name": "ProgressView",
      "style": "IPY_MODEL_9ada79de420748b9a5f0501e693226b4",
      "_dom_classes": [],
      "description": "Shuffling ted_hrlr_translate-validation.tfrecord...: 100%",
      "_model_name": "FloatProgressModel",
      "bar_style": "",
      "max": 4805,
      "_view_module": "@jupyter-widgets/controls",
      "_model_module_version": "1.5.0",
      "value": 4805,
      "_view_count": null,
      "_view_module_version": "1.5.0",
      "orientation": "horizontal",
      "min": 0,
      "description_tooltip": null,
      "_model_module": "@jupyter-widgets/controls",
      "layout": "IPY_MODEL_0fea64ec323749aebe6a8a2fc7090dc4"
     }
    },
    "e6822d59567e42b89f1c6f6e499b31c8": {
     "model_module": "@jupyter-widgets/controls",
     "model_name": "HTMLModel",
     "model_module_version": "1.5.0",
     "state": {
      "_view_name": "HTMLView",
      "style": "IPY_MODEL_90e4b59be9b54594b836ee17012d6eb2",
      "_dom_classes": [],
      "description": "",
      "_model_name": "HTMLModel",
      "placeholder": "​",
      "_view_module": "@jupyter-widgets/controls",
      "_model_module_version": "1.5.0",
      "value": " 4805/4805 [00:00&lt;00:00, 71006.49 examples/s]",
      "_view_count": null,
      "_view_module_version": "1.5.0",
      "description_tooltip": null,
      "_model_module": "@jupyter-widgets/controls",
      "layout": "IPY_MODEL_9226f041bed94463a5b9ccd0197f93d8"
     }
    },
    "9ada79de420748b9a5f0501e693226b4": {
     "model_module": "@jupyter-widgets/controls",
     "model_name": "ProgressStyleModel",
     "model_module_version": "1.5.0",
     "state": {
      "_view_name": "StyleView",
      "_model_name": "ProgressStyleModel",
      "description_width": "initial",
      "_view_module": "@jupyter-widgets/base",
      "_model_module_version": "1.5.0",
      "_view_count": null,
      "_view_module_version": "1.2.0",
      "bar_color": null,
      "_model_module": "@jupyter-widgets/controls"
     }
    },
    "0fea64ec323749aebe6a8a2fc7090dc4": {
     "model_module": "@jupyter-widgets/base",
     "model_name": "LayoutModel",
     "model_module_version": "1.2.0",
     "state": {
      "_view_name": "LayoutView",
      "grid_template_rows": null,
      "right": null,
      "justify_content": null,
      "_view_module": "@jupyter-widgets/base",
      "overflow": null,
      "_model_module_version": "1.2.0",
      "_view_count": null,
      "flex_flow": null,
      "width": null,
      "min_width": null,
      "border": null,
      "align_items": null,
      "bottom": null,
      "_model_module": "@jupyter-widgets/base",
      "top": null,
      "grid_column": null,
      "overflow_y": null,
      "overflow_x": null,
      "grid_auto_flow": null,
      "grid_area": null,
      "grid_template_columns": null,
      "flex": null,
      "_model_name": "LayoutModel",
      "justify_items": null,
      "grid_row": null,
      "max_height": null,
      "align_content": null,
      "visibility": null,
      "align_self": null,
      "height": null,
      "min_height": null,
      "padding": null,
      "grid_auto_rows": null,
      "grid_gap": null,
      "max_width": null,
      "order": null,
      "_view_module_version": "1.2.0",
      "grid_template_areas": null,
      "object_position": null,
      "object_fit": null,
      "grid_auto_columns": null,
      "margin": null,
      "display": null,
      "left": null
     }
    },
    "90e4b59be9b54594b836ee17012d6eb2": {
     "model_module": "@jupyter-widgets/controls",
     "model_name": "DescriptionStyleModel",
     "model_module_version": "1.5.0",
     "state": {
      "_view_name": "StyleView",
      "_model_name": "DescriptionStyleModel",
      "description_width": "",
      "_view_module": "@jupyter-widgets/base",
      "_model_module_version": "1.5.0",
      "_view_count": null,
      "_view_module_version": "1.2.0",
      "_model_module": "@jupyter-widgets/controls"
     }
    },
    "9226f041bed94463a5b9ccd0197f93d8": {
     "model_module": "@jupyter-widgets/base",
     "model_name": "LayoutModel",
     "model_module_version": "1.2.0",
     "state": {
      "_view_name": "LayoutView",
      "grid_template_rows": null,
      "right": null,
      "justify_content": null,
      "_view_module": "@jupyter-widgets/base",
      "overflow": null,
      "_model_module_version": "1.2.0",
      "_view_count": null,
      "flex_flow": null,
      "width": null,
      "min_width": null,
      "border": null,
      "align_items": null,
      "bottom": null,
      "_model_module": "@jupyter-widgets/base",
      "top": null,
      "grid_column": null,
      "overflow_y": null,
      "overflow_x": null,
      "grid_auto_flow": null,
      "grid_area": null,
      "grid_template_columns": null,
      "flex": null,
      "_model_name": "LayoutModel",
      "justify_items": null,
      "grid_row": null,
      "max_height": null,
      "align_content": null,
      "visibility": null,
      "align_self": null,
      "height": null,
      "min_height": null,
      "padding": null,
      "grid_auto_rows": null,
      "grid_gap": null,
      "max_width": null,
      "order": null,
      "_view_module_version": "1.2.0",
      "grid_template_areas": null,
      "object_position": null,
      "object_fit": null,
      "grid_auto_columns": null,
      "margin": null,
      "display": null,
      "left": null
     }
    },
    "d6b125d137854fb69f4aae2515a9306c": {
     "model_module": "@jupyter-widgets/controls",
     "model_name": "HBoxModel",
     "model_module_version": "1.5.0",
     "state": {
      "_view_name": "HBoxView",
      "_dom_classes": [],
      "_model_name": "HBoxModel",
      "_view_module": "@jupyter-widgets/controls",
      "_model_module_version": "1.5.0",
      "_view_count": null,
      "_view_module_version": "1.5.0",
      "box_style": "",
      "layout": "IPY_MODEL_8931b1c317484f71ba0c82f2dcbf5f20",
      "_model_module": "@jupyter-widgets/controls",
      "children": [
       "IPY_MODEL_882bb37c23414128bf90a046a39015de",
       "IPY_MODEL_8b35ce822c274cabb501d3eb62a1122e"
      ]
     }
    },
    "8931b1c317484f71ba0c82f2dcbf5f20": {
     "model_module": "@jupyter-widgets/base",
     "model_name": "LayoutModel",
     "model_module_version": "1.2.0",
     "state": {
      "_view_name": "LayoutView",
      "grid_template_rows": null,
      "right": null,
      "justify_content": null,
      "_view_module": "@jupyter-widgets/base",
      "overflow": null,
      "_model_module_version": "1.2.0",
      "_view_count": null,
      "flex_flow": null,
      "width": null,
      "min_width": null,
      "border": null,
      "align_items": null,
      "bottom": null,
      "_model_module": "@jupyter-widgets/base",
      "top": null,
      "grid_column": null,
      "overflow_y": null,
      "overflow_x": null,
      "grid_auto_flow": null,
      "grid_area": null,
      "grid_template_columns": null,
      "flex": null,
      "_model_name": "LayoutModel",
      "justify_items": null,
      "grid_row": null,
      "max_height": null,
      "align_content": null,
      "visibility": null,
      "align_self": null,
      "height": null,
      "min_height": null,
      "padding": null,
      "grid_auto_rows": null,
      "grid_gap": null,
      "max_width": null,
      "order": null,
      "_view_module_version": "1.2.0",
      "grid_template_areas": null,
      "object_position": null,
      "object_fit": null,
      "grid_auto_columns": null,
      "margin": null,
      "display": null,
      "left": null
     }
    },
    "882bb37c23414128bf90a046a39015de": {
     "model_module": "@jupyter-widgets/controls",
     "model_name": "FloatProgressModel",
     "model_module_version": "1.5.0",
     "state": {
      "_view_name": "ProgressView",
      "style": "IPY_MODEL_ad6d463c03d845858779551116f99c9c",
      "_dom_classes": [],
      "description": "Generating test examples...: 100%",
      "_model_name": "FloatProgressModel",
      "bar_style": "",
      "max": 5476,
      "_view_module": "@jupyter-widgets/controls",
      "_model_module_version": "1.5.0",
      "value": 5476,
      "_view_count": null,
      "_view_module_version": "1.5.0",
      "orientation": "horizontal",
      "min": 0,
      "description_tooltip": null,
      "_model_module": "@jupyter-widgets/controls",
      "layout": "IPY_MODEL_5cb4f9d7ef3049c9bd409ccd36bc5c64"
     }
    },
    "8b35ce822c274cabb501d3eb62a1122e": {
     "model_module": "@jupyter-widgets/controls",
     "model_name": "HTMLModel",
     "model_module_version": "1.5.0",
     "state": {
      "_view_name": "HTMLView",
      "style": "IPY_MODEL_c3a278dd5aa94b6abdd9e1f1f72eb8e2",
      "_dom_classes": [],
      "description": "",
      "_model_name": "HTMLModel",
      "placeholder": "​",
      "_view_module": "@jupyter-widgets/controls",
      "_model_module_version": "1.5.0",
      "value": " 5476/5476 [00:01&lt;00:00, 3741.79 examples/s]",
      "_view_count": null,
      "_view_module_version": "1.5.0",
      "description_tooltip": null,
      "_model_module": "@jupyter-widgets/controls",
      "layout": "IPY_MODEL_6aea69d3de59471591c98cebdf7d9a2b"
     }
    },
    "ad6d463c03d845858779551116f99c9c": {
     "model_module": "@jupyter-widgets/controls",
     "model_name": "ProgressStyleModel",
     "model_module_version": "1.5.0",
     "state": {
      "_view_name": "StyleView",
      "_model_name": "ProgressStyleModel",
      "description_width": "initial",
      "_view_module": "@jupyter-widgets/base",
      "_model_module_version": "1.5.0",
      "_view_count": null,
      "_view_module_version": "1.2.0",
      "bar_color": null,
      "_model_module": "@jupyter-widgets/controls"
     }
    },
    "5cb4f9d7ef3049c9bd409ccd36bc5c64": {
     "model_module": "@jupyter-widgets/base",
     "model_name": "LayoutModel",
     "model_module_version": "1.2.0",
     "state": {
      "_view_name": "LayoutView",
      "grid_template_rows": null,
      "right": null,
      "justify_content": null,
      "_view_module": "@jupyter-widgets/base",
      "overflow": null,
      "_model_module_version": "1.2.0",
      "_view_count": null,
      "flex_flow": null,
      "width": null,
      "min_width": null,
      "border": null,
      "align_items": null,
      "bottom": null,
      "_model_module": "@jupyter-widgets/base",
      "top": null,
      "grid_column": null,
      "overflow_y": null,
      "overflow_x": null,
      "grid_auto_flow": null,
      "grid_area": null,
      "grid_template_columns": null,
      "flex": null,
      "_model_name": "LayoutModel",
      "justify_items": null,
      "grid_row": null,
      "max_height": null,
      "align_content": null,
      "visibility": null,
      "align_self": null,
      "height": null,
      "min_height": null,
      "padding": null,
      "grid_auto_rows": null,
      "grid_gap": null,
      "max_width": null,
      "order": null,
      "_view_module_version": "1.2.0",
      "grid_template_areas": null,
      "object_position": null,
      "object_fit": null,
      "grid_auto_columns": null,
      "margin": null,
      "display": null,
      "left": null
     }
    },
    "c3a278dd5aa94b6abdd9e1f1f72eb8e2": {
     "model_module": "@jupyter-widgets/controls",
     "model_name": "DescriptionStyleModel",
     "model_module_version": "1.5.0",
     "state": {
      "_view_name": "StyleView",
      "_model_name": "DescriptionStyleModel",
      "description_width": "",
      "_view_module": "@jupyter-widgets/base",
      "_model_module_version": "1.5.0",
      "_view_count": null,
      "_view_module_version": "1.2.0",
      "_model_module": "@jupyter-widgets/controls"
     }
    },
    "6aea69d3de59471591c98cebdf7d9a2b": {
     "model_module": "@jupyter-widgets/base",
     "model_name": "LayoutModel",
     "model_module_version": "1.2.0",
     "state": {
      "_view_name": "LayoutView",
      "grid_template_rows": null,
      "right": null,
      "justify_content": null,
      "_view_module": "@jupyter-widgets/base",
      "overflow": null,
      "_model_module_version": "1.2.0",
      "_view_count": null,
      "flex_flow": null,
      "width": null,
      "min_width": null,
      "border": null,
      "align_items": null,
      "bottom": null,
      "_model_module": "@jupyter-widgets/base",
      "top": null,
      "grid_column": null,
      "overflow_y": null,
      "overflow_x": null,
      "grid_auto_flow": null,
      "grid_area": null,
      "grid_template_columns": null,
      "flex": null,
      "_model_name": "LayoutModel",
      "justify_items": null,
      "grid_row": null,
      "max_height": null,
      "align_content": null,
      "visibility": null,
      "align_self": null,
      "height": null,
      "min_height": null,
      "padding": null,
      "grid_auto_rows": null,
      "grid_gap": null,
      "max_width": null,
      "order": null,
      "_view_module_version": "1.2.0",
      "grid_template_areas": null,
      "object_position": null,
      "object_fit": null,
      "grid_auto_columns": null,
      "margin": null,
      "display": null,
      "left": null
     }
    },
    "00374d1cd271407bb5a34d85c66359fa": {
     "model_module": "@jupyter-widgets/controls",
     "model_name": "HBoxModel",
     "model_module_version": "1.5.0",
     "state": {
      "_view_name": "HBoxView",
      "_dom_classes": [],
      "_model_name": "HBoxModel",
      "_view_module": "@jupyter-widgets/controls",
      "_model_module_version": "1.5.0",
      "_view_count": null,
      "_view_module_version": "1.5.0",
      "box_style": "",
      "layout": "IPY_MODEL_8aa57452be3a4b81b23daf2d0aa1b9e2",
      "_model_module": "@jupyter-widgets/controls",
      "children": [
       "IPY_MODEL_a9535597d09d47ca8aa5e8cdd5e5c8cf",
       "IPY_MODEL_4a62ef4f82e649d088e6aa0d31664423"
      ]
     }
    },
    "8aa57452be3a4b81b23daf2d0aa1b9e2": {
     "model_module": "@jupyter-widgets/base",
     "model_name": "LayoutModel",
     "model_module_version": "1.2.0",
     "state": {
      "_view_name": "LayoutView",
      "grid_template_rows": null,
      "right": null,
      "justify_content": null,
      "_view_module": "@jupyter-widgets/base",
      "overflow": null,
      "_model_module_version": "1.2.0",
      "_view_count": null,
      "flex_flow": null,
      "width": null,
      "min_width": null,
      "border": null,
      "align_items": null,
      "bottom": null,
      "_model_module": "@jupyter-widgets/base",
      "top": null,
      "grid_column": null,
      "overflow_y": null,
      "overflow_x": null,
      "grid_auto_flow": null,
      "grid_area": null,
      "grid_template_columns": null,
      "flex": null,
      "_model_name": "LayoutModel",
      "justify_items": null,
      "grid_row": null,
      "max_height": null,
      "align_content": null,
      "visibility": null,
      "align_self": null,
      "height": null,
      "min_height": null,
      "padding": null,
      "grid_auto_rows": null,
      "grid_gap": null,
      "max_width": null,
      "order": null,
      "_view_module_version": "1.2.0",
      "grid_template_areas": null,
      "object_position": null,
      "object_fit": null,
      "grid_auto_columns": null,
      "margin": null,
      "display": null,
      "left": null
     }
    },
    "a9535597d09d47ca8aa5e8cdd5e5c8cf": {
     "model_module": "@jupyter-widgets/controls",
     "model_name": "FloatProgressModel",
     "model_module_version": "1.5.0",
     "state": {
      "_view_name": "ProgressView",
      "style": "IPY_MODEL_79e3f02510d141018771ad7355197d4d",
      "_dom_classes": [],
      "description": "Shuffling ted_hrlr_translate-test.tfrecord...: 100%",
      "_model_name": "FloatProgressModel",
      "bar_style": "",
      "max": 5476,
      "_view_module": "@jupyter-widgets/controls",
      "_model_module_version": "1.5.0",
      "value": 5476,
      "_view_count": null,
      "_view_module_version": "1.5.0",
      "orientation": "horizontal",
      "min": 0,
      "description_tooltip": null,
      "_model_module": "@jupyter-widgets/controls",
      "layout": "IPY_MODEL_e118702c2b194c8b85700c625cd908f8"
     }
    },
    "4a62ef4f82e649d088e6aa0d31664423": {
     "model_module": "@jupyter-widgets/controls",
     "model_name": "HTMLModel",
     "model_module_version": "1.5.0",
     "state": {
      "_view_name": "HTMLView",
      "style": "IPY_MODEL_e7f0bc093be44dfd92df6a6d036ae58f",
      "_dom_classes": [],
      "description": "",
      "_model_name": "HTMLModel",
      "placeholder": "​",
      "_view_module": "@jupyter-widgets/controls",
      "_model_module_version": "1.5.0",
      "value": " 5476/5476 [00:00&lt;00:00, 81471.69 examples/s]",
      "_view_count": null,
      "_view_module_version": "1.5.0",
      "description_tooltip": null,
      "_model_module": "@jupyter-widgets/controls",
      "layout": "IPY_MODEL_1bcc2844f8f7449bb01f530074c78714"
     }
    },
    "79e3f02510d141018771ad7355197d4d": {
     "model_module": "@jupyter-widgets/controls",
     "model_name": "ProgressStyleModel",
     "model_module_version": "1.5.0",
     "state": {
      "_view_name": "StyleView",
      "_model_name": "ProgressStyleModel",
      "description_width": "initial",
      "_view_module": "@jupyter-widgets/base",
      "_model_module_version": "1.5.0",
      "_view_count": null,
      "_view_module_version": "1.2.0",
      "bar_color": null,
      "_model_module": "@jupyter-widgets/controls"
     }
    },
    "e118702c2b194c8b85700c625cd908f8": {
     "model_module": "@jupyter-widgets/base",
     "model_name": "LayoutModel",
     "model_module_version": "1.2.0",
     "state": {
      "_view_name": "LayoutView",
      "grid_template_rows": null,
      "right": null,
      "justify_content": null,
      "_view_module": "@jupyter-widgets/base",
      "overflow": null,
      "_model_module_version": "1.2.0",
      "_view_count": null,
      "flex_flow": null,
      "width": null,
      "min_width": null,
      "border": null,
      "align_items": null,
      "bottom": null,
      "_model_module": "@jupyter-widgets/base",
      "top": null,
      "grid_column": null,
      "overflow_y": null,
      "overflow_x": null,
      "grid_auto_flow": null,
      "grid_area": null,
      "grid_template_columns": null,
      "flex": null,
      "_model_name": "LayoutModel",
      "justify_items": null,
      "grid_row": null,
      "max_height": null,
      "align_content": null,
      "visibility": null,
      "align_self": null,
      "height": null,
      "min_height": null,
      "padding": null,
      "grid_auto_rows": null,
      "grid_gap": null,
      "max_width": null,
      "order": null,
      "_view_module_version": "1.2.0",
      "grid_template_areas": null,
      "object_position": null,
      "object_fit": null,
      "grid_auto_columns": null,
      "margin": null,
      "display": null,
      "left": null
     }
    },
    "e7f0bc093be44dfd92df6a6d036ae58f": {
     "model_module": "@jupyter-widgets/controls",
     "model_name": "DescriptionStyleModel",
     "model_module_version": "1.5.0",
     "state": {
      "_view_name": "StyleView",
      "_model_name": "DescriptionStyleModel",
      "description_width": "",
      "_view_module": "@jupyter-widgets/base",
      "_model_module_version": "1.5.0",
      "_view_count": null,
      "_view_module_version": "1.2.0",
      "_model_module": "@jupyter-widgets/controls"
     }
    },
    "1bcc2844f8f7449bb01f530074c78714": {
     "model_module": "@jupyter-widgets/base",
     "model_name": "LayoutModel",
     "model_module_version": "1.2.0",
     "state": {
      "_view_name": "LayoutView",
      "grid_template_rows": null,
      "right": null,
      "justify_content": null,
      "_view_module": "@jupyter-widgets/base",
      "overflow": null,
      "_model_module_version": "1.2.0",
      "_view_count": null,
      "flex_flow": null,
      "width": null,
      "min_width": null,
      "border": null,
      "align_items": null,
      "bottom": null,
      "_model_module": "@jupyter-widgets/base",
      "top": null,
      "grid_column": null,
      "overflow_y": null,
      "overflow_x": null,
      "grid_auto_flow": null,
      "grid_area": null,
      "grid_template_columns": null,
      "flex": null,
      "_model_name": "LayoutModel",
      "justify_items": null,
      "grid_row": null,
      "max_height": null,
      "align_content": null,
      "visibility": null,
      "align_self": null,
      "height": null,
      "min_height": null,
      "padding": null,
      "grid_auto_rows": null,
      "grid_gap": null,
      "max_width": null,
      "order": null,
      "_view_module_version": "1.2.0",
      "grid_template_areas": null,
      "object_position": null,
      "object_fit": null,
      "grid_auto_columns": null,
      "margin": null,
      "display": null,
      "left": null
     }
    }
   }
  }
 },
 "cells": [
  {
   "cell_type": "markdown",
   "metadata": {
    "id": "J0Qjg6vuaHNt",
    "pycharm": {
     "name": "#%% md\n"
    }
   },
   "source": [
    "# Transformer model for language understanding"
   ]
  },
  {
   "cell_type": "markdown",
   "metadata": {
    "id": "M-f8TnGpE_ex",
    "pycharm": {
     "name": "#%% md\n"
    }
   },
   "source": [
    "Основная идея, лежащая в основе модели Transformer, - это самовнимание - способность отслеживать различные позиции входной последовательности для вычисления представления этой последовательности. Transformer создает стопки слоев самовнимания, что объясняется ниже в разделах « Масштабируемое скалярное произведение» и « Многоголовое внимание» .\n",
    "\n",
    "Модель преобразователя обрабатывает входные данные переменного размера, используя стопки слоев самовнимания вместо RNN или CNN . Эта общая архитектура имеет ряд преимуществ:\n",
    "\n",
    "* Он не делает никаких предположений о временных / пространственных отношениях между данными. Это идеально подходит для обработки набора объектов.\n",
    "* Выходы уровня можно вычислять параллельно, а не последовательно, как RNN.\n",
    "* Отдаленные элементы могут влиять на вывод друг друга, не проходя через множество RNN-шагов или слоев свертки (например, см. Преобразователь памяти сцены ).\n",
    "* Он может изучать дальнодействующие зависимости. Это проблема для многих задач последовательности.\n",
    "\n",
    "Минусы этой архитектуры:\n",
    "\n",
    "* Для временного ряда выход для временного шага рассчитывается из всей истории, а не только из входных данных и текущего скрытого состояния. Это может быть менее эффективно.\n",
    "* Если вход действительно имеет временное / пространственное соотношение, как текст, должно быть добавлено некоторое позиционное кодирование или модель будет эффективно увидеть мешок слов.\n",
    "\n",
    "После обучения модели вы сможете ввести предложение на русском и вернуть перевод на английском.\n",
    "\n",
    "\n",
    "<img src=\"https://www.tensorflow.org/images/tutorials/transformer/attention_map_portuguese.png\" width=\"800\" alt=\"Attention heatmap\">"
   ]
  },
  {
   "cell_type": "code",
   "metadata": {
    "colab": {
     "base_uri": "https://localhost:8080/"
    },
    "id": "XFG0NDRu5mYQ",
    "outputId": "22120829-8a6d-417d-8ad6-6885c63b6450",
    "pycharm": {
     "name": "#%%\n"
    }
   },
   "source": [
    "!pip install -q tfds-nightly\n",
    "\n",
    "# Pin matplotlib version to 3.2.2 since in the latest version\n",
    "# transformer.ipynb fails with the following error:\n",
    "# https://stackoverflow.com/questions/62953704/valueerror-the-number-of-fixedlocator-locations-5-usually-from-a-call-to-set\n",
    "!pip install matplotlib==3.2.2"
   ],
   "execution_count": 2,
   "outputs": [
    {
     "name": "stdout",
     "output_type": "stream",
     "text": [
      "\r\n",
      "\u001B[1m[\u001B[0m\u001B[34;49mnotice\u001B[0m\u001B[1;39;49m]\u001B[0m\u001B[39;49m A new release of pip is available: \u001B[0m\u001B[31;49m23.1.1\u001B[0m\u001B[39;49m -> \u001B[0m\u001B[32;49m23.1.2\u001B[0m\r\n",
      "\u001B[1m[\u001B[0m\u001B[34;49mnotice\u001B[0m\u001B[1;39;49m]\u001B[0m\u001B[39;49m To update, run: \u001B[0m\u001B[32;49mpip install --upgrade pip\u001B[0m\r\n",
      "Collecting matplotlib==3.2.2\r\n",
      "  Using cached matplotlib-3.2.2.tar.gz (40.3 MB)\r\n",
      "  Preparing metadata (setup.py) ... \u001B[?25ldone\r\n",
      "\u001B[?25hRequirement already satisfied: cycler>=0.10 in /home/kmv/projects/data_science/dsvenv/lib/python3.10/site-packages (from matplotlib==3.2.2) (0.11.0)\r\n",
      "Requirement already satisfied: kiwisolver>=1.0.1 in /home/kmv/projects/data_science/dsvenv/lib/python3.10/site-packages (from matplotlib==3.2.2) (1.4.4)\r\n",
      "Requirement already satisfied: numpy>=1.11 in /home/kmv/projects/data_science/dsvenv/lib/python3.10/site-packages (from matplotlib==3.2.2) (1.23.5)\r\n",
      "Requirement already satisfied: pyparsing!=2.0.4,!=2.1.2,!=2.1.6,>=2.0.1 in /home/kmv/projects/data_science/dsvenv/lib/python3.10/site-packages (from matplotlib==3.2.2) (3.0.9)\r\n",
      "Requirement already satisfied: python-dateutil>=2.1 in /home/kmv/projects/data_science/dsvenv/lib/python3.10/site-packages (from matplotlib==3.2.2) (2.8.2)\r\n",
      "Requirement already satisfied: six>=1.5 in /home/kmv/projects/data_science/dsvenv/lib/python3.10/site-packages (from python-dateutil>=2.1->matplotlib==3.2.2) (1.16.0)\r\n",
      "Building wheels for collected packages: matplotlib\r\n",
      "  Building wheel for matplotlib (setup.py) ... \u001B[?25lerror\r\n",
      "  \u001B[1;31merror\u001B[0m: \u001B[1msubprocess-exited-with-error\u001B[0m\r\n",
      "  \r\n",
      "  \u001B[31m×\u001B[0m \u001B[32mpython setup.py bdist_wheel\u001B[0m did not run successfully.\r\n",
      "  \u001B[31m│\u001B[0m exit code: \u001B[1;36m1\u001B[0m\r\n",
      "  \u001B[31m╰─>\u001B[0m \u001B[31m[595 lines of output]\u001B[0m\r\n",
      "  \u001B[31m   \u001B[0m \r\n",
      "  \u001B[31m   \u001B[0m Edit setup.cfg to change the build options; suppress output with --quiet.\r\n",
      "  \u001B[31m   \u001B[0m \r\n",
      "  \u001B[31m   \u001B[0m BUILDING MATPLOTLIB\r\n",
      "  \u001B[31m   \u001B[0m   matplotlib: yes [3.2.2]\r\n",
      "  \u001B[31m   \u001B[0m       python: yes [3.10.11 (main, Apr  5 2023, 14:15:10) [GCC 9.4.0]]\r\n",
      "  \u001B[31m   \u001B[0m     platform: yes [linux]\r\n",
      "  \u001B[31m   \u001B[0m  sample_data: yes [installing]\r\n",
      "  \u001B[31m   \u001B[0m        tests: no  [skipping due to configuration]\r\n",
      "  \u001B[31m   \u001B[0m          agg: yes [installing]\r\n",
      "  \u001B[31m   \u001B[0m        tkagg: yes [installing; run-time loading from Python Tcl/Tk]\r\n",
      "  \u001B[31m   \u001B[0m       macosx: no  [Mac OS-X only]\r\n",
      "  \u001B[31m   \u001B[0m \r\n",
      "  \u001B[31m   \u001B[0m /home/kmv/projects/data_science/dsvenv/lib/python3.10/site-packages/setuptools/__init__.py:85: _DeprecatedInstaller: setuptools.installer and fetch_build_eggs are deprecated. Requirements should be satisfied by a PEP 517 installer. If you are using pip, you can try `pip install --use-pep517`.\r\n",
      "  \u001B[31m   \u001B[0m   dist.fetch_build_eggs(dist.setup_requires)\r\n",
      "  \u001B[31m   \u001B[0m /home/kmv/projects/data_science/dsvenv/lib/python3.10/site-packages/setuptools/dist.py:287: SetuptoolsDeprecationWarning: The namespace_packages parameter is deprecated, consider using implicit namespaces instead (PEP 420). See https://setuptools.pypa.io/en/latest/references/keywords.html#keyword-namespace-packages\r\n",
      "  \u001B[31m   \u001B[0m   warnings.warn(msg, SetuptoolsDeprecationWarning)\r\n",
      "  \u001B[31m   \u001B[0m running bdist_wheel\r\n",
      "  \u001B[31m   \u001B[0m running build\r\n",
      "  \u001B[31m   \u001B[0m running build_py\r\n",
      "  \u001B[31m   \u001B[0m creating build\r\n",
      "  \u001B[31m   \u001B[0m creating build/lib.linux-x86_64-cpython-310\r\n",
      "  \u001B[31m   \u001B[0m copying lib/pylab.py -> build/lib.linux-x86_64-cpython-310\r\n",
      "  \u001B[31m   \u001B[0m creating build/lib.linux-x86_64-cpython-310/matplotlib\r\n",
      "  \u001B[31m   \u001B[0m copying lib/matplotlib/tight_layout.py -> build/lib.linux-x86_64-cpython-310/matplotlib\r\n",
      "  \u001B[31m   \u001B[0m copying lib/matplotlib/docstring.py -> build/lib.linux-x86_64-cpython-310/matplotlib\r\n",
      "  \u001B[31m   \u001B[0m copying lib/matplotlib/_constrained_layout.py -> build/lib.linux-x86_64-cpython-310/matplotlib\r\n",
      "  \u001B[31m   \u001B[0m copying lib/matplotlib/patches.py -> build/lib.linux-x86_64-cpython-310/matplotlib\r\n",
      "  \u001B[31m   \u001B[0m copying lib/matplotlib/image.py -> build/lib.linux-x86_64-cpython-310/matplotlib\r\n",
      "  \u001B[31m   \u001B[0m copying lib/matplotlib/quiver.py -> build/lib.linux-x86_64-cpython-310/matplotlib\r\n",
      "  \u001B[31m   \u001B[0m copying lib/matplotlib/__init__.py -> build/lib.linux-x86_64-cpython-310/matplotlib\r\n",
      "  \u001B[31m   \u001B[0m copying lib/matplotlib/widgets.py -> build/lib.linux-x86_64-cpython-310/matplotlib\r\n",
      "  \u001B[31m   \u001B[0m copying lib/matplotlib/_text_layout.py -> build/lib.linux-x86_64-cpython-310/matplotlib\r\n",
      "  \u001B[31m   \u001B[0m copying lib/matplotlib/units.py -> build/lib.linux-x86_64-cpython-310/matplotlib\r\n",
      "  \u001B[31m   \u001B[0m copying lib/matplotlib/texmanager.py -> build/lib.linux-x86_64-cpython-310/matplotlib\r\n",
      "  \u001B[31m   \u001B[0m copying lib/matplotlib/type1font.py -> build/lib.linux-x86_64-cpython-310/matplotlib\r\n",
      "  \u001B[31m   \u001B[0m copying lib/matplotlib/backend_managers.py -> build/lib.linux-x86_64-cpython-310/matplotlib\r\n",
      "  \u001B[31m   \u001B[0m copying lib/matplotlib/dviread.py -> build/lib.linux-x86_64-cpython-310/matplotlib\r\n",
      "  \u001B[31m   \u001B[0m copying lib/matplotlib/animation.py -> build/lib.linux-x86_64-cpython-310/matplotlib\r\n",
      "  \u001B[31m   \u001B[0m copying lib/matplotlib/stackplot.py -> build/lib.linux-x86_64-cpython-310/matplotlib\r\n",
      "  \u001B[31m   \u001B[0m copying lib/matplotlib/patheffects.py -> build/lib.linux-x86_64-cpython-310/matplotlib\r\n",
      "  \u001B[31m   \u001B[0m copying lib/matplotlib/_version.py -> build/lib.linux-x86_64-cpython-310/matplotlib\r\n",
      "  \u001B[31m   \u001B[0m copying lib/matplotlib/offsetbox.py -> build/lib.linux-x86_64-cpython-310/matplotlib\r\n",
      "  \u001B[31m   \u001B[0m copying lib/matplotlib/figure.py -> build/lib.linux-x86_64-cpython-310/matplotlib\r\n",
      "  \u001B[31m   \u001B[0m copying lib/matplotlib/lines.py -> build/lib.linux-x86_64-cpython-310/matplotlib\r\n",
      "  \u001B[31m   \u001B[0m copying lib/matplotlib/spines.py -> build/lib.linux-x86_64-cpython-310/matplotlib\r\n",
      "  \u001B[31m   \u001B[0m copying lib/matplotlib/dates.py -> build/lib.linux-x86_64-cpython-310/matplotlib\r\n",
      "  \u001B[31m   \u001B[0m copying lib/matplotlib/_color_data.py -> build/lib.linux-x86_64-cpython-310/matplotlib\r\n",
      "  \u001B[31m   \u001B[0m copying lib/matplotlib/legend.py -> build/lib.linux-x86_64-cpython-310/matplotlib\r\n",
      "  \u001B[31m   \u001B[0m copying lib/matplotlib/colors.py -> build/lib.linux-x86_64-cpython-310/matplotlib\r\n",
      "  \u001B[31m   \u001B[0m copying lib/matplotlib/backend_bases.py -> build/lib.linux-x86_64-cpython-310/matplotlib\r\n",
      "  \u001B[31m   \u001B[0m copying lib/matplotlib/path.py -> build/lib.linux-x86_64-cpython-310/matplotlib\r\n",
      "  \u001B[31m   \u001B[0m copying lib/matplotlib/hatch.py -> build/lib.linux-x86_64-cpython-310/matplotlib\r\n",
      "  \u001B[31m   \u001B[0m copying lib/matplotlib/streamplot.py -> build/lib.linux-x86_64-cpython-310/matplotlib\r\n",
      "  \u001B[31m   \u001B[0m copying lib/matplotlib/font_manager.py -> build/lib.linux-x86_64-cpython-310/matplotlib\r\n",
      "  \u001B[31m   \u001B[0m copying lib/matplotlib/pylab.py -> build/lib.linux-x86_64-cpython-310/matplotlib\r\n",
      "  \u001B[31m   \u001B[0m copying lib/matplotlib/bezier.py -> build/lib.linux-x86_64-cpython-310/matplotlib\r\n",
      "  \u001B[31m   \u001B[0m copying lib/matplotlib/mlab.py -> build/lib.linux-x86_64-cpython-310/matplotlib\r\n",
      "  \u001B[31m   \u001B[0m copying lib/matplotlib/collections.py -> build/lib.linux-x86_64-cpython-310/matplotlib\r\n",
      "  \u001B[31m   \u001B[0m copying lib/matplotlib/cm.py -> build/lib.linux-x86_64-cpython-310/matplotlib\r\n",
      "  \u001B[31m   \u001B[0m copying lib/matplotlib/colorbar.py -> build/lib.linux-x86_64-cpython-310/matplotlib\r\n",
      "  \u001B[31m   \u001B[0m copying lib/matplotlib/scale.py -> build/lib.linux-x86_64-cpython-310/matplotlib\r\n",
      "  \u001B[31m   \u001B[0m copying lib/matplotlib/_cm.py -> build/lib.linux-x86_64-cpython-310/matplotlib\r\n",
      "  \u001B[31m   \u001B[0m copying lib/matplotlib/mathtext.py -> build/lib.linux-x86_64-cpython-310/matplotlib\r\n",
      "  \u001B[31m   \u001B[0m copying lib/matplotlib/sankey.py -> build/lib.linux-x86_64-cpython-310/matplotlib\r\n",
      "  \u001B[31m   \u001B[0m copying lib/matplotlib/tight_bbox.py -> build/lib.linux-x86_64-cpython-310/matplotlib\r\n",
      "  \u001B[31m   \u001B[0m copying lib/matplotlib/artist.py -> build/lib.linux-x86_64-cpython-310/matplotlib\r\n",
      "  \u001B[31m   \u001B[0m copying lib/matplotlib/pyplot.py -> build/lib.linux-x86_64-cpython-310/matplotlib\r\n",
      "  \u001B[31m   \u001B[0m copying lib/matplotlib/category.py -> build/lib.linux-x86_64-cpython-310/matplotlib\r\n",
      "  \u001B[31m   \u001B[0m copying lib/matplotlib/table.py -> build/lib.linux-x86_64-cpython-310/matplotlib\r\n",
      "  \u001B[31m   \u001B[0m copying lib/matplotlib/fontconfig_pattern.py -> build/lib.linux-x86_64-cpython-310/matplotlib\r\n",
      "  \u001B[31m   \u001B[0m copying lib/matplotlib/_mathtext_data.py -> build/lib.linux-x86_64-cpython-310/matplotlib\r\n",
      "  \u001B[31m   \u001B[0m copying lib/matplotlib/_cm_listed.py -> build/lib.linux-x86_64-cpython-310/matplotlib\r\n",
      "  \u001B[31m   \u001B[0m copying lib/matplotlib/_animation_data.py -> build/lib.linux-x86_64-cpython-310/matplotlib\r\n",
      "  \u001B[31m   \u001B[0m copying lib/matplotlib/axis.py -> build/lib.linux-x86_64-cpython-310/matplotlib\r\n",
      "  \u001B[31m   \u001B[0m copying lib/matplotlib/textpath.py -> build/lib.linux-x86_64-cpython-310/matplotlib\r\n",
      "  \u001B[31m   \u001B[0m copying lib/matplotlib/backend_tools.py -> build/lib.linux-x86_64-cpython-310/matplotlib\r\n",
      "  \u001B[31m   \u001B[0m copying lib/matplotlib/text.py -> build/lib.linux-x86_64-cpython-310/matplotlib\r\n",
      "  \u001B[31m   \u001B[0m copying lib/matplotlib/markers.py -> build/lib.linux-x86_64-cpython-310/matplotlib\r\n",
      "  \u001B[31m   \u001B[0m copying lib/matplotlib/ticker.py -> build/lib.linux-x86_64-cpython-310/matplotlib\r\n",
      "  \u001B[31m   \u001B[0m copying lib/matplotlib/legend_handler.py -> build/lib.linux-x86_64-cpython-310/matplotlib\r\n",
      "  \u001B[31m   \u001B[0m copying lib/matplotlib/contour.py -> build/lib.linux-x86_64-cpython-310/matplotlib\r\n",
      "  \u001B[31m   \u001B[0m copying lib/matplotlib/blocking_input.py -> build/lib.linux-x86_64-cpython-310/matplotlib\r\n",
      "  \u001B[31m   \u001B[0m copying lib/matplotlib/gridspec.py -> build/lib.linux-x86_64-cpython-310/matplotlib\r\n",
      "  \u001B[31m   \u001B[0m copying lib/matplotlib/container.py -> build/lib.linux-x86_64-cpython-310/matplotlib\r\n",
      "  \u001B[31m   \u001B[0m copying lib/matplotlib/rcsetup.py -> build/lib.linux-x86_64-cpython-310/matplotlib\r\n",
      "  \u001B[31m   \u001B[0m copying lib/matplotlib/transforms.py -> build/lib.linux-x86_64-cpython-310/matplotlib\r\n",
      "  \u001B[31m   \u001B[0m copying lib/matplotlib/_layoutbox.py -> build/lib.linux-x86_64-cpython-310/matplotlib\r\n",
      "  \u001B[31m   \u001B[0m copying lib/matplotlib/afm.py -> build/lib.linux-x86_64-cpython-310/matplotlib\r\n",
      "  \u001B[31m   \u001B[0m copying lib/matplotlib/_pylab_helpers.py -> build/lib.linux-x86_64-cpython-310/matplotlib\r\n",
      "  \u001B[31m   \u001B[0m creating build/lib.linux-x86_64-cpython-310/mpl_toolkits\r\n",
      "  \u001B[31m   \u001B[0m copying lib/mpl_toolkits/__init__.py -> build/lib.linux-x86_64-cpython-310/mpl_toolkits\r\n",
      "  \u001B[31m   \u001B[0m creating build/lib.linux-x86_64-cpython-310/matplotlib/testing\r\n",
      "  \u001B[31m   \u001B[0m copying lib/matplotlib/testing/__init__.py -> build/lib.linux-x86_64-cpython-310/matplotlib/testing\r\n",
      "  \u001B[31m   \u001B[0m copying lib/matplotlib/testing/decorators.py -> build/lib.linux-x86_64-cpython-310/matplotlib/testing\r\n",
      "  \u001B[31m   \u001B[0m copying lib/matplotlib/testing/compare.py -> build/lib.linux-x86_64-cpython-310/matplotlib/testing\r\n",
      "  \u001B[31m   \u001B[0m copying lib/matplotlib/testing/disable_internet.py -> build/lib.linux-x86_64-cpython-310/matplotlib/testing\r\n",
      "  \u001B[31m   \u001B[0m copying lib/matplotlib/testing/exceptions.py -> build/lib.linux-x86_64-cpython-310/matplotlib/testing\r\n",
      "  \u001B[31m   \u001B[0m copying lib/matplotlib/testing/conftest.py -> build/lib.linux-x86_64-cpython-310/matplotlib/testing\r\n",
      "  \u001B[31m   \u001B[0m creating build/lib.linux-x86_64-cpython-310/matplotlib/backends\r\n",
      "  \u001B[31m   \u001B[0m copying lib/matplotlib/backends/backend_webagg.py -> build/lib.linux-x86_64-cpython-310/matplotlib/backends\r\n",
      "  \u001B[31m   \u001B[0m copying lib/matplotlib/backends/__init__.py -> build/lib.linux-x86_64-cpython-310/matplotlib/backends\r\n",
      "  \u001B[31m   \u001B[0m copying lib/matplotlib/backends/backend_ps.py -> build/lib.linux-x86_64-cpython-310/matplotlib/backends\r\n",
      "  \u001B[31m   \u001B[0m copying lib/matplotlib/backends/backend_pdf.py -> build/lib.linux-x86_64-cpython-310/matplotlib/backends\r\n",
      "  \u001B[31m   \u001B[0m copying lib/matplotlib/backends/backend_wx.py -> build/lib.linux-x86_64-cpython-310/matplotlib/backends\r\n",
      "  \u001B[31m   \u001B[0m copying lib/matplotlib/backends/backend_pgf.py -> build/lib.linux-x86_64-cpython-310/matplotlib/backends\r\n",
      "  \u001B[31m   \u001B[0m copying lib/matplotlib/backends/backend_tkagg.py -> build/lib.linux-x86_64-cpython-310/matplotlib/backends\r\n",
      "  \u001B[31m   \u001B[0m copying lib/matplotlib/backends/backend_tkcairo.py -> build/lib.linux-x86_64-cpython-310/matplotlib/backends\r\n",
      "  \u001B[31m   \u001B[0m copying lib/matplotlib/backends/backend_gtk3agg.py -> build/lib.linux-x86_64-cpython-310/matplotlib/backends\r\n",
      "  \u001B[31m   \u001B[0m copying lib/matplotlib/backends/backend_qt4cairo.py -> build/lib.linux-x86_64-cpython-310/matplotlib/backends\r\n",
      "  \u001B[31m   \u001B[0m copying lib/matplotlib/backends/backend_cairo.py -> build/lib.linux-x86_64-cpython-310/matplotlib/backends\r\n",
      "  \u001B[31m   \u001B[0m copying lib/matplotlib/backends/backend_wxcairo.py -> build/lib.linux-x86_64-cpython-310/matplotlib/backends\r\n",
      "  \u001B[31m   \u001B[0m copying lib/matplotlib/backends/backend_gtk3.py -> build/lib.linux-x86_64-cpython-310/matplotlib/backends\r\n",
      "  \u001B[31m   \u001B[0m copying lib/matplotlib/backends/backend_qt4.py -> build/lib.linux-x86_64-cpython-310/matplotlib/backends\r\n",
      "  \u001B[31m   \u001B[0m copying lib/matplotlib/backends/backend_svg.py -> build/lib.linux-x86_64-cpython-310/matplotlib/backends\r\n",
      "  \u001B[31m   \u001B[0m copying lib/matplotlib/backends/backend_wxagg.py -> build/lib.linux-x86_64-cpython-310/matplotlib/backends\r\n",
      "  \u001B[31m   \u001B[0m copying lib/matplotlib/backends/backend_qt5cairo.py -> build/lib.linux-x86_64-cpython-310/matplotlib/backends\r\n",
      "  \u001B[31m   \u001B[0m copying lib/matplotlib/backends/backend_gtk3cairo.py -> build/lib.linux-x86_64-cpython-310/matplotlib/backends\r\n",
      "  \u001B[31m   \u001B[0m copying lib/matplotlib/backends/backend_qt5agg.py -> build/lib.linux-x86_64-cpython-310/matplotlib/backends\r\n",
      "  \u001B[31m   \u001B[0m copying lib/matplotlib/backends/backend_qt4agg.py -> build/lib.linux-x86_64-cpython-310/matplotlib/backends\r\n",
      "  \u001B[31m   \u001B[0m copying lib/matplotlib/backends/qt_compat.py -> build/lib.linux-x86_64-cpython-310/matplotlib/backends\r\n",
      "  \u001B[31m   \u001B[0m copying lib/matplotlib/backends/_backend_pdf_ps.py -> build/lib.linux-x86_64-cpython-310/matplotlib/backends\r\n",
      "  \u001B[31m   \u001B[0m copying lib/matplotlib/backends/backend_nbagg.py -> build/lib.linux-x86_64-cpython-310/matplotlib/backends\r\n",
      "  \u001B[31m   \u001B[0m copying lib/matplotlib/backends/backend_agg.py -> build/lib.linux-x86_64-cpython-310/matplotlib/backends\r\n",
      "  \u001B[31m   \u001B[0m copying lib/matplotlib/backends/backend_qt5.py -> build/lib.linux-x86_64-cpython-310/matplotlib/backends\r\n",
      "  \u001B[31m   \u001B[0m copying lib/matplotlib/backends/_backend_tk.py -> build/lib.linux-x86_64-cpython-310/matplotlib/backends\r\n",
      "  \u001B[31m   \u001B[0m copying lib/matplotlib/backends/backend_macosx.py -> build/lib.linux-x86_64-cpython-310/matplotlib/backends\r\n",
      "  \u001B[31m   \u001B[0m copying lib/matplotlib/backends/backend_mixed.py -> build/lib.linux-x86_64-cpython-310/matplotlib/backends\r\n",
      "  \u001B[31m   \u001B[0m copying lib/matplotlib/backends/backend_template.py -> build/lib.linux-x86_64-cpython-310/matplotlib/backends\r\n",
      "  \u001B[31m   \u001B[0m copying lib/matplotlib/backends/backend_webagg_core.py -> build/lib.linux-x86_64-cpython-310/matplotlib/backends\r\n",
      "  \u001B[31m   \u001B[0m creating build/lib.linux-x86_64-cpython-310/matplotlib/sphinxext\r\n",
      "  \u001B[31m   \u001B[0m copying lib/matplotlib/sphinxext/__init__.py -> build/lib.linux-x86_64-cpython-310/matplotlib/sphinxext\r\n",
      "  \u001B[31m   \u001B[0m copying lib/matplotlib/sphinxext/plot_directive.py -> build/lib.linux-x86_64-cpython-310/matplotlib/sphinxext\r\n",
      "  \u001B[31m   \u001B[0m copying lib/matplotlib/sphinxext/mathmpl.py -> build/lib.linux-x86_64-cpython-310/matplotlib/sphinxext\r\n",
      "  \u001B[31m   \u001B[0m creating build/lib.linux-x86_64-cpython-310/matplotlib/tests\r\n",
      "  \u001B[31m   \u001B[0m copying lib/matplotlib/tests/test_backend_tk.py -> build/lib.linux-x86_64-cpython-310/matplotlib/tests\r\n",
      "  \u001B[31m   \u001B[0m copying lib/matplotlib/tests/test_animation.py -> build/lib.linux-x86_64-cpython-310/matplotlib/tests\r\n",
      "  \u001B[31m   \u001B[0m copying lib/matplotlib/tests/test_sankey.py -> build/lib.linux-x86_64-cpython-310/matplotlib/tests\r\n",
      "  \u001B[31m   \u001B[0m copying lib/matplotlib/tests/test_backend_ps.py -> build/lib.linux-x86_64-cpython-310/matplotlib/tests\r\n",
      "  \u001B[31m   \u001B[0m copying lib/matplotlib/tests/test_basic.py -> build/lib.linux-x86_64-cpython-310/matplotlib/tests\r\n",
      "  \u001B[31m   \u001B[0m copying lib/matplotlib/tests/__init__.py -> build/lib.linux-x86_64-cpython-310/matplotlib/tests\r\n",
      "  \u001B[31m   \u001B[0m copying lib/matplotlib/tests/test_arrow_patches.py -> build/lib.linux-x86_64-cpython-310/matplotlib/tests\r\n",
      "  \u001B[31m   \u001B[0m copying lib/matplotlib/tests/test_container.py -> build/lib.linux-x86_64-cpython-310/matplotlib/tests\r\n",
      "  \u001B[31m   \u001B[0m copying lib/matplotlib/tests/test_testing.py -> build/lib.linux-x86_64-cpython-310/matplotlib/tests\r\n",
      "  \u001B[31m   \u001B[0m copying lib/matplotlib/tests/test_type1font.py -> build/lib.linux-x86_64-cpython-310/matplotlib/tests\r\n",
      "  \u001B[31m   \u001B[0m copying lib/matplotlib/tests/test_triangulation.py -> build/lib.linux-x86_64-cpython-310/matplotlib/tests\r\n",
      "  \u001B[31m   \u001B[0m copying lib/matplotlib/tests/test_image.py -> build/lib.linux-x86_64-cpython-310/matplotlib/tests\r\n",
      "  \u001B[31m   \u001B[0m copying lib/matplotlib/tests/test_category.py -> build/lib.linux-x86_64-cpython-310/matplotlib/tests\r\n",
      "  \u001B[31m   \u001B[0m copying lib/matplotlib/tests/test_axes.py -> build/lib.linux-x86_64-cpython-310/matplotlib/tests\r\n",
      "  \u001B[31m   \u001B[0m copying lib/matplotlib/tests/test_texmanager.py -> build/lib.linux-x86_64-cpython-310/matplotlib/tests\r\n",
      "  \u001B[31m   \u001B[0m copying lib/matplotlib/tests/test_sphinxext.py -> build/lib.linux-x86_64-cpython-310/matplotlib/tests\r\n",
      "  \u001B[31m   \u001B[0m copying lib/matplotlib/tests/test_figure.py -> build/lib.linux-x86_64-cpython-310/matplotlib/tests\r\n",
      "  \u001B[31m   \u001B[0m copying lib/matplotlib/tests/test_bbox_tight.py -> build/lib.linux-x86_64-cpython-310/matplotlib/tests\r\n",
      "  \u001B[31m   \u001B[0m copying lib/matplotlib/tests/test_constrainedlayout.py -> build/lib.linux-x86_64-cpython-310/matplotlib/tests\r\n",
      "  \u001B[31m   \u001B[0m copying lib/matplotlib/tests/test_text.py -> build/lib.linux-x86_64-cpython-310/matplotlib/tests\r\n",
      "  \u001B[31m   \u001B[0m copying lib/matplotlib/tests/test_backend_webagg.py -> build/lib.linux-x86_64-cpython-310/matplotlib/tests\r\n",
      "  \u001B[31m   \u001B[0m copying lib/matplotlib/tests/test_backend_svg.py -> build/lib.linux-x86_64-cpython-310/matplotlib/tests\r\n",
      "  \u001B[31m   \u001B[0m copying lib/matplotlib/tests/test_collections.py -> build/lib.linux-x86_64-cpython-310/matplotlib/tests\r\n",
      "  \u001B[31m   \u001B[0m copying lib/matplotlib/tests/test_backends_interactive.py -> build/lib.linux-x86_64-cpython-310/matplotlib/tests\r\n",
      "  \u001B[31m   \u001B[0m copying lib/matplotlib/tests/test_artist.py -> build/lib.linux-x86_64-cpython-310/matplotlib/tests\r\n",
      "  \u001B[31m   \u001B[0m copying lib/matplotlib/tests/test_backend_cairo.py -> build/lib.linux-x86_64-cpython-310/matplotlib/tests\r\n",
      "  \u001B[31m   \u001B[0m copying lib/matplotlib/tests/test_backend_qt.py -> build/lib.linux-x86_64-cpython-310/matplotlib/tests\r\n",
      "  \u001B[31m   \u001B[0m copying lib/matplotlib/tests/test_style.py -> build/lib.linux-x86_64-cpython-310/matplotlib/tests\r\n",
      "  \u001B[31m   \u001B[0m copying lib/matplotlib/tests/test_agg_filter.py -> build/lib.linux-x86_64-cpython-310/matplotlib/tests\r\n",
      "  \u001B[31m   \u001B[0m copying lib/matplotlib/tests/test_dates.py -> build/lib.linux-x86_64-cpython-310/matplotlib/tests\r\n",
      "  \u001B[31m   \u001B[0m copying lib/matplotlib/tests/test_patches.py -> build/lib.linux-x86_64-cpython-310/matplotlib/tests\r\n",
      "  \u001B[31m   \u001B[0m copying lib/matplotlib/tests/test_ttconv.py -> build/lib.linux-x86_64-cpython-310/matplotlib/tests\r\n",
      "  \u001B[31m   \u001B[0m copying lib/matplotlib/tests/test_simplification.py -> build/lib.linux-x86_64-cpython-310/matplotlib/tests\r\n",
      "  \u001B[31m   \u001B[0m copying lib/matplotlib/tests/test_cycles.py -> build/lib.linux-x86_64-cpython-310/matplotlib/tests\r\n",
      "  \u001B[31m   \u001B[0m copying lib/matplotlib/tests/test_afm.py -> build/lib.linux-x86_64-cpython-310/matplotlib/tests\r\n",
      "  \u001B[31m   \u001B[0m copying lib/matplotlib/tests/test_cbook.py -> build/lib.linux-x86_64-cpython-310/matplotlib/tests\r\n",
      "  \u001B[31m   \u001B[0m copying lib/matplotlib/tests/test_backend_bases.py -> build/lib.linux-x86_64-cpython-310/matplotlib/tests\r\n",
      "  \u001B[31m   \u001B[0m copying lib/matplotlib/tests/test_scale.py -> build/lib.linux-x86_64-cpython-310/matplotlib/tests\r\n",
      "  \u001B[31m   \u001B[0m copying lib/matplotlib/tests/test_font_manager.py -> build/lib.linux-x86_64-cpython-310/matplotlib/tests\r\n",
      "  \u001B[31m   \u001B[0m copying lib/matplotlib/tests/test_colorbar.py -> build/lib.linux-x86_64-cpython-310/matplotlib/tests\r\n",
      "  \u001B[31m   \u001B[0m copying lib/matplotlib/tests/test_matplotlib.py -> build/lib.linux-x86_64-cpython-310/matplotlib/tests\r\n",
      "  \u001B[31m   \u001B[0m copying lib/matplotlib/tests/test_table.py -> build/lib.linux-x86_64-cpython-310/matplotlib/tests\r\n",
      "  \u001B[31m   \u001B[0m copying lib/matplotlib/tests/test_dviread.py -> build/lib.linux-x86_64-cpython-310/matplotlib/tests\r\n",
      "  \u001B[31m   \u001B[0m copying lib/matplotlib/tests/test_colors.py -> build/lib.linux-x86_64-cpython-310/matplotlib/tests\r\n",
      "  \u001B[31m   \u001B[0m copying lib/matplotlib/tests/test_spines.py -> build/lib.linux-x86_64-cpython-310/matplotlib/tests\r\n",
      "  \u001B[31m   \u001B[0m copying lib/matplotlib/tests/test_quiver.py -> build/lib.linux-x86_64-cpython-310/matplotlib/tests\r\n",
      "  \u001B[31m   \u001B[0m copying lib/matplotlib/tests/test_backend_pdf.py -> build/lib.linux-x86_64-cpython-310/matplotlib/tests\r\n",
      "  \u001B[31m   \u001B[0m copying lib/matplotlib/tests/test_units.py -> build/lib.linux-x86_64-cpython-310/matplotlib/tests\r\n",
      "  \u001B[31m   \u001B[0m copying lib/matplotlib/tests/test_png.py -> build/lib.linux-x86_64-cpython-310/matplotlib/tests\r\n",
      "  \u001B[31m   \u001B[0m copying lib/matplotlib/tests/test_pickle.py -> build/lib.linux-x86_64-cpython-310/matplotlib/tests\r\n",
      "  \u001B[31m   \u001B[0m copying lib/matplotlib/tests/test_fontconfig_pattern.py -> build/lib.linux-x86_64-cpython-310/matplotlib/tests\r\n",
      "  \u001B[31m   \u001B[0m copying lib/matplotlib/tests/test_offsetbox.py -> build/lib.linux-x86_64-cpython-310/matplotlib/tests\r\n",
      "  \u001B[31m   \u001B[0m copying lib/matplotlib/tests/test_backend_pgf.py -> build/lib.linux-x86_64-cpython-310/matplotlib/tests\r\n",
      "  \u001B[31m   \u001B[0m copying lib/matplotlib/tests/test_patheffects.py -> build/lib.linux-x86_64-cpython-310/matplotlib/tests\r\n",
      "  \u001B[31m   \u001B[0m copying lib/matplotlib/tests/test_transforms.py -> build/lib.linux-x86_64-cpython-310/matplotlib/tests\r\n",
      "  \u001B[31m   \u001B[0m copying lib/matplotlib/tests/test_determinism.py -> build/lib.linux-x86_64-cpython-310/matplotlib/tests\r\n",
      "  \u001B[31m   \u001B[0m copying lib/matplotlib/tests/test_mathtext.py -> build/lib.linux-x86_64-cpython-310/matplotlib/tests\r\n",
      "  \u001B[31m   \u001B[0m copying lib/matplotlib/tests/test_marker.py -> build/lib.linux-x86_64-cpython-310/matplotlib/tests\r\n",
      "  \u001B[31m   \u001B[0m copying lib/matplotlib/tests/test_rcparams.py -> build/lib.linux-x86_64-cpython-310/matplotlib/tests\r\n",
      "  \u001B[31m   \u001B[0m copying lib/matplotlib/tests/test_subplots.py -> build/lib.linux-x86_64-cpython-310/matplotlib/tests\r\n",
      "  \u001B[31m   \u001B[0m copying lib/matplotlib/tests/test_backend_tools.py -> build/lib.linux-x86_64-cpython-310/matplotlib/tests\r\n",
      "  \u001B[31m   \u001B[0m copying lib/matplotlib/tests/conftest.py -> build/lib.linux-x86_64-cpython-310/matplotlib/tests\r\n",
      "  \u001B[31m   \u001B[0m copying lib/matplotlib/tests/test_backend_nbagg.py -> build/lib.linux-x86_64-cpython-310/matplotlib/tests\r\n",
      "  \u001B[31m   \u001B[0m copying lib/matplotlib/tests/test_mlab.py -> build/lib.linux-x86_64-cpython-310/matplotlib/tests\r\n",
      "  \u001B[31m   \u001B[0m copying lib/matplotlib/tests/test_compare_images.py -> build/lib.linux-x86_64-cpython-310/matplotlib/tests\r\n",
      "  \u001B[31m   \u001B[0m copying lib/matplotlib/tests/test_widgets.py -> build/lib.linux-x86_64-cpython-310/matplotlib/tests\r\n",
      "  \u001B[31m   \u001B[0m copying lib/matplotlib/tests/test_skew.py -> build/lib.linux-x86_64-cpython-310/matplotlib/tests\r\n",
      "  \u001B[31m   \u001B[0m copying lib/matplotlib/tests/test_tightlayout.py -> build/lib.linux-x86_64-cpython-310/matplotlib/tests\r\n",
      "  \u001B[31m   \u001B[0m copying lib/matplotlib/tests/test_usetex.py -> build/lib.linux-x86_64-cpython-310/matplotlib/tests\r\n",
      "  \u001B[31m   \u001B[0m copying lib/matplotlib/tests/test_path.py -> build/lib.linux-x86_64-cpython-310/matplotlib/tests\r\n",
      "  \u001B[31m   \u001B[0m copying lib/matplotlib/tests/test_lines.py -> build/lib.linux-x86_64-cpython-310/matplotlib/tests\r\n",
      "  \u001B[31m   \u001B[0m copying lib/matplotlib/tests/test_contour.py -> build/lib.linux-x86_64-cpython-310/matplotlib/tests\r\n",
      "  \u001B[31m   \u001B[0m copying lib/matplotlib/tests/test_pyplot.py -> build/lib.linux-x86_64-cpython-310/matplotlib/tests\r\n",
      "  \u001B[31m   \u001B[0m copying lib/matplotlib/tests/test_streamplot.py -> build/lib.linux-x86_64-cpython-310/matplotlib/tests\r\n",
      "  \u001B[31m   \u001B[0m copying lib/matplotlib/tests/test_preprocess_data.py -> build/lib.linux-x86_64-cpython-310/matplotlib/tests\r\n",
      "  \u001B[31m   \u001B[0m copying lib/matplotlib/tests/test_agg.py -> build/lib.linux-x86_64-cpython-310/matplotlib/tests\r\n",
      "  \u001B[31m   \u001B[0m copying lib/matplotlib/tests/test_legend.py -> build/lib.linux-x86_64-cpython-310/matplotlib/tests\r\n",
      "  \u001B[31m   \u001B[0m copying lib/matplotlib/tests/test_gridspec.py -> build/lib.linux-x86_64-cpython-310/matplotlib/tests\r\n",
      "  \u001B[31m   \u001B[0m copying lib/matplotlib/tests/test_ticker.py -> build/lib.linux-x86_64-cpython-310/matplotlib/tests\r\n",
      "  \u001B[31m   \u001B[0m creating build/lib.linux-x86_64-cpython-310/matplotlib/projections\r\n",
      "  \u001B[31m   \u001B[0m copying lib/matplotlib/projections/__init__.py -> build/lib.linux-x86_64-cpython-310/matplotlib/projections\r\n",
      "  \u001B[31m   \u001B[0m copying lib/matplotlib/projections/geo.py -> build/lib.linux-x86_64-cpython-310/matplotlib/projections\r\n",
      "  \u001B[31m   \u001B[0m copying lib/matplotlib/projections/polar.py -> build/lib.linux-x86_64-cpython-310/matplotlib/projections\r\n",
      "  \u001B[31m   \u001B[0m creating build/lib.linux-x86_64-cpython-310/matplotlib/compat\r\n",
      "  \u001B[31m   \u001B[0m copying lib/matplotlib/compat/__init__.py -> build/lib.linux-x86_64-cpython-310/matplotlib/compat\r\n",
      "  \u001B[31m   \u001B[0m creating build/lib.linux-x86_64-cpython-310/matplotlib/axes\r\n",
      "  \u001B[31m   \u001B[0m copying lib/matplotlib/axes/__init__.py -> build/lib.linux-x86_64-cpython-310/matplotlib/axes\r\n",
      "  \u001B[31m   \u001B[0m copying lib/matplotlib/axes/_secondary_axes.py -> build/lib.linux-x86_64-cpython-310/matplotlib/axes\r\n",
      "  \u001B[31m   \u001B[0m copying lib/matplotlib/axes/_axes.py -> build/lib.linux-x86_64-cpython-310/matplotlib/axes\r\n",
      "  \u001B[31m   \u001B[0m copying lib/matplotlib/axes/_base.py -> build/lib.linux-x86_64-cpython-310/matplotlib/axes\r\n",
      "  \u001B[31m   \u001B[0m copying lib/matplotlib/axes/_subplots.py -> build/lib.linux-x86_64-cpython-310/matplotlib/axes\r\n",
      "  \u001B[31m   \u001B[0m creating build/lib.linux-x86_64-cpython-310/matplotlib/tri\r\n",
      "  \u001B[31m   \u001B[0m copying lib/matplotlib/tri/__init__.py -> build/lib.linux-x86_64-cpython-310/matplotlib/tri\r\n",
      "  \u001B[31m   \u001B[0m copying lib/matplotlib/tri/tricontour.py -> build/lib.linux-x86_64-cpython-310/matplotlib/tri\r\n",
      "  \u001B[31m   \u001B[0m copying lib/matplotlib/tri/triplot.py -> build/lib.linux-x86_64-cpython-310/matplotlib/tri\r\n",
      "  \u001B[31m   \u001B[0m copying lib/matplotlib/tri/tripcolor.py -> build/lib.linux-x86_64-cpython-310/matplotlib/tri\r\n",
      "  \u001B[31m   \u001B[0m copying lib/matplotlib/tri/tritools.py -> build/lib.linux-x86_64-cpython-310/matplotlib/tri\r\n",
      "  \u001B[31m   \u001B[0m copying lib/matplotlib/tri/triangulation.py -> build/lib.linux-x86_64-cpython-310/matplotlib/tri\r\n",
      "  \u001B[31m   \u001B[0m copying lib/matplotlib/tri/trifinder.py -> build/lib.linux-x86_64-cpython-310/matplotlib/tri\r\n",
      "  \u001B[31m   \u001B[0m copying lib/matplotlib/tri/trirefine.py -> build/lib.linux-x86_64-cpython-310/matplotlib/tri\r\n",
      "  \u001B[31m   \u001B[0m copying lib/matplotlib/tri/triinterpolate.py -> build/lib.linux-x86_64-cpython-310/matplotlib/tri\r\n",
      "  \u001B[31m   \u001B[0m creating build/lib.linux-x86_64-cpython-310/matplotlib/style\r\n",
      "  \u001B[31m   \u001B[0m copying lib/matplotlib/style/__init__.py -> build/lib.linux-x86_64-cpython-310/matplotlib/style\r\n",
      "  \u001B[31m   \u001B[0m copying lib/matplotlib/style/core.py -> build/lib.linux-x86_64-cpython-310/matplotlib/style\r\n",
      "  \u001B[31m   \u001B[0m creating build/lib.linux-x86_64-cpython-310/matplotlib/cbook\r\n",
      "  \u001B[31m   \u001B[0m copying lib/matplotlib/cbook/__init__.py -> build/lib.linux-x86_64-cpython-310/matplotlib/cbook\r\n",
      "  \u001B[31m   \u001B[0m copying lib/matplotlib/cbook/deprecation.py -> build/lib.linux-x86_64-cpython-310/matplotlib/cbook\r\n",
      "  \u001B[31m   \u001B[0m creating build/lib.linux-x86_64-cpython-310/matplotlib/testing/jpl_units\r\n",
      "  \u001B[31m   \u001B[0m copying lib/matplotlib/testing/jpl_units/__init__.py -> build/lib.linux-x86_64-cpython-310/matplotlib/testing/jpl_units\r\n",
      "  \u001B[31m   \u001B[0m copying lib/matplotlib/testing/jpl_units/Duration.py -> build/lib.linux-x86_64-cpython-310/matplotlib/testing/jpl_units\r\n",
      "  \u001B[31m   \u001B[0m copying lib/matplotlib/testing/jpl_units/UnitDbl.py -> build/lib.linux-x86_64-cpython-310/matplotlib/testing/jpl_units\r\n",
      "  \u001B[31m   \u001B[0m copying lib/matplotlib/testing/jpl_units/StrConverter.py -> build/lib.linux-x86_64-cpython-310/matplotlib/testing/jpl_units\r\n",
      "  \u001B[31m   \u001B[0m copying lib/matplotlib/testing/jpl_units/UnitDblFormatter.py -> build/lib.linux-x86_64-cpython-310/matplotlib/testing/jpl_units\r\n",
      "  \u001B[31m   \u001B[0m copying lib/matplotlib/testing/jpl_units/EpochConverter.py -> build/lib.linux-x86_64-cpython-310/matplotlib/testing/jpl_units\r\n",
      "  \u001B[31m   \u001B[0m copying lib/matplotlib/testing/jpl_units/UnitDblConverter.py -> build/lib.linux-x86_64-cpython-310/matplotlib/testing/jpl_units\r\n",
      "  \u001B[31m   \u001B[0m copying lib/matplotlib/testing/jpl_units/Epoch.py -> build/lib.linux-x86_64-cpython-310/matplotlib/testing/jpl_units\r\n",
      "  \u001B[31m   \u001B[0m creating build/lib.linux-x86_64-cpython-310/matplotlib/backends/qt_editor\r\n",
      "  \u001B[31m   \u001B[0m copying lib/matplotlib/backends/qt_editor/__init__.py -> build/lib.linux-x86_64-cpython-310/matplotlib/backends/qt_editor\r\n",
      "  \u001B[31m   \u001B[0m copying lib/matplotlib/backends/qt_editor/formsubplottool.py -> build/lib.linux-x86_64-cpython-310/matplotlib/backends/qt_editor\r\n",
      "  \u001B[31m   \u001B[0m copying lib/matplotlib/backends/qt_editor/formlayout.py -> build/lib.linux-x86_64-cpython-310/matplotlib/backends/qt_editor\r\n",
      "  \u001B[31m   \u001B[0m copying lib/matplotlib/backends/qt_editor/figureoptions.py -> build/lib.linux-x86_64-cpython-310/matplotlib/backends/qt_editor\r\n",
      "  \u001B[31m   \u001B[0m copying lib/matplotlib/backends/qt_editor/_formlayout.py -> build/lib.linux-x86_64-cpython-310/matplotlib/backends/qt_editor\r\n",
      "  \u001B[31m   \u001B[0m creating build/lib.linux-x86_64-cpython-310/mpl_toolkits/mplot3d\r\n",
      "  \u001B[31m   \u001B[0m copying lib/mpl_toolkits/mplot3d/__init__.py -> build/lib.linux-x86_64-cpython-310/mpl_toolkits/mplot3d\r\n",
      "  \u001B[31m   \u001B[0m copying lib/mpl_toolkits/mplot3d/axis3d.py -> build/lib.linux-x86_64-cpython-310/mpl_toolkits/mplot3d\r\n",
      "  \u001B[31m   \u001B[0m copying lib/mpl_toolkits/mplot3d/axes3d.py -> build/lib.linux-x86_64-cpython-310/mpl_toolkits/mplot3d\r\n",
      "  \u001B[31m   \u001B[0m copying lib/mpl_toolkits/mplot3d/art3d.py -> build/lib.linux-x86_64-cpython-310/mpl_toolkits/mplot3d\r\n",
      "  \u001B[31m   \u001B[0m copying lib/mpl_toolkits/mplot3d/proj3d.py -> build/lib.linux-x86_64-cpython-310/mpl_toolkits/mplot3d\r\n",
      "  \u001B[31m   \u001B[0m creating build/lib.linux-x86_64-cpython-310/mpl_toolkits/axes_grid1\r\n",
      "  \u001B[31m   \u001B[0m copying lib/mpl_toolkits/axes_grid1/__init__.py -> build/lib.linux-x86_64-cpython-310/mpl_toolkits/axes_grid1\r\n",
      "  \u001B[31m   \u001B[0m copying lib/mpl_toolkits/axes_grid1/axes_divider.py -> build/lib.linux-x86_64-cpython-310/mpl_toolkits/axes_grid1\r\n",
      "  \u001B[31m   \u001B[0m copying lib/mpl_toolkits/axes_grid1/anchored_artists.py -> build/lib.linux-x86_64-cpython-310/mpl_toolkits/axes_grid1\r\n",
      "  \u001B[31m   \u001B[0m copying lib/mpl_toolkits/axes_grid1/parasite_axes.py -> build/lib.linux-x86_64-cpython-310/mpl_toolkits/axes_grid1\r\n",
      "  \u001B[31m   \u001B[0m copying lib/mpl_toolkits/axes_grid1/axes_size.py -> build/lib.linux-x86_64-cpython-310/mpl_toolkits/axes_grid1\r\n",
      "  \u001B[31m   \u001B[0m copying lib/mpl_toolkits/axes_grid1/colorbar.py -> build/lib.linux-x86_64-cpython-310/mpl_toolkits/axes_grid1\r\n",
      "  \u001B[31m   \u001B[0m copying lib/mpl_toolkits/axes_grid1/inset_locator.py -> build/lib.linux-x86_64-cpython-310/mpl_toolkits/axes_grid1\r\n",
      "  \u001B[31m   \u001B[0m copying lib/mpl_toolkits/axes_grid1/axes_grid.py -> build/lib.linux-x86_64-cpython-310/mpl_toolkits/axes_grid1\r\n",
      "  \u001B[31m   \u001B[0m copying lib/mpl_toolkits/axes_grid1/axes_rgb.py -> build/lib.linux-x86_64-cpython-310/mpl_toolkits/axes_grid1\r\n",
      "  \u001B[31m   \u001B[0m copying lib/mpl_toolkits/axes_grid1/mpl_axes.py -> build/lib.linux-x86_64-cpython-310/mpl_toolkits/axes_grid1\r\n",
      "  \u001B[31m   \u001B[0m creating build/lib.linux-x86_64-cpython-310/mpl_toolkits/axisartist\r\n",
      "  \u001B[31m   \u001B[0m copying lib/mpl_toolkits/axisartist/__init__.py -> build/lib.linux-x86_64-cpython-310/mpl_toolkits/axisartist\r\n",
      "  \u001B[31m   \u001B[0m copying lib/mpl_toolkits/axisartist/grid_helper_curvelinear.py -> build/lib.linux-x86_64-cpython-310/mpl_toolkits/axisartist\r\n",
      "  \u001B[31m   \u001B[0m copying lib/mpl_toolkits/axisartist/axes_divider.py -> build/lib.linux-x86_64-cpython-310/mpl_toolkits/axisartist\r\n",
      "  \u001B[31m   \u001B[0m copying lib/mpl_toolkits/axisartist/axis_artist.py -> build/lib.linux-x86_64-cpython-310/mpl_toolkits/axisartist\r\n",
      "  \u001B[31m   \u001B[0m copying lib/mpl_toolkits/axisartist/grid_finder.py -> build/lib.linux-x86_64-cpython-310/mpl_toolkits/axisartist\r\n",
      "  \u001B[31m   \u001B[0m copying lib/mpl_toolkits/axisartist/clip_path.py -> build/lib.linux-x86_64-cpython-310/mpl_toolkits/axisartist\r\n",
      "  \u001B[31m   \u001B[0m copying lib/mpl_toolkits/axisartist/parasite_axes.py -> build/lib.linux-x86_64-cpython-310/mpl_toolkits/axisartist\r\n",
      "  \u001B[31m   \u001B[0m copying lib/mpl_toolkits/axisartist/axisline_style.py -> build/lib.linux-x86_64-cpython-310/mpl_toolkits/axisartist\r\n",
      "  \u001B[31m   \u001B[0m copying lib/mpl_toolkits/axisartist/floating_axes.py -> build/lib.linux-x86_64-cpython-310/mpl_toolkits/axisartist\r\n",
      "  \u001B[31m   \u001B[0m copying lib/mpl_toolkits/axisartist/angle_helper.py -> build/lib.linux-x86_64-cpython-310/mpl_toolkits/axisartist\r\n",
      "  \u001B[31m   \u001B[0m copying lib/mpl_toolkits/axisartist/axes_grid.py -> build/lib.linux-x86_64-cpython-310/mpl_toolkits/axisartist\r\n",
      "  \u001B[31m   \u001B[0m copying lib/mpl_toolkits/axisartist/axes_rgb.py -> build/lib.linux-x86_64-cpython-310/mpl_toolkits/axisartist\r\n",
      "  \u001B[31m   \u001B[0m copying lib/mpl_toolkits/axisartist/axislines.py -> build/lib.linux-x86_64-cpython-310/mpl_toolkits/axisartist\r\n",
      "  \u001B[31m   \u001B[0m creating build/lib.linux-x86_64-cpython-310/mpl_toolkits/tests\r\n",
      "  \u001B[31m   \u001B[0m copying lib/mpl_toolkits/tests/test_axes_grid1.py -> build/lib.linux-x86_64-cpython-310/mpl_toolkits/tests\r\n",
      "  \u001B[31m   \u001B[0m copying lib/mpl_toolkits/tests/__init__.py -> build/lib.linux-x86_64-cpython-310/mpl_toolkits/tests\r\n",
      "  \u001B[31m   \u001B[0m copying lib/mpl_toolkits/tests/test_axisartist_clip_path.py -> build/lib.linux-x86_64-cpython-310/mpl_toolkits/tests\r\n",
      "  \u001B[31m   \u001B[0m copying lib/mpl_toolkits/tests/test_axisartist_axis_artist.py -> build/lib.linux-x86_64-cpython-310/mpl_toolkits/tests\r\n",
      "  \u001B[31m   \u001B[0m copying lib/mpl_toolkits/tests/test_axisartist_axislines.py -> build/lib.linux-x86_64-cpython-310/mpl_toolkits/tests\r\n",
      "  \u001B[31m   \u001B[0m copying lib/mpl_toolkits/tests/test_axisartist_angle_helper.py -> build/lib.linux-x86_64-cpython-310/mpl_toolkits/tests\r\n",
      "  \u001B[31m   \u001B[0m copying lib/mpl_toolkits/tests/conftest.py -> build/lib.linux-x86_64-cpython-310/mpl_toolkits/tests\r\n",
      "  \u001B[31m   \u001B[0m copying lib/mpl_toolkits/tests/test_axisartist_grid_finder.py -> build/lib.linux-x86_64-cpython-310/mpl_toolkits/tests\r\n",
      "  \u001B[31m   \u001B[0m copying lib/mpl_toolkits/tests/test_axisartist_floating_axes.py -> build/lib.linux-x86_64-cpython-310/mpl_toolkits/tests\r\n",
      "  \u001B[31m   \u001B[0m copying lib/mpl_toolkits/tests/test_axisartist_grid_helper_curvelinear.py -> build/lib.linux-x86_64-cpython-310/mpl_toolkits/tests\r\n",
      "  \u001B[31m   \u001B[0m copying lib/mpl_toolkits/tests/test_mplot3d.py -> build/lib.linux-x86_64-cpython-310/mpl_toolkits/tests\r\n",
      "  \u001B[31m   \u001B[0m copying lib/mpl_toolkits/tests/test_axes_grid.py -> build/lib.linux-x86_64-cpython-310/mpl_toolkits/tests\r\n",
      "  \u001B[31m   \u001B[0m creating build/lib.linux-x86_64-cpython-310/mpl_toolkits/axes_grid\r\n",
      "  \u001B[31m   \u001B[0m copying lib/mpl_toolkits/axes_grid/__init__.py -> build/lib.linux-x86_64-cpython-310/mpl_toolkits/axes_grid\r\n",
      "  \u001B[31m   \u001B[0m copying lib/mpl_toolkits/axes_grid/grid_helper_curvelinear.py -> build/lib.linux-x86_64-cpython-310/mpl_toolkits/axes_grid\r\n",
      "  \u001B[31m   \u001B[0m copying lib/mpl_toolkits/axes_grid/axes_divider.py -> build/lib.linux-x86_64-cpython-310/mpl_toolkits/axes_grid\r\n",
      "  \u001B[31m   \u001B[0m copying lib/mpl_toolkits/axes_grid/anchored_artists.py -> build/lib.linux-x86_64-cpython-310/mpl_toolkits/axes_grid\r\n",
      "  \u001B[31m   \u001B[0m copying lib/mpl_toolkits/axes_grid/axis_artist.py -> build/lib.linux-x86_64-cpython-310/mpl_toolkits/axes_grid\r\n",
      "  \u001B[31m   \u001B[0m copying lib/mpl_toolkits/axes_grid/grid_finder.py -> build/lib.linux-x86_64-cpython-310/mpl_toolkits/axes_grid\r\n",
      "  \u001B[31m   \u001B[0m copying lib/mpl_toolkits/axes_grid/clip_path.py -> build/lib.linux-x86_64-cpython-310/mpl_toolkits/axes_grid\r\n",
      "  \u001B[31m   \u001B[0m copying lib/mpl_toolkits/axes_grid/parasite_axes.py -> build/lib.linux-x86_64-cpython-310/mpl_toolkits/axes_grid\r\n",
      "  \u001B[31m   \u001B[0m copying lib/mpl_toolkits/axes_grid/axisline_style.py -> build/lib.linux-x86_64-cpython-310/mpl_toolkits/axes_grid\r\n",
      "  \u001B[31m   \u001B[0m copying lib/mpl_toolkits/axes_grid/floating_axes.py -> build/lib.linux-x86_64-cpython-310/mpl_toolkits/axes_grid\r\n",
      "  \u001B[31m   \u001B[0m copying lib/mpl_toolkits/axes_grid/axes_size.py -> build/lib.linux-x86_64-cpython-310/mpl_toolkits/axes_grid\r\n",
      "  \u001B[31m   \u001B[0m copying lib/mpl_toolkits/axes_grid/colorbar.py -> build/lib.linux-x86_64-cpython-310/mpl_toolkits/axes_grid\r\n",
      "  \u001B[31m   \u001B[0m copying lib/mpl_toolkits/axes_grid/angle_helper.py -> build/lib.linux-x86_64-cpython-310/mpl_toolkits/axes_grid\r\n",
      "  \u001B[31m   \u001B[0m copying lib/mpl_toolkits/axes_grid/inset_locator.py -> build/lib.linux-x86_64-cpython-310/mpl_toolkits/axes_grid\r\n",
      "  \u001B[31m   \u001B[0m copying lib/mpl_toolkits/axes_grid/axes_grid.py -> build/lib.linux-x86_64-cpython-310/mpl_toolkits/axes_grid\r\n",
      "  \u001B[31m   \u001B[0m copying lib/mpl_toolkits/axes_grid/axes_rgb.py -> build/lib.linux-x86_64-cpython-310/mpl_toolkits/axes_grid\r\n",
      "  \u001B[31m   \u001B[0m copying lib/mpl_toolkits/axes_grid/axislines.py -> build/lib.linux-x86_64-cpython-310/mpl_toolkits/axes_grid\r\n",
      "  \u001B[31m   \u001B[0m creating build/lib.linux-x86_64-cpython-310/matplotlib/mpl-data\r\n",
      "  \u001B[31m   \u001B[0m creating build/lib.linux-x86_64-cpython-310/matplotlib/mpl-data/images\r\n",
      "  \u001B[31m   \u001B[0m copying lib/matplotlib/mpl-data/images/help_large.ppm -> build/lib.linux-x86_64-cpython-310/matplotlib/mpl-data/images\r\n",
      "  \u001B[31m   \u001B[0m creating build/lib.linux-x86_64-cpython-310/matplotlib/mpl-data/stylelib\r\n",
      "  \u001B[31m   \u001B[0m copying lib/matplotlib/mpl-data/stylelib/seaborn-talk.mplstyle -> build/lib.linux-x86_64-cpython-310/matplotlib/mpl-data/stylelib\r\n",
      "  \u001B[31m   \u001B[0m copying lib/matplotlib/mpl-data/stylelib/seaborn-muted.mplstyle -> build/lib.linux-x86_64-cpython-310/matplotlib/mpl-data/stylelib\r\n",
      "  \u001B[31m   \u001B[0m creating build/lib.linux-x86_64-cpython-310/matplotlib/mpl-data/fonts\r\n",
      "  \u001B[31m   \u001B[0m creating build/lib.linux-x86_64-cpython-310/matplotlib/mpl-data/fonts/afm\r\n",
      "  \u001B[31m   \u001B[0m copying lib/matplotlib/mpl-data/fonts/afm/cmex10.afm -> build/lib.linux-x86_64-cpython-310/matplotlib/mpl-data/fonts/afm\r\n",
      "  \u001B[31m   \u001B[0m copying lib/matplotlib/mpl-data/fonts/afm/pbkd8a.afm -> build/lib.linux-x86_64-cpython-310/matplotlib/mpl-data/fonts/afm\r\n",
      "  \u001B[31m   \u001B[0m copying lib/matplotlib/mpl-data/fonts/afm/phvb8a.afm -> build/lib.linux-x86_64-cpython-310/matplotlib/mpl-data/fonts/afm\r\n",
      "  \u001B[31m   \u001B[0m copying lib/matplotlib/mpl-data/images/forward.png -> build/lib.linux-x86_64-cpython-310/matplotlib/mpl-data/images\r\n",
      "  \u001B[31m   \u001B[0m creating build/lib.linux-x86_64-cpython-310/matplotlib/mpl-data/fonts/ttf\r\n",
      "  \u001B[31m   \u001B[0m copying lib/matplotlib/mpl-data/fonts/ttf/DejaVuSansMono-BoldOblique.ttf -> build/lib.linux-x86_64-cpython-310/matplotlib/mpl-data/fonts/ttf\r\n",
      "  \u001B[31m   \u001B[0m copying lib/matplotlib/mpl-data/fonts/afm/pncr8a.afm -> build/lib.linux-x86_64-cpython-310/matplotlib/mpl-data/fonts/afm\r\n",
      "  \u001B[31m   \u001B[0m copying lib/matplotlib/mpl-data/fonts/ttf/DejaVuSans-Oblique.ttf -> build/lib.linux-x86_64-cpython-310/matplotlib/mpl-data/fonts/ttf\r\n",
      "  \u001B[31m   \u001B[0m copying lib/matplotlib/mpl-data/fonts/ttf/STIXSizThreeSymReg.ttf -> build/lib.linux-x86_64-cpython-310/matplotlib/mpl-data/fonts/ttf\r\n",
      "  \u001B[31m   \u001B[0m copying lib/matplotlib/mpl-data/images/filesave.gif -> build/lib.linux-x86_64-cpython-310/matplotlib/mpl-data/images\r\n",
      "  \u001B[31m   \u001B[0m copying lib/matplotlib/mpl-data/images/zoom_to_rect_large.gif -> build/lib.linux-x86_64-cpython-310/matplotlib/mpl-data/images\r\n",
      "  \u001B[31m   \u001B[0m copying lib/matplotlib/mpl-data/stylelib/seaborn-pastel.mplstyle -> build/lib.linux-x86_64-cpython-310/matplotlib/mpl-data/stylelib\r\n",
      "  \u001B[31m   \u001B[0m copying lib/matplotlib/mpl-data/stylelib/bmh.mplstyle -> build/lib.linux-x86_64-cpython-310/matplotlib/mpl-data/stylelib\r\n",
      "  \u001B[31m   \u001B[0m creating build/lib.linux-x86_64-cpython-310/matplotlib/backends/web_backend\r\n",
      "  \u001B[31m   \u001B[0m creating build/lib.linux-x86_64-cpython-310/matplotlib/backends/web_backend/css\r\n",
      "  \u001B[31m   \u001B[0m copying lib/matplotlib/backends/web_backend/css/boilerplate.css -> build/lib.linux-x86_64-cpython-310/matplotlib/backends/web_backend/css\r\n",
      "  \u001B[31m   \u001B[0m copying lib/matplotlib/mpl-data/images/filesave.pdf -> build/lib.linux-x86_64-cpython-310/matplotlib/mpl-data/images\r\n",
      "  \u001B[31m   \u001B[0m copying lib/matplotlib/mpl-data/fonts/afm/phvr8an.afm -> build/lib.linux-x86_64-cpython-310/matplotlib/mpl-data/fonts/afm\r\n",
      "  \u001B[31m   \u001B[0m copying lib/matplotlib/mpl-data/stylelib/fivethirtyeight.mplstyle -> build/lib.linux-x86_64-cpython-310/matplotlib/mpl-data/stylelib\r\n",
      "  \u001B[31m   \u001B[0m copying lib/matplotlib/mpl-data/fonts/ttf/DejaVuSerif-Italic.ttf -> build/lib.linux-x86_64-cpython-310/matplotlib/mpl-data/fonts/ttf\r\n",
      "  \u001B[31m   \u001B[0m copying lib/matplotlib/backends/web_backend/single_figure.html -> build/lib.linux-x86_64-cpython-310/matplotlib/backends/web_backend\r\n",
      "  \u001B[31m   \u001B[0m copying lib/matplotlib/mpl-data/fonts/afm/pplb8a.afm -> build/lib.linux-x86_64-cpython-310/matplotlib/mpl-data/fonts/afm\r\n",
      "  \u001B[31m   \u001B[0m copying lib/matplotlib/mpl-data/fonts/afm/psyr.afm -> build/lib.linux-x86_64-cpython-310/matplotlib/mpl-data/fonts/afm\r\n",
      "  \u001B[31m   \u001B[0m copying lib/matplotlib/mpl-data/images/zoom_to_rect.gif -> build/lib.linux-x86_64-cpython-310/matplotlib/mpl-data/images\r\n",
      "  \u001B[31m   \u001B[0m creating build/lib.linux-x86_64-cpython-310/matplotlib/backends/web_backend/jquery-ui-1.12.1\r\n",
      "  \u001B[31m   \u001B[0m copying lib/matplotlib/backends/web_backend/jquery-ui-1.12.1/AUTHORS.txt -> build/lib.linux-x86_64-cpython-310/matplotlib/backends/web_backend/jquery-ui-1.12.1\r\n",
      "  \u001B[31m   \u001B[0m creating build/lib.linux-x86_64-cpython-310/matplotlib/mpl-data/sample_data\r\n",
      "  \u001B[31m   \u001B[0m copying lib/matplotlib/mpl-data/sample_data/ct.raw.gz -> build/lib.linux-x86_64-cpython-310/matplotlib/mpl-data/sample_data\r\n",
      "  \u001B[31m   \u001B[0m copying lib/matplotlib/mpl-data/fonts/afm/pbkli8a.afm -> build/lib.linux-x86_64-cpython-310/matplotlib/mpl-data/fonts/afm\r\n",
      "  \u001B[31m   \u001B[0m copying lib/matplotlib/mpl-data/images/back.gif -> build/lib.linux-x86_64-cpython-310/matplotlib/mpl-data/images\r\n",
      "  \u001B[31m   \u001B[0m copying lib/matplotlib/mpl-data/fonts/afm/phvbo8an.afm -> build/lib.linux-x86_64-cpython-310/matplotlib/mpl-data/fonts/afm\r\n",
      "  \u001B[31m   \u001B[0m copying lib/matplotlib/mpl-data/images/subplots.svg -> build/lib.linux-x86_64-cpython-310/matplotlib/mpl-data/images\r\n",
      "  \u001B[31m   \u001B[0m copying lib/matplotlib/mpl-data/stylelib/seaborn-dark.mplstyle -> build/lib.linux-x86_64-cpython-310/matplotlib/mpl-data/stylelib\r\n",
      "  \u001B[31m   \u001B[0m copying lib/matplotlib/backends/web_backend/ipython_inline_figure.html -> build/lib.linux-x86_64-cpython-310/matplotlib/backends/web_backend\r\n",
      "  \u001B[31m   \u001B[0m copying lib/matplotlib/backends/web_backend/nbagg_uat.ipynb -> build/lib.linux-x86_64-cpython-310/matplotlib/backends/web_backend\r\n",
      "  \u001B[31m   \u001B[0m copying lib/matplotlib/mpl-data/sample_data/logo2.png -> build/lib.linux-x86_64-cpython-310/matplotlib/mpl-data/sample_data\r\n",
      "  \u001B[31m   \u001B[0m copying lib/matplotlib/mpl-data/fonts/ttf/cmr10.ttf -> build/lib.linux-x86_64-cpython-310/matplotlib/mpl-data/fonts/ttf\r\n",
      "  \u001B[31m   \u001B[0m copying lib/matplotlib/mpl-data/stylelib/seaborn-darkgrid.mplstyle -> build/lib.linux-x86_64-cpython-310/matplotlib/mpl-data/stylelib\r\n",
      "  \u001B[31m   \u001B[0m copying lib/matplotlib/mpl-data/fonts/ttf/STIXSizThreeSymBol.ttf -> build/lib.linux-x86_64-cpython-310/matplotlib/mpl-data/fonts/ttf\r\n",
      "  \u001B[31m   \u001B[0m copying lib/matplotlib/mpl-data/fonts/ttf/DejaVuSansMono-Oblique.ttf -> build/lib.linux-x86_64-cpython-310/matplotlib/mpl-data/fonts/ttf\r\n",
      "  \u001B[31m   \u001B[0m creating build/lib.linux-x86_64-cpython-310/matplotlib/mpl-data/fonts/pdfcorefonts\r\n",
      "  \u001B[31m   \u001B[0m copying lib/matplotlib/mpl-data/fonts/pdfcorefonts/Helvetica-BoldOblique.afm -> build/lib.linux-x86_64-cpython-310/matplotlib/mpl-data/fonts/pdfcorefonts\r\n",
      "  \u001B[31m   \u001B[0m copying lib/matplotlib/mpl-data/sample_data/embedding_in_wx3.xrc -> build/lib.linux-x86_64-cpython-310/matplotlib/mpl-data/sample_data\r\n",
      "  \u001B[31m   \u001B[0m copying lib/matplotlib/mpl-data/sample_data/README.txt -> build/lib.linux-x86_64-cpython-310/matplotlib/mpl-data/sample_data\r\n",
      "  \u001B[31m   \u001B[0m copying lib/matplotlib/mpl-data/sample_data/grace_hopper.jpg -> build/lib.linux-x86_64-cpython-310/matplotlib/mpl-data/sample_data\r\n",
      "  \u001B[31m   \u001B[0m copying lib/matplotlib/mpl-data/images/move_large.png -> build/lib.linux-x86_64-cpython-310/matplotlib/mpl-data/images\r\n",
      "  \u001B[31m   \u001B[0m copying lib/matplotlib/mpl-data/stylelib/seaborn-poster.mplstyle -> build/lib.linux-x86_64-cpython-310/matplotlib/mpl-data/stylelib\r\n",
      "  \u001B[31m   \u001B[0m copying lib/matplotlib/mpl-data/sample_data/msft.csv -> build/lib.linux-x86_64-cpython-310/matplotlib/mpl-data/sample_data\r\n",
      "  \u001B[31m   \u001B[0m copying lib/matplotlib/mpl-data/fonts/pdfcorefonts/Courier-Bold.afm -> build/lib.linux-x86_64-cpython-310/matplotlib/mpl-data/fonts/pdfcorefonts\r\n",
      "  \u001B[31m   \u001B[0m copying lib/matplotlib/mpl-data/fonts/ttf/STIXSizTwoSymBol.ttf -> build/lib.linux-x86_64-cpython-310/matplotlib/mpl-data/fonts/ttf\r\n",
      "  \u001B[31m   \u001B[0m copying lib/matplotlib/mpl-data/fonts/afm/ptmb8a.afm -> build/lib.linux-x86_64-cpython-310/matplotlib/mpl-data/fonts/afm\r\n",
      "  \u001B[31m   \u001B[0m copying lib/matplotlib/mpl-data/fonts/afm/pagd8a.afm -> build/lib.linux-x86_64-cpython-310/matplotlib/mpl-data/fonts/afm\r\n",
      "  \u001B[31m   \u001B[0m copying lib/matplotlib/mpl-data/images/hand.svg -> build/lib.linux-x86_64-cpython-310/matplotlib/mpl-data/images\r\n",
      "  \u001B[31m   \u001B[0m copying lib/matplotlib/mpl-data/images/subplots.pdf -> build/lib.linux-x86_64-cpython-310/matplotlib/mpl-data/images\r\n",
      "  \u001B[31m   \u001B[0m copying lib/matplotlib/mpl-data/fonts/ttf/DejaVuSans.ttf -> build/lib.linux-x86_64-cpython-310/matplotlib/mpl-data/fonts/ttf\r\n",
      "  \u001B[31m   \u001B[0m copying lib/matplotlib/mpl-data/fonts/ttf/DejaVuSansDisplay.ttf -> build/lib.linux-x86_64-cpython-310/matplotlib/mpl-data/fonts/ttf\r\n",
      "  \u001B[31m   \u001B[0m copying lib/matplotlib/mpl-data/sample_data/demodata.csv -> build/lib.linux-x86_64-cpython-310/matplotlib/mpl-data/sample_data\r\n",
      "  \u001B[31m   \u001B[0m copying lib/matplotlib/mpl-data/sample_data/topobathy.npz -> build/lib.linux-x86_64-cpython-310/matplotlib/mpl-data/sample_data\r\n",
      "  \u001B[31m   \u001B[0m copying lib/matplotlib/mpl-data/fonts/pdfcorefonts/Helvetica.afm -> build/lib.linux-x86_64-cpython-310/matplotlib/mpl-data/fonts/pdfcorefonts\r\n",
      "  \u001B[31m   \u001B[0m copying lib/matplotlib/mpl-data/images/matplotlib_128.ppm -> build/lib.linux-x86_64-cpython-310/matplotlib/mpl-data/images\r\n",
      "  \u001B[31m   \u001B[0m copying lib/matplotlib/mpl-data/images/move.png -> build/lib.linux-x86_64-cpython-310/matplotlib/mpl-data/images\r\n",
      "  \u001B[31m   \u001B[0m copying lib/matplotlib/mpl-data/fonts/afm/putb8a.afm -> build/lib.linux-x86_64-cpython-310/matplotlib/mpl-data/fonts/afm\r\n",
      "  \u001B[31m   \u001B[0m copying lib/matplotlib/mpl-data/stylelib/seaborn-deep.mplstyle -> build/lib.linux-x86_64-cpython-310/matplotlib/mpl-data/stylelib\r\n",
      "  \u001B[31m   \u001B[0m creating build/lib.linux-x86_64-cpython-310/matplotlib/backends/web_backend/jquery-ui-1.12.1/images\r\n",
      "  \u001B[31m   \u001B[0m copying lib/matplotlib/backends/web_backend/jquery-ui-1.12.1/images/ui-icons_444444_256x240.png -> build/lib.linux-x86_64-cpython-310/matplotlib/backends/web_backend/jquery-ui-1.12.1/images\r\n",
      "  \u001B[31m   \u001B[0m copying lib/matplotlib/mpl-data/fonts/ttf/DejaVuSerif-BoldItalic.ttf -> build/lib.linux-x86_64-cpython-310/matplotlib/mpl-data/fonts/ttf\r\n",
      "  \u001B[31m   \u001B[0m copying lib/matplotlib/mpl-data/fonts/ttf/DejaVuSansMono-Bold.ttf -> build/lib.linux-x86_64-cpython-310/matplotlib/mpl-data/fonts/ttf\r\n",
      "  \u001B[31m   \u001B[0m copying lib/matplotlib/mpl-data/images/hand_large.gif -> build/lib.linux-x86_64-cpython-310/matplotlib/mpl-data/images\r\n",
      "  \u001B[31m   \u001B[0m copying lib/matplotlib/mpl-data/fonts/ttf/STIXSizFourSymReg.ttf -> build/lib.linux-x86_64-cpython-310/matplotlib/mpl-data/fonts/ttf\r\n",
      "  \u001B[31m   \u001B[0m copying lib/matplotlib/mpl-data/stylelib/seaborn-bright.mplstyle -> build/lib.linux-x86_64-cpython-310/matplotlib/mpl-data/stylelib\r\n",
      "  \u001B[31m   \u001B[0m copying lib/matplotlib/mpl-data/images/home.svg -> build/lib.linux-x86_64-cpython-310/matplotlib/mpl-data/images\r\n",
      "  \u001B[31m   \u001B[0m copying lib/matplotlib/backends/web_backend/css/fbm.css -> build/lib.linux-x86_64-cpython-310/matplotlib/backends/web_backend/css\r\n",
      "  \u001B[31m   \u001B[0m copying lib/matplotlib/mpl-data/sample_data/membrane.dat -> build/lib.linux-x86_64-cpython-310/matplotlib/mpl-data/sample_data\r\n",
      "  \u001B[31m   \u001B[0m copying lib/matplotlib/mpl-data/sample_data/Minduka_Present_Blue_Pack.png -> build/lib.linux-x86_64-cpython-310/matplotlib/mpl-data/sample_data\r\n",
      "  \u001B[31m   \u001B[0m copying lib/matplotlib/mpl-data/images/move.gif -> build/lib.linux-x86_64-cpython-310/matplotlib/mpl-data/images\r\n",
      "  \u001B[31m   \u001B[0m copying lib/matplotlib/mpl-data/images/forward_large.gif -> build/lib.linux-x86_64-cpython-310/matplotlib/mpl-data/images\r\n",
      "  \u001B[31m   \u001B[0m copying lib/matplotlib/mpl-data/images/qt4_editor_options_large.png -> build/lib.linux-x86_64-cpython-310/matplotlib/mpl-data/images\r\n",
      "  \u001B[31m   \u001B[0m copying lib/matplotlib/mpl-data/images/hand.pdf -> build/lib.linux-x86_64-cpython-310/matplotlib/mpl-data/images\r\n",
      "  \u001B[31m   \u001B[0m copying lib/matplotlib/mpl-data/stylelib/fast.mplstyle -> build/lib.linux-x86_64-cpython-310/matplotlib/mpl-data/stylelib\r\n",
      "  \u001B[31m   \u001B[0m copying lib/matplotlib/mpl-data/fonts/pdfcorefonts/Helvetica-Bold.afm -> build/lib.linux-x86_64-cpython-310/matplotlib/mpl-data/fonts/pdfcorefonts\r\n",
      "  \u001B[31m   \u001B[0m copying lib/matplotlib/mpl-data/images/qt4_editor_options.svg -> build/lib.linux-x86_64-cpython-310/matplotlib/mpl-data/images\r\n",
      "  \u001B[31m   \u001B[0m copying lib/matplotlib/mpl-data/images/move.svg -> build/lib.linux-x86_64-cpython-310/matplotlib/mpl-data/images\r\n",
      "  \u001B[31m   \u001B[0m copying lib/matplotlib/backends/web_backend/jquery-ui-1.12.1/images/ui-icons_555555_256x240.png -> build/lib.linux-x86_64-cpython-310/matplotlib/backends/web_backend/jquery-ui-1.12.1/images\r\n",
      "  \u001B[31m   \u001B[0m copying lib/matplotlib/mpl-data/fonts/ttf/DejaVuSansMono.ttf -> build/lib.linux-x86_64-cpython-310/matplotlib/mpl-data/fonts/ttf\r\n",
      "  \u001B[31m   \u001B[0m copying lib/matplotlib/mpl-data/sample_data/aapl.npz -> build/lib.linux-x86_64-cpython-310/matplotlib/mpl-data/sample_data\r\n",
      "  \u001B[31m   \u001B[0m copying lib/matplotlib/mpl-data/fonts/afm/ptmbi8a.afm -> build/lib.linux-x86_64-cpython-310/matplotlib/mpl-data/fonts/afm\r\n",
      "  \u001B[31m   \u001B[0m copying lib/matplotlib/mpl-data/images/zoom_to_rect_large.png -> build/lib.linux-x86_64-cpython-310/matplotlib/mpl-data/images\r\n",
      "  \u001B[31m   \u001B[0m copying lib/matplotlib/mpl-data/fonts/ttf/STIXGeneralItalic.ttf -> build/lib.linux-x86_64-cpython-310/matplotlib/mpl-data/fonts/ttf\r\n",
      "  \u001B[31m   \u001B[0m copying lib/matplotlib/mpl-data/fonts/afm/phvl8a.afm -> build/lib.linux-x86_64-cpython-310/matplotlib/mpl-data/fonts/afm\r\n",
      "  \u001B[31m   \u001B[0m copying lib/matplotlib/mpl-data/fonts/pdfcorefonts/ZapfDingbats.afm -> build/lib.linux-x86_64-cpython-310/matplotlib/mpl-data/fonts/pdfcorefonts\r\n",
      "  \u001B[31m   \u001B[0m copying lib/matplotlib/mpl-data/fonts/afm/pncb8a.afm -> build/lib.linux-x86_64-cpython-310/matplotlib/mpl-data/fonts/afm\r\n",
      "  \u001B[31m   \u001B[0m copying lib/matplotlib/mpl-data/images/zoom_to_rect.svg -> build/lib.linux-x86_64-cpython-310/matplotlib/mpl-data/images\r\n",
      "  \u001B[31m   \u001B[0m copying lib/matplotlib/mpl-data/fonts/pdfcorefonts/Helvetica-Oblique.afm -> build/lib.linux-x86_64-cpython-310/matplotlib/mpl-data/fonts/pdfcorefonts\r\n",
      "  \u001B[31m   \u001B[0m copying lib/matplotlib/mpl-data/fonts/pdfcorefonts/Courier-Oblique.afm -> build/lib.linux-x86_64-cpython-310/matplotlib/mpl-data/fonts/pdfcorefonts\r\n",
      "  \u001B[31m   \u001B[0m copying lib/matplotlib/mpl-data/images/home_large.gif -> build/lib.linux-x86_64-cpython-310/matplotlib/mpl-data/images\r\n",
      "  \u001B[31m   \u001B[0m copying lib/matplotlib/mpl-data/sample_data/percent_bachelors_degrees_women_usa.csv -> build/lib.linux-x86_64-cpython-310/matplotlib/mpl-data/sample_data\r\n",
      "  \u001B[31m   \u001B[0m copying lib/matplotlib/mpl-data/images/back.svg -> build/lib.linux-x86_64-cpython-310/matplotlib/mpl-data/images\r\n",
      "  \u001B[31m   \u001B[0m copying lib/matplotlib/mpl-data/stylelib/seaborn-dark-palette.mplstyle -> build/lib.linux-x86_64-cpython-310/matplotlib/mpl-data/stylelib\r\n",
      "  \u001B[31m   \u001B[0m copying lib/matplotlib/mpl-data/fonts/afm/phvro8an.afm -> build/lib.linux-x86_64-cpython-310/matplotlib/mpl-data/fonts/afm\r\n",
      "  \u001B[31m   \u001B[0m copying lib/matplotlib/mpl-data/images/filesave.png -> build/lib.linux-x86_64-cpython-310/matplotlib/mpl-data/images\r\n",
      "  \u001B[31m   \u001B[0m copying lib/matplotlib/mpl-data/fonts/afm/pplri8a.afm -> build/lib.linux-x86_64-cpython-310/matplotlib/mpl-data/fonts/afm\r\n",
      "  \u001B[31m   \u001B[0m copying lib/matplotlib/mpl-data/fonts/ttf/STIXSizTwoSymReg.ttf -> build/lib.linux-x86_64-cpython-310/matplotlib/mpl-data/fonts/ttf\r\n",
      "  \u001B[31m   \u001B[0m copying lib/matplotlib/mpl-data/stylelib/classic.mplstyle -> build/lib.linux-x86_64-cpython-310/matplotlib/mpl-data/stylelib\r\n",
      "  \u001B[31m   \u001B[0m copying lib/matplotlib/mpl-data/images/move_large.gif -> build/lib.linux-x86_64-cpython-310/matplotlib/mpl-data/images\r\n",
      "  \u001B[31m   \u001B[0m copying lib/matplotlib/mpl-data/images/forward.pdf -> build/lib.linux-x86_64-cpython-310/matplotlib/mpl-data/images\r\n",
      "  \u001B[31m   \u001B[0m copying lib/matplotlib/mpl-data/sample_data/s1045.ima.gz -> build/lib.linux-x86_64-cpython-310/matplotlib/mpl-data/sample_data\r\n",
      "  \u001B[31m   \u001B[0m creating build/lib.linux-x86_64-cpython-310/matplotlib/backends/web_backend/js\r\n",
      "  \u001B[31m   \u001B[0m copying lib/matplotlib/backends/web_backend/js/mpl_tornado.js -> build/lib.linux-x86_64-cpython-310/matplotlib/backends/web_backend/js\r\n",
      "  \u001B[31m   \u001B[0m copying lib/matplotlib/backends/web_backend/jquery-ui-1.12.1/jquery-ui.structure.css -> build/lib.linux-x86_64-cpython-310/matplotlib/backends/web_backend/jquery-ui-1.12.1\r\n",
      "  \u001B[31m   \u001B[0m copying lib/matplotlib/mpl-data/images/back_large.png -> build/lib.linux-x86_64-cpython-310/matplotlib/mpl-data/images\r\n",
      "  \u001B[31m   \u001B[0m copying lib/matplotlib/mpl-data/fonts/afm/pagko8a.afm -> build/lib.linux-x86_64-cpython-310/matplotlib/mpl-data/fonts/afm\r\n",
      "  \u001B[31m   \u001B[0m copying lib/matplotlib/backends/web_backend/jquery-ui-1.12.1/jquery-ui.theme.css -> build/lib.linux-x86_64-cpython-310/matplotlib/backends/web_backend/jquery-ui-1.12.1\r\n",
      "  \u001B[31m   \u001B[0m copying lib/matplotlib/mpl-data/images/home.png -> build/lib.linux-x86_64-cpython-310/matplotlib/mpl-data/images\r\n",
      "  \u001B[31m   \u001B[0m copying lib/matplotlib/mpl-data/images/home.pdf -> build/lib.linux-x86_64-cpython-310/matplotlib/mpl-data/images\r\n",
      "  \u001B[31m   \u001B[0m copying lib/matplotlib/mpl-data/stylelib/seaborn-ticks.mplstyle -> build/lib.linux-x86_64-cpython-310/matplotlib/mpl-data/stylelib\r\n",
      "  \u001B[31m   \u001B[0m copying lib/matplotlib/mpl-data/fonts/ttf/cmtt10.ttf -> build/lib.linux-x86_64-cpython-310/matplotlib/mpl-data/fonts/ttf\r\n",
      "  \u001B[31m   \u001B[0m copying lib/matplotlib/mpl-data/fonts/afm/pcrro8a.afm -> build/lib.linux-x86_64-cpython-310/matplotlib/mpl-data/fonts/afm\r\n",
      "  \u001B[31m   \u001B[0m copying lib/matplotlib/backends/web_backend/jquery-ui-1.12.1/index.html -> build/lib.linux-x86_64-cpython-310/matplotlib/backends/web_backend/jquery-ui-1.12.1\r\n",
      "  \u001B[31m   \u001B[0m copying lib/matplotlib/mpl-data/stylelib/tableau-colorblind10.mplstyle -> build/lib.linux-x86_64-cpython-310/matplotlib/mpl-data/stylelib\r\n",
      "  \u001B[31m   \u001B[0m copying lib/matplotlib/mpl-data/fonts/ttf/STIXSizFiveSymReg.ttf -> build/lib.linux-x86_64-cpython-310/matplotlib/mpl-data/fonts/ttf\r\n",
      "  \u001B[31m   \u001B[0m copying lib/matplotlib/mpl-data/stylelib/seaborn-white.mplstyle -> build/lib.linux-x86_64-cpython-310/matplotlib/mpl-data/stylelib\r\n",
      "  \u001B[31m   \u001B[0m copying lib/matplotlib/mpl-data/fonts/afm/pncri8a.afm -> build/lib.linux-x86_64-cpython-310/matplotlib/mpl-data/fonts/afm\r\n",
      "  \u001B[31m   \u001B[0m copying lib/matplotlib/mpl-data/fonts/pdfcorefonts/Times-Bold.afm -> build/lib.linux-x86_64-cpython-310/matplotlib/mpl-data/fonts/pdfcorefonts\r\n",
      "  \u001B[31m   \u001B[0m copying lib/matplotlib/mpl-data/fonts/afm/phvro8a.afm -> build/lib.linux-x86_64-cpython-310/matplotlib/mpl-data/fonts/afm\r\n",
      "  \u001B[31m   \u001B[0m copying lib/matplotlib/backends/web_backend/jquery-ui-1.12.1/jquery-ui.min.js -> build/lib.linux-x86_64-cpython-310/matplotlib/backends/web_backend/jquery-ui-1.12.1\r\n",
      "  \u001B[31m   \u001B[0m copying lib/matplotlib/mpl-data/fonts/afm/pcrb8a.afm -> build/lib.linux-x86_64-cpython-310/matplotlib/mpl-data/fonts/afm\r\n",
      "  \u001B[31m   \u001B[0m copying lib/matplotlib/mpl-data/fonts/afm/cmmi10.afm -> build/lib.linux-x86_64-cpython-310/matplotlib/mpl-data/fonts/afm\r\n",
      "  \u001B[31m   \u001B[0m copying lib/matplotlib/mpl-data/images/back.pdf -> build/lib.linux-x86_64-cpython-310/matplotlib/mpl-data/images\r\n",
      "  \u001B[31m   \u001B[0m copying lib/matplotlib/mpl-data/images/forward_large.png -> build/lib.linux-x86_64-cpython-310/matplotlib/mpl-data/images\r\n",
      "  \u001B[31m   \u001B[0m copying lib/matplotlib/mpl-data/stylelib/grayscale.mplstyle -> build/lib.linux-x86_64-cpython-310/matplotlib/mpl-data/stylelib\r\n",
      "  \u001B[31m   \u001B[0m copying lib/matplotlib/mpl-data/sample_data/goog.npz -> build/lib.linux-x86_64-cpython-310/matplotlib/mpl-data/sample_data\r\n",
      "  \u001B[31m   \u001B[0m copying lib/matplotlib/mpl-data/fonts/pdfcorefonts/Times-Roman.afm -> build/lib.linux-x86_64-cpython-310/matplotlib/mpl-data/fonts/pdfcorefonts\r\n",
      "  \u001B[31m   \u001B[0m copying lib/matplotlib/mpl-data/sample_data/jacksboro_fault_dem.npz -> build/lib.linux-x86_64-cpython-310/matplotlib/mpl-data/sample_data\r\n",
      "  \u001B[31m   \u001B[0m copying lib/matplotlib/mpl-data/images/forward.gif -> build/lib.linux-x86_64-cpython-310/matplotlib/mpl-data/images\r\n",
      "  \u001B[31m   \u001B[0m copying lib/matplotlib/mpl-data/fonts/ttf/DejaVuSerif.ttf -> build/lib.linux-x86_64-cpython-310/matplotlib/mpl-data/fonts/ttf\r\n",
      "  \u001B[31m   \u001B[0m copying lib/matplotlib/mpl-data/stylelib/dark_background.mplstyle -> build/lib.linux-x86_64-cpython-310/matplotlib/mpl-data/stylelib\r\n",
      "  \u001B[31m   \u001B[0m copying lib/matplotlib/mpl-data/images/back.png -> build/lib.linux-x86_64-cpython-310/matplotlib/mpl-data/images\r\n",
      "  \u001B[31m   \u001B[0m copying lib/matplotlib/mpl-data/stylelib/seaborn.mplstyle -> build/lib.linux-x86_64-cpython-310/matplotlib/mpl-data/stylelib\r\n",
      "  \u001B[31m   \u001B[0m copying lib/matplotlib/mpl-data/fonts/ttf/STIXGeneralBol.ttf -> build/lib.linux-x86_64-cpython-310/matplotlib/mpl-data/fonts/ttf\r\n",
      "  \u001B[31m   \u001B[0m copying lib/matplotlib/mpl-data/fonts/afm/pzdr.afm -> build/lib.linux-x86_64-cpython-310/matplotlib/mpl-data/fonts/afm\r\n",
      "  \u001B[31m   \u001B[0m copying lib/matplotlib/mpl-data/fonts/ttf/STIXGeneralBolIta.ttf -> build/lib.linux-x86_64-cpython-310/matplotlib/mpl-data/fonts/ttf\r\n",
      "  \u001B[31m   \u001B[0m copying lib/matplotlib/mpl-data/fonts/ttf/STIXNonUniIta.ttf -> build/lib.linux-x86_64-cpython-310/matplotlib/mpl-data/fonts/ttf\r\n",
      "  \u001B[31m   \u001B[0m copying lib/matplotlib/mpl-data/fonts/afm/pncbi8a.afm -> build/lib.linux-x86_64-cpython-310/matplotlib/mpl-data/fonts/afm\r\n",
      "  \u001B[31m   \u001B[0m copying lib/matplotlib/mpl-data/images/hand.gif -> build/lib.linux-x86_64-cpython-310/matplotlib/mpl-data/images\r\n",
      "  \u001B[31m   \u001B[0m creating build/lib.linux-x86_64-cpython-310/matplotlib/backends/web_backend/jquery-ui-1.12.1/external\r\n",
      "  \u001B[31m   \u001B[0m creating build/lib.linux-x86_64-cpython-310/matplotlib/backends/web_backend/jquery-ui-1.12.1/external/jquery\r\n",
      "  \u001B[31m   \u001B[0m copying lib/matplotlib/backends/web_backend/jquery-ui-1.12.1/external/jquery/jquery.js -> build/lib.linux-x86_64-cpython-310/matplotlib/backends/web_backend/jquery-ui-1.12.1/external/jquery\r\n",
      "  \u001B[31m   \u001B[0m copying lib/matplotlib/mpl-data/fonts/afm/putr8a.afm -> build/lib.linux-x86_64-cpython-310/matplotlib/mpl-data/fonts/afm\r\n",
      "  \u001B[31m   \u001B[0m copying lib/matplotlib/backends/web_backend/jquery-ui-1.12.1/jquery-ui.js -> build/lib.linux-x86_64-cpython-310/matplotlib/backends/web_backend/jquery-ui-1.12.1\r\n",
      "  \u001B[31m   \u001B[0m copying lib/matplotlib/mpl-data/images/subplots.png -> build/lib.linux-x86_64-cpython-310/matplotlib/mpl-data/images\r\n",
      "  \u001B[31m   \u001B[0m copying lib/matplotlib/mpl-data/images/filesave_large.png -> build/lib.linux-x86_64-cpython-310/matplotlib/mpl-data/images\r\n",
      "  \u001B[31m   \u001B[0m copying lib/matplotlib/mpl-data/fonts/pdfcorefonts/Symbol.afm -> build/lib.linux-x86_64-cpython-310/matplotlib/mpl-data/fonts/pdfcorefonts\r\n",
      "  \u001B[31m   \u001B[0m copying lib/matplotlib/mpl-data/fonts/ttf/DejaVuSans-BoldOblique.ttf -> build/lib.linux-x86_64-cpython-310/matplotlib/mpl-data/fonts/ttf\r\n",
      "  \u001B[31m   \u001B[0m copying lib/matplotlib/mpl-data/fonts/ttf/LICENSE_STIX -> build/lib.linux-x86_64-cpython-310/matplotlib/mpl-data/fonts/ttf\r\n",
      "  \u001B[31m   \u001B[0m copying lib/matplotlib/mpl-data/fonts/pdfcorefonts/readme.txt -> build/lib.linux-x86_64-cpython-310/matplotlib/mpl-data/fonts/pdfcorefonts\r\n",
      "  \u001B[31m   \u001B[0m copying lib/matplotlib/mpl-data/stylelib/seaborn-whitegrid.mplstyle -> build/lib.linux-x86_64-cpython-310/matplotlib/mpl-data/stylelib\r\n",
      "  \u001B[31m   \u001B[0m copying lib/matplotlib/mpl-data/fonts/ttf/DejaVuSerif-Bold.ttf -> build/lib.linux-x86_64-cpython-310/matplotlib/mpl-data/fonts/ttf\r\n",
      "  \u001B[31m   \u001B[0m copying lib/matplotlib/mpl-data/fonts/ttf/STIXSizOneSymBol.ttf -> build/lib.linux-x86_64-cpython-310/matplotlib/mpl-data/fonts/ttf\r\n",
      "  \u001B[31m   \u001B[0m copying lib/matplotlib/backends/web_backend/jquery-ui-1.12.1/LICENSE.txt -> build/lib.linux-x86_64-cpython-310/matplotlib/backends/web_backend/jquery-ui-1.12.1\r\n",
      "  \u001B[31m   \u001B[0m copying lib/matplotlib/mpl-data/fonts/afm/ptmr8a.afm -> build/lib.linux-x86_64-cpython-310/matplotlib/mpl-data/fonts/afm\r\n",
      "  \u001B[31m   \u001B[0m copying lib/matplotlib/backends/web_backend/css/page.css -> build/lib.linux-x86_64-cpython-310/matplotlib/backends/web_backend/css\r\n",
      "  \u001B[31m   \u001B[0m copying lib/matplotlib/mpl-data/sample_data/None_vs_nearest-pdf.png -> build/lib.linux-x86_64-cpython-310/matplotlib/mpl-data/sample_data\r\n",
      "  \u001B[31m   \u001B[0m copying lib/matplotlib/mpl-data/fonts/afm/cmtt10.afm -> build/lib.linux-x86_64-cpython-310/matplotlib/mpl-data/fonts/afm\r\n",
      "  \u001B[31m   \u001B[0m copying lib/matplotlib/mpl-data/fonts/ttf/STIXSizFourSymBol.ttf -> build/lib.linux-x86_64-cpython-310/matplotlib/mpl-data/fonts/ttf\r\n",
      "  \u001B[31m   \u001B[0m copying lib/matplotlib/mpl-data/sample_data/grace_hopper.png -> build/lib.linux-x86_64-cpython-310/matplotlib/mpl-data/sample_data\r\n",
      "  \u001B[31m   \u001B[0m copying lib/matplotlib/mpl-data/images/subplots.gif -> build/lib.linux-x86_64-cpython-310/matplotlib/mpl-data/images\r\n",
      "  \u001B[31m   \u001B[0m copying lib/matplotlib/mpl-data/images/filesave_large.gif -> build/lib.linux-x86_64-cpython-310/matplotlib/mpl-data/images\r\n",
      "  \u001B[31m   \u001B[0m copying lib/matplotlib/mpl-data/stylelib/seaborn-paper.mplstyle -> build/lib.linux-x86_64-cpython-310/matplotlib/mpl-data/stylelib\r\n",
      "  \u001B[31m   \u001B[0m copying lib/matplotlib/mpl-data/fonts/afm/phvbo8a.afm -> build/lib.linux-x86_64-cpython-310/matplotlib/mpl-data/fonts/afm\r\n",
      "  \u001B[31m   \u001B[0m copying lib/matplotlib/backends/web_backend/jquery-ui-1.12.1/jquery-ui.min.css -> build/lib.linux-x86_64-cpython-310/matplotlib/backends/web_backend/jquery-ui-1.12.1\r\n",
      "  \u001B[31m   \u001B[0m copying lib/matplotlib/backends/web_backend/jquery-ui-1.12.1/jquery-ui.structure.min.css -> build/lib.linux-x86_64-cpython-310/matplotlib/backends/web_backend/jquery-ui-1.12.1\r\n",
      "  \u001B[31m   \u001B[0m copying lib/matplotlib/mpl-data/fonts/pdfcorefonts/Times-BoldItalic.afm -> build/lib.linux-x86_64-cpython-310/matplotlib/mpl-data/fonts/pdfcorefonts\r\n",
      "  \u001B[31m   \u001B[0m copying lib/matplotlib/backends/web_backend/jquery-ui-1.12.1/jquery-ui.theme.min.css -> build/lib.linux-x86_64-cpython-310/matplotlib/backends/web_backend/jquery-ui-1.12.1\r\n",
      "  \u001B[31m   \u001B[0m copying lib/matplotlib/mpl-data/images/subplots_large.png -> build/lib.linux-x86_64-cpython-310/matplotlib/mpl-data/images\r\n",
      "  \u001B[31m   \u001B[0m copying lib/matplotlib/mpl-data/fonts/ttf/cmsy10.ttf -> build/lib.linux-x86_64-cpython-310/matplotlib/mpl-data/fonts/ttf\r\n",
      "  \u001B[31m   \u001B[0m copying lib/matplotlib/mpl-data/fonts/afm/pbkdi8a.afm -> build/lib.linux-x86_64-cpython-310/matplotlib/mpl-data/fonts/afm\r\n",
      "  \u001B[31m   \u001B[0m copying lib/matplotlib/mpl-data/fonts/afm/phvb8an.afm -> build/lib.linux-x86_64-cpython-310/matplotlib/mpl-data/fonts/afm\r\n",
      "  \u001B[31m   \u001B[0m copying lib/matplotlib/mpl-data/images/help.png -> build/lib.linux-x86_64-cpython-310/matplotlib/mpl-data/images\r\n",
      "  \u001B[31m   \u001B[0m copying lib/matplotlib/backends/web_backend/jquery-ui-1.12.1/images/ui-icons_777777_256x240.png -> build/lib.linux-x86_64-cpython-310/matplotlib/backends/web_backend/jquery-ui-1.12.1/images\r\n",
      "  \u001B[31m   \u001B[0m copying lib/matplotlib/mpl-data/fonts/afm/pagk8a.afm -> build/lib.linux-x86_64-cpython-310/matplotlib/mpl-data/fonts/afm\r\n",
      "  \u001B[31m   \u001B[0m copying lib/matplotlib/mpl-data/stylelib/_classic_test_patch.mplstyle -> build/lib.linux-x86_64-cpython-310/matplotlib/mpl-data/stylelib\r\n",
      "  \u001B[31m   \u001B[0m copying lib/matplotlib/mpl-data/fonts/pdfcorefonts/Courier.afm -> build/lib.linux-x86_64-cpython-310/matplotlib/mpl-data/fonts/pdfcorefonts\r\n",
      "  \u001B[31m   \u001B[0m copying lib/matplotlib/mpl-data/fonts/afm/ptmri8a.afm -> build/lib.linux-x86_64-cpython-310/matplotlib/mpl-data/fonts/afm\r\n",
      "  \u001B[31m   \u001B[0m copying lib/matplotlib/mpl-data/fonts/ttf/STIXNonUniBolIta.ttf -> build/lib.linux-x86_64-cpython-310/matplotlib/mpl-data/fonts/ttf\r\n",
      "  \u001B[31m   \u001B[0m copying lib/matplotlib/mpl-data/fonts/afm/phvlo8a.afm -> build/lib.linux-x86_64-cpython-310/matplotlib/mpl-data/fonts/afm\r\n",
      "  \u001B[31m   \u001B[0m copying lib/matplotlib/mpl-data/images/help_large.png -> build/lib.linux-x86_64-cpython-310/matplotlib/mpl-data/images\r\n",
      "  \u001B[31m   \u001B[0m copying lib/matplotlib/mpl-data/images/subplots_large.gif -> build/lib.linux-x86_64-cpython-310/matplotlib/mpl-data/images\r\n",
      "  \u001B[31m   \u001B[0m creating build/lib.linux-x86_64-cpython-310/matplotlib/mpl-data/sample_data/axes_grid\r\n",
      "  \u001B[31m   \u001B[0m copying lib/matplotlib/mpl-data/sample_data/axes_grid/bivariate_normal.npy -> build/lib.linux-x86_64-cpython-310/matplotlib/mpl-data/sample_data/axes_grid\r\n",
      "  \u001B[31m   \u001B[0m copying lib/matplotlib/mpl-data/fonts/ttf/STIXGeneral.ttf -> build/lib.linux-x86_64-cpython-310/matplotlib/mpl-data/fonts/ttf\r\n",
      "  \u001B[31m   \u001B[0m copying lib/matplotlib/mpl-data/images/zoom_to_rect.png -> build/lib.linux-x86_64-cpython-310/matplotlib/mpl-data/images\r\n",
      "  \u001B[31m   \u001B[0m copying lib/matplotlib/mpl-data/images/move.pdf -> build/lib.linux-x86_64-cpython-310/matplotlib/mpl-data/images\r\n",
      "  \u001B[31m   \u001B[0m copying lib/matplotlib/mpl-data/matplotlibrc -> build/lib.linux-x86_64-cpython-310/matplotlib/mpl-data\r\n",
      "  \u001B[31m   \u001B[0m copying lib/matplotlib/mpl-data/fonts/ttf/cmex10.ttf -> build/lib.linux-x86_64-cpython-310/matplotlib/mpl-data/fonts/ttf\r\n",
      "  \u001B[31m   \u001B[0m copying lib/matplotlib/mpl-data/fonts/afm/pplr8a.afm -> build/lib.linux-x86_64-cpython-310/matplotlib/mpl-data/fonts/afm\r\n",
      "  \u001B[31m   \u001B[0m copying lib/matplotlib/mpl-data/fonts/afm/pagdo8a.afm -> build/lib.linux-x86_64-cpython-310/matplotlib/mpl-data/fonts/afm\r\n",
      "  \u001B[31m   \u001B[0m copying lib/matplotlib/mpl-data/fonts/pdfcorefonts/Times-Italic.afm -> build/lib.linux-x86_64-cpython-310/matplotlib/mpl-data/fonts/pdfcorefonts\r\n",
      "  \u001B[31m   \u001B[0m copying lib/matplotlib/mpl-data/images/help.ppm -> build/lib.linux-x86_64-cpython-310/matplotlib/mpl-data/images\r\n",
      "  \u001B[31m   \u001B[0m copying lib/matplotlib/mpl-data/images/matplotlib_large.png -> build/lib.linux-x86_64-cpython-310/matplotlib/mpl-data/images\r\n",
      "  \u001B[31m   \u001B[0m copying lib/matplotlib/mpl-data/fonts/afm/pcrr8a.afm -> build/lib.linux-x86_64-cpython-310/matplotlib/mpl-data/fonts/afm\r\n",
      "  \u001B[31m   \u001B[0m copying lib/matplotlib/mpl-data/stylelib/Solarize_Light2.mplstyle -> build/lib.linux-x86_64-cpython-310/matplotlib/mpl-data/stylelib\r\n",
      "  \u001B[31m   \u001B[0m copying lib/matplotlib/mpl-data/fonts/afm/cmsy10.afm -> build/lib.linux-x86_64-cpython-310/matplotlib/mpl-data/fonts/afm\r\n",
      "  \u001B[31m   \u001B[0m copying lib/matplotlib/mpl-data/images/qt4_editor_options.pdf -> build/lib.linux-x86_64-cpython-310/matplotlib/mpl-data/images\r\n",
      "  \u001B[31m   \u001B[0m copying lib/matplotlib/backends/web_backend/all_figures.html -> build/lib.linux-x86_64-cpython-310/matplotlib/backends/web_backend\r\n",
      "  \u001B[31m   \u001B[0m copying lib/matplotlib/backends/web_backend/js/nbagg_mpl.js -> build/lib.linux-x86_64-cpython-310/matplotlib/backends/web_backend/js\r\n",
      "  \u001B[31m   \u001B[0m copying lib/matplotlib/mpl-data/fonts/ttf/LICENSE_DEJAVU -> build/lib.linux-x86_64-cpython-310/matplotlib/mpl-data/fonts/ttf\r\n",
      "  \u001B[31m   \u001B[0m copying lib/matplotlib/mpl-data/fonts/pdfcorefonts/Courier-BoldOblique.afm -> build/lib.linux-x86_64-cpython-310/matplotlib/mpl-data/fonts/pdfcorefonts\r\n",
      "  \u001B[31m   \u001B[0m copying lib/matplotlib/mpl-data/fonts/ttf/cmb10.ttf -> build/lib.linux-x86_64-cpython-310/matplotlib/mpl-data/fonts/ttf\r\n",
      "  \u001B[31m   \u001B[0m copying lib/matplotlib/mpl-data/images/back_large.gif -> build/lib.linux-x86_64-cpython-310/matplotlib/mpl-data/images\r\n",
      "  \u001B[31m   \u001B[0m copying lib/matplotlib/mpl-data/images/zoom_to_rect.pdf -> build/lib.linux-x86_64-cpython-310/matplotlib/mpl-data/images\r\n",
      "  \u001B[31m   \u001B[0m copying lib/matplotlib/mpl-data/sample_data/eeg.dat -> build/lib.linux-x86_64-cpython-310/matplotlib/mpl-data/sample_data\r\n",
      "  \u001B[31m   \u001B[0m copying lib/matplotlib/mpl-data/images/help.svg -> build/lib.linux-x86_64-cpython-310/matplotlib/mpl-data/images\r\n",
      "  \u001B[31m   \u001B[0m copying lib/matplotlib/mpl-data/fonts/ttf/STIXNonUni.ttf -> build/lib.linux-x86_64-cpython-310/matplotlib/mpl-data/fonts/ttf\r\n",
      "  \u001B[31m   \u001B[0m copying lib/matplotlib/mpl-data/images/filesave.svg -> build/lib.linux-x86_64-cpython-310/matplotlib/mpl-data/images\r\n",
      "  \u001B[31m   \u001B[0m copying lib/matplotlib/backends/web_backend/jquery-ui-1.12.1/package.json -> build/lib.linux-x86_64-cpython-310/matplotlib/backends/web_backend/jquery-ui-1.12.1\r\n",
      "  \u001B[31m   \u001B[0m copying lib/matplotlib/mpl-data/sample_data/ada.png -> build/lib.linux-x86_64-cpython-310/matplotlib/mpl-data/sample_data\r\n",
      "  \u001B[31m   \u001B[0m copying lib/matplotlib/mpl-data/fonts/afm/pzcmi8a.afm -> build/lib.linux-x86_64-cpython-310/matplotlib/mpl-data/fonts/afm\r\n",
      "  \u001B[31m   \u001B[0m copying lib/matplotlib/backends/web_backend/jquery-ui-1.12.1/images/ui-icons_777620_256x240.png -> build/lib.linux-x86_64-cpython-310/matplotlib/backends/web_backend/jquery-ui-1.12.1/images\r\n",
      "  \u001B[31m   \u001B[0m copying lib/matplotlib/mpl-data/images/home_large.png -> build/lib.linux-x86_64-cpython-310/matplotlib/mpl-data/images\r\n",
      "  \u001B[31m   \u001B[0m copying lib/matplotlib/backends/web_backend/js/mpl.js -> build/lib.linux-x86_64-cpython-310/matplotlib/backends/web_backend/js\r\n",
      "  \u001B[31m   \u001B[0m copying lib/matplotlib/backends/web_backend/jquery-ui-1.12.1/jquery-ui.css -> build/lib.linux-x86_64-cpython-310/matplotlib/backends/web_backend/jquery-ui-1.12.1\r\n",
      "  \u001B[31m   \u001B[0m copying lib/matplotlib/mpl-data/fonts/afm/pplbi8a.afm -> build/lib.linux-x86_64-cpython-310/matplotlib/mpl-data/fonts/afm\r\n",
      "  \u001B[31m   \u001B[0m copying lib/matplotlib/mpl-data/sample_data/data_x_x2_x3.csv -> build/lib.linux-x86_64-cpython-310/matplotlib/mpl-data/sample_data\r\n",
      "  \u001B[31m   \u001B[0m copying lib/matplotlib/mpl-data/stylelib/seaborn-colorblind.mplstyle -> build/lib.linux-x86_64-cpython-310/matplotlib/mpl-data/stylelib\r\n",
      "  \u001B[31m   \u001B[0m copying lib/matplotlib/mpl-data/images/matplotlib.pdf -> build/lib.linux-x86_64-cpython-310/matplotlib/mpl-data/images\r\n",
      "  \u001B[31m   \u001B[0m copying lib/matplotlib/mpl-data/fonts/afm/putbi8a.afm -> build/lib.linux-x86_64-cpython-310/matplotlib/mpl-data/fonts/afm\r\n",
      "  \u001B[31m   \u001B[0m copying lib/matplotlib/mpl-data/fonts/ttf/cmss10.ttf -> build/lib.linux-x86_64-cpython-310/matplotlib/mpl-data/fonts/ttf\r\n",
      "  \u001B[31m   \u001B[0m copying lib/matplotlib/mpl-data/images/help.pdf -> build/lib.linux-x86_64-cpython-310/matplotlib/mpl-data/images\r\n",
      "  \u001B[31m   \u001B[0m copying lib/matplotlib/backends/web_backend/jquery-ui-1.12.1/images/ui-icons_cc0000_256x240.png -> build/lib.linux-x86_64-cpython-310/matplotlib/backends/web_backend/jquery-ui-1.12.1/images\r\n",
      "  \u001B[31m   \u001B[0m copying lib/matplotlib/mpl-data/images/home.gif -> build/lib.linux-x86_64-cpython-310/matplotlib/mpl-data/images\r\n",
      "  \u001B[31m   \u001B[0m copying lib/matplotlib/mpl-data/images/matplotlib.png -> build/lib.linux-x86_64-cpython-310/matplotlib/mpl-data/images\r\n",
      "  \u001B[31m   \u001B[0m copying lib/matplotlib/mpl-data/stylelib/ggplot.mplstyle -> build/lib.linux-x86_64-cpython-310/matplotlib/mpl-data/stylelib\r\n",
      "  \u001B[31m   \u001B[0m copying lib/matplotlib/mpl-data/images/qt4_editor_options.png -> build/lib.linux-x86_64-cpython-310/matplotlib/mpl-data/images\r\n",
      "  \u001B[31m   \u001B[0m copying lib/matplotlib/mpl-data/fonts/afm/phvr8a.afm -> build/lib.linux-x86_64-cpython-310/matplotlib/mpl-data/fonts/afm\r\n",
      "  \u001B[31m   \u001B[0m copying lib/matplotlib/mpl-data/fonts/ttf/STIXNonUniBol.ttf -> build/lib.linux-x86_64-cpython-310/matplotlib/mpl-data/fonts/ttf\r\n",
      "  \u001B[31m   \u001B[0m copying lib/matplotlib/mpl-data/images/matplotlib.svg -> build/lib.linux-x86_64-cpython-310/matplotlib/mpl-data/images\r\n",
      "  \u001B[31m   \u001B[0m copying lib/matplotlib/mpl-data/fonts/afm/putri8a.afm -> build/lib.linux-x86_64-cpython-310/matplotlib/mpl-data/fonts/afm\r\n",
      "  \u001B[31m   \u001B[0m copying lib/matplotlib/mpl-data/images/hand.png -> build/lib.linux-x86_64-cpython-310/matplotlib/mpl-data/images\r\n",
      "  \u001B[31m   \u001B[0m copying lib/matplotlib/mpl-data/fonts/afm/cmr10.afm -> build/lib.linux-x86_64-cpython-310/matplotlib/mpl-data/fonts/afm\r\n",
      "  \u001B[31m   \u001B[0m copying lib/matplotlib/mpl-data/fonts/ttf/DejaVuSans-Bold.ttf -> build/lib.linux-x86_64-cpython-310/matplotlib/mpl-data/fonts/ttf\r\n",
      "  \u001B[31m   \u001B[0m copying lib/matplotlib/mpl-data/fonts/ttf/STIXSizOneSymReg.ttf -> build/lib.linux-x86_64-cpython-310/matplotlib/mpl-data/fonts/ttf\r\n",
      "  \u001B[31m   \u001B[0m copying lib/matplotlib/backends/web_backend/jquery-ui-1.12.1/images/ui-icons_ffffff_256x240.png -> build/lib.linux-x86_64-cpython-310/matplotlib/backends/web_backend/jquery-ui-1.12.1/images\r\n",
      "  \u001B[31m   \u001B[0m copying lib/matplotlib/mpl-data/fonts/afm/pbkl8a.afm -> build/lib.linux-x86_64-cpython-310/matplotlib/mpl-data/fonts/afm\r\n",
      "  \u001B[31m   \u001B[0m copying lib/matplotlib/mpl-data/fonts/ttf/DejaVuSerifDisplay.ttf -> build/lib.linux-x86_64-cpython-310/matplotlib/mpl-data/fonts/ttf\r\n",
      "  \u001B[31m   \u001B[0m copying lib/matplotlib/mpl-data/fonts/afm/pcrbo8a.afm -> build/lib.linux-x86_64-cpython-310/matplotlib/mpl-data/fonts/afm\r\n",
      "  \u001B[31m   \u001B[0m copying lib/matplotlib/mpl-data/fonts/ttf/cmmi10.ttf -> build/lib.linux-x86_64-cpython-310/matplotlib/mpl-data/fonts/ttf\r\n",
      "  \u001B[31m   \u001B[0m copying lib/matplotlib/mpl-data/images/forward.svg -> build/lib.linux-x86_64-cpython-310/matplotlib/mpl-data/images\r\n",
      "  \u001B[31m   \u001B[0m copying lib/matplotlib/mpl-data/stylelib/seaborn-notebook.mplstyle -> build/lib.linux-x86_64-cpython-310/matplotlib/mpl-data/stylelib\r\n",
      "  \u001B[31m   \u001B[0m UPDATING build/lib.linux-x86_64-cpython-310/matplotlib/_version.py\r\n",
      "  \u001B[31m   \u001B[0m set build/lib.linux-x86_64-cpython-310/matplotlib/_version.py to '3.2.2'\r\n",
      "  \u001B[31m   \u001B[0m running build_ext\r\n",
      "  \u001B[31m   \u001B[0m building 'matplotlib.ft2font' extension\r\n",
      "  \u001B[31m   \u001B[0m creating build/temp.linux-x86_64-cpython-310\r\n",
      "  \u001B[31m   \u001B[0m creating build/temp.linux-x86_64-cpython-310/src\r\n",
      "  \u001B[31m   \u001B[0m x86_64-linux-gnu-gcc -pthread -Wno-unused-result -Wsign-compare -DNDEBUG -g -fwrapv -O2 -Wall -g -fstack-protector-strong -Wformat -Werror=format-security -g -fwrapv -O2 -fPIC -DFREETYPE_BUILD_TYPE=system -DPY_ARRAY_UNIQUE_SYMBOL=MPL_matplotlib_ft2font_ARRAY_API -DNPY_NO_DEPRECATED_API=NPY_1_7_API_VERSION -D__STDC_FORMAT_MACROS=1 -Iextern/agg24-svn/include -I/home/kmv/projects/data_science/dsvenv/lib/python3.10/site-packages/numpy/core/include -I/home/kmv/projects/data_science/dsvenv/include -I/usr/include/python3.10 -c src/checkdep_freetype2.c -o build/temp.linux-x86_64-cpython-310/src/checkdep_freetype2.o\r\n",
      "  \u001B[31m   \u001B[0m src/checkdep_freetype2.c:3:6: error: #error \"FreeType version 2.3 or higher is required. You may set the MPLLOCALFREETYPE environment variable to 1 to let Matplotlib download it.\"\r\n",
      "  \u001B[31m   \u001B[0m     3 |     #error \"FreeType version 2.3 or higher is required. \\\r\n",
      "  \u001B[31m   \u001B[0m       |      ^~~~~\r\n",
      "  \u001B[31m   \u001B[0m src/checkdep_freetype2.c:10:10: error: #include expects \"FILENAME\" or <FILENAME>\r\n",
      "  \u001B[31m   \u001B[0m    10 | #include FT_FREETYPE_H\r\n",
      "  \u001B[31m   \u001B[0m       |          ^~~~~~~~~~~~~\r\n",
      "  \u001B[31m   \u001B[0m src/checkdep_freetype2.c:15:9: note: #pragma message: Compiling with FreeType version FREETYPE_MAJOR.FREETYPE_MINOR.FREETYPE_PATCH.\r\n",
      "  \u001B[31m   \u001B[0m    15 | #pragma message(\"Compiling with FreeType version \" \\\r\n",
      "  \u001B[31m   \u001B[0m       |         ^~~~~~~\r\n",
      "  \u001B[31m   \u001B[0m src/checkdep_freetype2.c:18:4: error: #error \"FreeType version 2.3 or higher is required. You may set the MPLLOCALFREETYPE environment variable to 1 to let Matplotlib download it.\"\r\n",
      "  \u001B[31m   \u001B[0m    18 |   #error \"FreeType version 2.3 or higher is required. \\\r\n",
      "  \u001B[31m   \u001B[0m       |    ^~~~~\r\n",
      "  \u001B[31m   \u001B[0m error: command '/usr/bin/x86_64-linux-gnu-gcc' failed with exit code 1\r\n",
      "  \u001B[31m   \u001B[0m \u001B[31m[end of output]\u001B[0m\r\n",
      "  \r\n",
      "  \u001B[1;35mnote\u001B[0m: This error originates from a subprocess, and is likely not a problem with pip.\r\n",
      "\u001B[31m  ERROR: Failed building wheel for matplotlib\u001B[0m\u001B[31m\r\n",
      "\u001B[0m\u001B[?25h  Running setup.py clean for matplotlib\r\n",
      "Failed to build matplotlib\r\n",
      "\u001B[31mERROR: Could not build wheels for matplotlib, which is required to install pyproject.toml-based projects\u001B[0m\u001B[31m\r\n",
      "\u001B[0m\r\n",
      "\u001B[1m[\u001B[0m\u001B[34;49mnotice\u001B[0m\u001B[1;39;49m]\u001B[0m\u001B[39;49m A new release of pip is available: \u001B[0m\u001B[31;49m23.1.1\u001B[0m\u001B[39;49m -> \u001B[0m\u001B[32;49m23.1.2\u001B[0m\r\n",
      "\u001B[1m[\u001B[0m\u001B[34;49mnotice\u001B[0m\u001B[1;39;49m]\u001B[0m\u001B[39;49m To update, run: \u001B[0m\u001B[32;49mpip install --upgrade pip\u001B[0m\r\n"
     ]
    }
   ]
  },
  {
   "cell_type": "code",
   "metadata": {
    "id": "JjJJyJTZYebt",
    "pycharm": {
     "name": "#%%\n"
    }
   },
   "source": [
    "import tensorflow_datasets as tfds\n",
    "import tensorflow as tf\n",
    "\n",
    "import time\n",
    "import numpy as np\n",
    "import matplotlib.pyplot as plt"
   ],
   "execution_count": 121,
   "outputs": []
  },
  {
   "cell_type": "markdown",
   "metadata": {
    "id": "fd1NWMxjfsDd",
    "pycharm": {
     "name": "#%% md\n"
    }
   },
   "source": [
    "## Setup input pipeline"
   ]
  },
  {
   "cell_type": "markdown",
   "metadata": {
    "id": "t4_Qt8W1hJE_",
    "pycharm": {
     "name": "#%% md\n"
    }
   },
   "source": [
    "Use [TFDS](https://www.tensorflow.org/datasets) to load the Ru-English translation dataset from the [TED Talks Open Translation Project](https://www.ted.com/participate/translate)."
   ]
  },
  {
   "cell_type": "code",
   "metadata": {
    "id": "8q9t4FmN96eN",
    "colab": {
     "base_uri": "https://localhost:8080/",
     "height": 224,
     "referenced_widgets": [
      "a372124a7d7545ba8790255bc99cb6e0",
      "0899c6f886e3428e83708ef478b1c4f7",
      "9c4f3636e1b949a58539f265a12340f5",
      "240deb3292a14d678ccd6359f2f8a3ad",
      "cf4a071f59a5427badb8244f82a01138",
      "c2d6bafe522d45cdab64f48fcc3558c3",
      "87e0121c4efa42e8b19de749434d13fc",
      "da45c44f51184a60b1391a953d5d6f61",
      "f38f2892703f48b3bc433614b0c7965f",
      "51f4844af9a9492a8ac9f37d08314dd5",
      "58bfcd64a99c4af58540ad943f74577a",
      "0929e51476ec49c08ca867fa51c82169",
      "dc7d7880f9a44dd5aef176b77da51920",
      "3f270f26d3de41d3a70f5bff0b513b3d",
      "10c677f6e13042be975996bf12db8dda",
      "d4cad5549c234f83895ebcc00e578443",
      "56be0f61642941a3b1a1525b2f1408de",
      "696495599e364be9adfe61e699a1083b",
      "85aef33921f442738d31e61211e183e2",
      "7e9b019bcc554e6cbd56c8253bcf2e14",
      "c2e29f53c62543e6b8a1f42b71774031",
      "9fc26ed55f2842cea1930c67486cadbb",
      "f341b51b94d74f67ab6e98a3608fec2e",
      "98fe582e02b54a5a92113c0d7be8d0d9",
      "e757a85126d54206a37d16d0daebcc33",
      "dcf85a9e1436437a9203a2ff13d6106f",
      "052d2996a36f41a29406bdeebb3ae284",
      "9962d60b732c4af7a6e9c375dbb0b3e1",
      "ec3857746eb24cefb38f3a3a9311d7b5",
      "8bcfcbcefe5e4faaa8089744bbb275bf",
      "8397a671776f48f3ab532a70c6e8a83b",
      "4cab8c601a3f4ebe890673c0de1a5368",
      "4fb90e63bce14f66b969726d3492f859",
      "ec42c26b440042bfbfe490714afd3b6a",
      "fb7db778d0964e6ebd24663cc4975af9",
      "e2e10821d9de407ab7b9fa538d1353d7",
      "2e8eb92b8651407ea9cefc54acd599b8",
      "e7ca0180e4bd4603b167dce5ea8aae62",
      "731c155712d742b88920492c46dbfc82",
      "c415f55fd6314ca988fbe7d57a46562c",
      "94bf7679826a4151988aa1dedfdb51e7",
      "d78bf48c66b94e4883753fac4f00c646",
      "5c6ca3211d8d4e9094a26efd3e61db81",
      "0012934e6b3749a591c0392dc2e2b314",
      "1b582ef6b0e94dc2a191215c4e0b9ec1",
      "8b78d674badb45218ae160610e1e50c6",
      "7e4c8433608c4975bbc55974881da9b5",
      "2f60ce7062b948a49ce3532b8cecf167",
      "b1345f4753eb48d0b422a1c4f7f3eb63",
      "797a294e68f842b485103a672a0c070b",
      "4761eff8c5dc4635a1258ecc50fcfa9c",
      "2e9da43e859e41f589e9d0397a0ac007",
      "39825e80c1ff4941bbb280a42a5c6a6a",
      "08da0fbbb5474965bcd9d740bdfc2b2c",
      "f4cfb380b1b44db48eb2fcdb6e4bc988",
      "c7ced3b9e6cf4f1da5ca7a1a838870aa",
      "1d791c46665b4c139b682f4f9a52adb6",
      "8a620df9673f42da96b823177273ba0c",
      "9e034d6901c1400fa6901962afa87302",
      "e6822d59567e42b89f1c6f6e499b31c8",
      "9ada79de420748b9a5f0501e693226b4",
      "0fea64ec323749aebe6a8a2fc7090dc4",
      "90e4b59be9b54594b836ee17012d6eb2",
      "9226f041bed94463a5b9ccd0197f93d8",
      "d6b125d137854fb69f4aae2515a9306c",
      "8931b1c317484f71ba0c82f2dcbf5f20",
      "882bb37c23414128bf90a046a39015de",
      "8b35ce822c274cabb501d3eb62a1122e",
      "ad6d463c03d845858779551116f99c9c",
      "5cb4f9d7ef3049c9bd409ccd36bc5c64",
      "c3a278dd5aa94b6abdd9e1f1f72eb8e2",
      "6aea69d3de59471591c98cebdf7d9a2b",
      "00374d1cd271407bb5a34d85c66359fa",
      "8aa57452be3a4b81b23daf2d0aa1b9e2",
      "a9535597d09d47ca8aa5e8cdd5e5c8cf",
      "4a62ef4f82e649d088e6aa0d31664423",
      "79e3f02510d141018771ad7355197d4d",
      "e118702c2b194c8b85700c625cd908f8",
      "e7f0bc093be44dfd92df6a6d036ae58f",
      "1bcc2844f8f7449bb01f530074c78714"
     ]
    },
    "outputId": "8a66b8aa-cd26-4db6-9c9e-810cb816544d",
    "pycharm": {
     "name": "#%%\n"
    }
   },
   "source": [
    "examples, metadata = tfds.load('ted_hrlr_translate/ru_to_en', with_info=True,\n",
    "                               as_supervised=True)\n",
    "train_examples, val_examples = examples['train'], examples['validation']"
   ],
   "execution_count": 122,
   "outputs": []
  },
  {
   "cell_type": "markdown",
   "metadata": {
    "id": "RCEKotqosGfq",
    "pycharm": {
     "name": "#%% md\n"
    }
   },
   "source": [
    "Создайте собственный токенизатор подслов из training dataset. "
   ]
  },
  {
   "cell_type": "code",
   "metadata": {
    "id": "KVBg5Q8tBk5z",
    "pycharm": {
     "name": "#%%\n"
    }
   },
   "source": [
    "tokenizer_en = tfds.deprecated.text.SubwordTextEncoder.build_from_corpus(\n",
    "    (en.numpy() for pt, en in train_examples), target_vocab_size=2**13)\n",
    "\n",
    "tokenizer_pt = tfds.deprecated.text.SubwordTextEncoder.build_from_corpus(\n",
    "    (pt.numpy() for pt, en in train_examples), target_vocab_size=2**13)"
   ],
   "execution_count": 123,
   "outputs": []
  },
  {
   "cell_type": "code",
   "metadata": {
    "colab": {
     "base_uri": "https://localhost:8080/"
    },
    "id": "4DYWukNFkGQN",
    "outputId": "460a2b1c-f689-4ec4-e4cb-608637e06873",
    "pycharm": {
     "name": "#%%\n"
    }
   },
   "source": [
    "sample_string = 'Transformer is awesome.'\n",
    "\n",
    "tokenized_string = tokenizer_en.encode(sample_string)\n",
    "print ('Tokenized string is {}'.format(tokenized_string))\n",
    "\n",
    "original_string = tokenizer_en.decode(tokenized_string)\n",
    "print ('The original string: {}'.format(original_string))\n",
    "\n",
    "assert original_string == sample_string"
   ],
   "execution_count": 124,
   "outputs": [
    {
     "name": "stdout",
     "output_type": "stream",
     "text": [
      "Tokenized string is [8073, 1034, 8104, 5774, 13, 3531, 8035]\n",
      "The original string: Transformer is awesome.\n"
     ]
    }
   ]
  },
  {
   "cell_type": "markdown",
   "metadata": {
    "id": "o9KJWJjrsZ4Y",
    "pycharm": {
     "name": "#%% md\n"
    }
   },
   "source": [
    "Токенизатор кодирует строку, разбивая ее на подслова, если слово отсутствует в его словаре.\n",
    "\n"
   ]
  },
  {
   "cell_type": "code",
   "metadata": {
    "colab": {
     "base_uri": "https://localhost:8080/"
    },
    "id": "bf2ntBxjkqK6",
    "outputId": "8e9253d9-0c0b-41db-ce9f-0737d1269303",
    "pycharm": {
     "name": "#%%\n"
    }
   },
   "source": [
    "for ts in tokenized_string:\n",
    "  print ('{} ----> {}'.format(ts, tokenizer_en.decode([ts])))"
   ],
   "execution_count": 125,
   "outputs": [
    {
     "name": "stdout",
     "output_type": "stream",
     "text": [
      "8073 ----> T\n",
      "1034 ----> ran\n",
      "8104 ----> s\n",
      "5774 ----> former \n",
      "13 ----> is \n",
      "3531 ----> awesome\n",
      "8035 ----> .\n"
     ]
    }
   ]
  },
  {
   "cell_type": "code",
   "metadata": {
    "id": "bcRp7VcQ5m6g",
    "pycharm": {
     "name": "#%%\n"
    }
   },
   "source": [
    "BUFFER_SIZE = 20000\n",
    "BATCH_SIZE = 64"
   ],
   "execution_count": 126,
   "outputs": []
  },
  {
   "cell_type": "markdown",
   "metadata": {
    "id": "kGi4PoVakxdc",
    "pycharm": {
     "name": "#%% md\n"
    }
   },
   "source": [
    "Добавьте начальный и конечный токены к входу и цели.\n",
    "\n"
   ]
  },
  {
   "cell_type": "code",
   "metadata": {
    "id": "UZwnPr4R055s",
    "pycharm": {
     "name": "#%%\n"
    }
   },
   "source": [
    "def encode(lang1, lang2):\n",
    "  lang1 = [tokenizer_pt.vocab_size] + tokenizer_pt.encode(\n",
    "      lang1.numpy()) + [tokenizer_pt.vocab_size+1]\n",
    "\n",
    "  lang2 = [tokenizer_en.vocab_size] + tokenizer_en.encode(\n",
    "      lang2.numpy()) + [tokenizer_en.vocab_size+1]\n",
    "  \n",
    "  return lang1, lang2"
   ],
   "execution_count": 127,
   "outputs": []
  },
  {
   "cell_type": "markdown",
   "metadata": {
    "id": "Tx1sFbR-9fRs",
    "pycharm": {
     "name": "#%% md\n"
    }
   },
   "source": [
    "Вы хотите использовать Dataset.map чтобы применить эту функцию к каждому элементу набора данных. Dataset.map работает в графическом режиме.\n",
    "\n",
    "Тензоры графов не имеют значения.\n",
    "В графическом режиме вы можете использовать только операции и функции TensorFlow.\n",
    "Таким образом, вы не можете напрямую .map эту функцию: вам нужно обернуть ее в tf.py_function . tf.py_function будет передавать обычные тензоры (со значением и .numpy() для доступа к нему) в .numpy() функцию python.\n",
    "\n"
   ]
  },
  {
   "cell_type": "code",
   "metadata": {
    "id": "Mah1cS-P70Iz",
    "pycharm": {
     "name": "#%%\n"
    }
   },
   "source": [
    "def tf_encode(pt, en):\n",
    "  result_pt, result_en = tf.py_function(encode, [pt, en], [tf.int64, tf.int64])\n",
    "  result_pt.set_shape([None])\n",
    "  result_en.set_shape([None])\n",
    "\n",
    "  return result_pt, result_en"
   ],
   "execution_count": 128,
   "outputs": []
  },
  {
   "cell_type": "code",
   "metadata": {
    "id": "2QEgbjntk6Yf",
    "pycharm": {
     "name": "#%%\n"
    }
   },
   "source": [
    "MAX_LENGTH = 40"
   ],
   "execution_count": 129,
   "outputs": []
  },
  {
   "cell_type": "code",
   "metadata": {
    "id": "c081xPGv1CPI",
    "pycharm": {
     "name": "#%%\n"
    }
   },
   "source": [
    "def filter_max_length(x, y, max_length=MAX_LENGTH):\n",
    "  return tf.logical_and(tf.size(x) <= max_length,\n",
    "                        tf.size(y) <= max_length)"
   ],
   "execution_count": 130,
   "outputs": []
  },
  {
   "cell_type": "code",
   "metadata": {
    "id": "9mk9AZdZ5bcS",
    "pycharm": {
     "name": "#%%\n"
    }
   },
   "source": [
    "train_dataset = train_examples.map(tf_encode)\n",
    "train_dataset = train_dataset.filter(filter_max_length)\n",
    "# cache the dataset to memory to get a speedup while reading from it.\n",
    "train_dataset = train_dataset.cache()\n",
    "train_dataset = train_dataset.shuffle(BUFFER_SIZE).padded_batch(BATCH_SIZE)\n",
    "train_dataset = train_dataset.prefetch(tf.data.experimental.AUTOTUNE)\n",
    "\n",
    "\n",
    "val_dataset = val_examples.map(tf_encode)\n",
    "val_dataset = val_dataset.filter(filter_max_length).padded_batch(BATCH_SIZE)"
   ],
   "execution_count": 131,
   "outputs": []
  },
  {
   "cell_type": "code",
   "metadata": {
    "colab": {
     "base_uri": "https://localhost:8080/"
    },
    "id": "_fXvfYVfQr2n",
    "outputId": "7be3c6d2-96f1-4d59-dca5-c45484238ad2",
    "pycharm": {
     "name": "#%%\n"
    }
   },
   "source": [
    "pt_batch, en_batch = next(iter(val_dataset))\n",
    "pt_batch, en_batch"
   ],
   "execution_count": 132,
   "outputs": [
    {
     "name": "stderr",
     "output_type": "stream",
     "text": [
      "2023-05-27 21:12:05.871262: W tensorflow/core/kernels/data/cache_dataset_ops.cc:856] The calling iterator did not fully read the dataset being cached. In order to avoid unexpected truncation of the dataset, the partially cached contents of the dataset  will be discarded. This can happen if you have an input pipeline similar to `dataset.cache().take(k).repeat()`. You should use `dataset.take(k).cache().repeat()` instead.\n"
     ]
    },
    {
     "data": {
      "text/plain": "(<tf.Tensor: shape=(64, 38), dtype=int64, numpy=\n array([[8179,   57,   86, ...,    0,    0,    0],\n        [8179,    3,   38, ...,    0,    0,    0],\n        [8179,   57,  135, ...,    0,    0,    0],\n        ...,\n        [8179,    3,    7, ...,    0,    0,    0],\n        [8179,  138,  250, ...,    0,    0,    0],\n        [8179,   19,    7, ...,    0,    0,    0]])>,\n <tf.Tensor: shape=(64, 40), dtype=int64, numpy=\n array([[8245,   90,  101, ...,    0,    0,    0],\n        [8245,   70,   25, ...,    0,    0,    0],\n        [8245,   90,  153, ...,    0,    0,    0],\n        ...,\n        [8245,    4,   18, ...,    0,    0,    0],\n        [8245,   19,   59, ...,    0,    0,    0],\n        [8245,   24,   18, ...,    0,    0,    0]])>)"
     },
     "execution_count": 132,
     "metadata": {},
     "output_type": "execute_result"
    }
   ]
  },
  {
   "cell_type": "markdown",
   "metadata": {
    "id": "nBQuibYA4n0n",
    "pycharm": {
     "name": "#%% md\n"
    }
   },
   "source": [
    "## Positional encoding\n",
    "\n",
    "Поскольку эта модель не содержит повторений или сверток, добавляется позиционное кодирование, чтобы дать модели некоторую информацию об относительном положении слов в предложении.\n",
    "\n",
    "Вектор позиционного кодирования добавляется к вектору внедрения. Вложения представляют собой токен в d-мерном пространстве, где токены с одинаковым значением будут ближе друг к другу. Но вложения не кодируют относительное положение слов в предложении. Таким образом, после добавления позиционной кодировки слова будут ближе друг к другу на основе сходства их значения и их положения в предложении в d-мерном пространстве.\n",
    "\n",
    "Формула для расчета позиционного кодирования выглядит следующим образом:\n",
    "\n",
    "\n",
    "\n",
    "$$\\Large{PE_{(pos, 2i)} = sin(pos / 10000^{2i / d_{model}})} $$\n",
    "$$\\Large{PE_{(pos, 2i+1)} = cos(pos / 10000^{2i / d_{model}})} $$"
   ]
  },
  {
   "cell_type": "code",
   "metadata": {
    "id": "WhIOZjMNKujn",
    "pycharm": {
     "name": "#%%\n"
    }
   },
   "source": [
    "def get_angles(pos, i, d_model):\n",
    "  angle_rates = 1 / np.power(10000, (2 * (i//2)) / np.float32(d_model))\n",
    "  return pos * angle_rates"
   ],
   "execution_count": 133,
   "outputs": []
  },
  {
   "cell_type": "code",
   "metadata": {
    "id": "1Rz82wEs5biZ",
    "pycharm": {
     "name": "#%%\n"
    }
   },
   "source": [
    "def positional_encoding(position, d_model):\n",
    "  angle_rads = get_angles(np.arange(position)[:, np.newaxis],\n",
    "                          np.arange(d_model)[np.newaxis, :],\n",
    "                          d_model)\n",
    "  \n",
    "  # apply sin to even indices in the array; 2i\n",
    "  angle_rads[:, 0::2] = np.sin(angle_rads[:, 0::2])\n",
    "  \n",
    "  # apply cos to odd indices in the array; 2i+1\n",
    "  angle_rads[:, 1::2] = np.cos(angle_rads[:, 1::2])\n",
    "    \n",
    "  pos_encoding = angle_rads[np.newaxis, ...]\n",
    "    \n",
    "  return tf.cast(pos_encoding, dtype=tf.float32)"
   ],
   "execution_count": 134,
   "outputs": []
  },
  {
   "cell_type": "code",
   "metadata": {
    "colab": {
     "base_uri": "https://localhost:8080/",
     "height": 301
    },
    "id": "1kLCla68EloE",
    "outputId": "b40be847-4819-44b0-fc33-af56bc5c28df",
    "pycharm": {
     "name": "#%%\n"
    }
   },
   "source": [
    "pos_encoding = positional_encoding(50, 512)\n",
    "print (pos_encoding.shape)\n",
    "\n",
    "plt.pcolormesh(pos_encoding[0], cmap='RdBu')\n",
    "plt.xlabel('Depth')\n",
    "plt.xlim((0, 512))\n",
    "plt.ylabel('Position')\n",
    "plt.colorbar()\n",
    "plt.show()"
   ],
   "execution_count": 135,
   "outputs": [
    {
     "name": "stdout",
     "output_type": "stream",
     "text": [
      "(1, 50, 512)\n"
     ]
    },
    {
     "data": {
      "text/plain": "<Figure size 640x480 with 2 Axes>",
      "image/png": "[encoded data removed]"
     },
     "metadata": {},
     "output_type": "display_data"
    }
   ]
  },
  {
   "cell_type": "markdown",
   "metadata": {
    "id": "a_b4ou4TYqUN",
    "pycharm": {
     "name": "#%% md\n"
    }
   },
   "source": [
    "## Masking"
   ]
  },
  {
   "cell_type": "markdown",
   "metadata": {
    "id": "s42Uydjkv0hF",
    "pycharm": {
     "name": "#%% md\n"
    }
   },
   "source": [
    "Замаскируйте все маркеры площадок в пакете последовательности. Это гарантирует, что модель не обрабатывает отступы как входные данные. Маска указывает, где присутствует значение пэда 0 : она выводит 1 в этих местах и 0 противном случае."
   ]
  },
  {
   "cell_type": "code",
   "metadata": {
    "id": "U2i8-e1s8ti9",
    "pycharm": {
     "name": "#%%\n"
    }
   },
   "source": [
    "def create_padding_mask(seq):\n",
    "  seq = tf.cast(tf.math.equal(seq, 0), tf.float32)\n",
    "  \n",
    "  # add extra dimensions to add the padding\n",
    "  # to the attention logits.\n",
    "  return seq[:, tf.newaxis, tf.newaxis, :]  # (batch_size, 1, 1, seq_len)"
   ],
   "execution_count": 136,
   "outputs": []
  },
  {
   "cell_type": "code",
   "metadata": {
    "colab": {
     "base_uri": "https://localhost:8080/"
    },
    "id": "A7BYeBCNvi7n",
    "outputId": "91f881be-6317-4814-a70b-d150444c2bc9",
    "pycharm": {
     "name": "#%%\n"
    }
   },
   "source": [
    "x = tf.constant([[7, 6, 0, 0, 1], [1, 2, 3, 0, 0], [0, 0, 0, 4, 5]])\n",
    "create_padding_mask(x)"
   ],
   "execution_count": 137,
   "outputs": [
    {
     "data": {
      "text/plain": "<tf.Tensor: shape=(3, 1, 1, 5), dtype=float32, numpy=\narray([[[[0., 0., 1., 1., 0.]]],\n\n\n       [[[0., 0., 0., 1., 1.]]],\n\n\n       [[[1., 1., 1., 0., 0.]]]], dtype=float32)>"
     },
     "execution_count": 137,
     "metadata": {},
     "output_type": "execute_result"
    }
   ]
  },
  {
   "cell_type": "markdown",
   "metadata": {
    "id": "Z0hzukDBgVom",
    "pycharm": {
     "name": "#%% md\n"
    }
   },
   "source": [
    "Маска упреждающего просмотра используется для маскировки будущих токенов в последовательности. Другими словами, маска указывает, какие записи не следует использовать.\n",
    "\n",
    "Это означает, что для предсказания третьего слова будут использоваться только первое и второе слово. Аналогично для предсказания четвертого слова будут использоваться только первое, второе и третье слово и так далее.\n",
    "\n"
   ]
  },
  {
   "cell_type": "code",
   "metadata": {
    "id": "dVxS8OPI9uI0",
    "pycharm": {
     "name": "#%%\n"
    }
   },
   "source": [
    "def create_look_ahead_mask(size):\n",
    "  mask = 1 - tf.linalg.band_part(tf.ones((size, size)), -1, 0)\n",
    "  return mask  # (seq_len, seq_len)"
   ],
   "execution_count": 138,
   "outputs": []
  },
  {
   "cell_type": "code",
   "metadata": {
    "colab": {
     "base_uri": "https://localhost:8080/"
    },
    "id": "yxKGuXxaBeeE",
    "outputId": "e6b6bba8-63e8-404d-b114-02ac332716ea",
    "pycharm": {
     "name": "#%%\n"
    }
   },
   "source": [
    "x = tf.random.uniform((1, 3))\n",
    "temp = create_look_ahead_mask(x.shape[1])\n",
    "temp"
   ],
   "execution_count": 139,
   "outputs": [
    {
     "data": {
      "text/plain": "<tf.Tensor: shape=(3, 3), dtype=float32, numpy=\narray([[0., 1., 1.],\n       [0., 0., 1.],\n       [0., 0., 0.]], dtype=float32)>"
     },
     "execution_count": 139,
     "metadata": {},
     "output_type": "execute_result"
    }
   ]
  },
  {
   "cell_type": "markdown",
   "metadata": {
    "id": "xluDl5cXYy4y",
    "pycharm": {
     "name": "#%% md\n"
    }
   },
   "source": [
    "## Scaled dot product attention"
   ]
  },
  {
   "cell_type": "markdown",
   "metadata": {
    "id": "vsxEE_-Wa1gF",
    "pycharm": {
     "name": "#%% md\n"
    }
   },
   "source": [
    "<img src=\"https://www.tensorflow.org/images/tutorials/transformer/scaled_attention.png\" width=\"500\" alt=\"scaled_dot_product_attention\">\n",
    "\n",
    "Функция внимания, используемая преобразователем, принимает три входа: Q (запрос), K (ключ), V (значение). Уравнение, используемое для расчета весов внимания:\n",
    "\n",
    "\n",
    "$$\\Large{Attention(Q, K, V) = softmax_k(\\frac{QK^T}{\\sqrt{d_k}}) V} $$\n",
    "\n",
    "Внимание скалярного произведения масштабируется с коэффициентом квадратного корня из глубины. Это сделано потому, что для больших значений глубины скалярное произведение увеличивается по величине, подталкивая функцию softmax, где у него есть небольшие градиенты, что приводит к очень жесткому softmax.\n",
    "\n",
    "Например, предположим, что Q и K имеют среднее значение 0 и дисперсию 1. Их матричное умножение будет иметь среднее значение 0 и дисперсию dk . Следовательно, для масштабирования используется квадратный корень из dk (а не какое-либо другое число), потому что матрица Q и K должна иметь среднее значение 0 и дисперсию 1, и вы получите более мягкий softmax.\n",
    "\n",
    "Маска умножается на -1e9 (близко к отрицательной бесконечности). Это сделано потому, что маска суммируется с умножением масштабированной матрицы Q и K и применяется непосредственно перед softmax. Цель состоит в том, чтобы обнулить эти ячейки, и большие отрицательные входные данные для softmax близки к нулю на выходе.\n",
    "\n"
   ]
  },
  {
   "cell_type": "code",
   "metadata": {
    "id": "LazzUq3bJ5SH",
    "pycharm": {
     "name": "#%%\n"
    }
   },
   "source": [
    "def scaled_dot_product_attention(q, k, v, mask):\n",
    "  \"\"\"Calculate the attention weights.\n",
    "  q, k, v must have matching leading dimensions.\n",
    "  k, v must have matching penultimate dimension, i.e.: seq_len_k = seq_len_v.\n",
    "  The mask has different shapes depending on its type(padding or look ahead) \n",
    "  but it must be broadcastable for addition.\n",
    "  \n",
    "  Args:\n",
    "    q: query shape == (..., seq_len_q, depth)\n",
    "    k: key shape == (..., seq_len_k, depth)\n",
    "    v: value shape == (..., seq_len_v, depth_v)\n",
    "    mask: Float tensor with shape broadcastable \n",
    "          to (..., seq_len_q, seq_len_k). Defaults to None.\n",
    "    \n",
    "  Returns:\n",
    "    output, attention_weights\n",
    "  \"\"\"\n",
    "\n",
    "  matmul_qk = tf.matmul(q, k, transpose_b=True)  # (..., seq_len_q, seq_len_k)\n",
    "  \n",
    "  # scale matmul_qk\n",
    "  dk = tf.cast(tf.shape(k)[-1], tf.float32)\n",
    "  scaled_attention_logits = matmul_qk / tf.math.sqrt(dk)\n",
    "\n",
    "  # add the mask to the scaled tensor.\n",
    "  if mask is not None:\n",
    "    scaled_attention_logits += (mask * -1e9)  \n",
    "\n",
    "  # softmax is normalized on the last axis (seq_len_k) so that the scores\n",
    "  # add up to 1.\n",
    "  attention_weights = tf.nn.softmax(scaled_attention_logits, axis=-1)  # (..., seq_len_q, seq_len_k)\n",
    "\n",
    "  output = tf.matmul(attention_weights, v)  # (..., seq_len_q, depth_v)\n",
    "\n",
    "  return output, attention_weights"
   ],
   "execution_count": 140,
   "outputs": []
  },
  {
   "cell_type": "markdown",
   "metadata": {
    "id": "FiqETnhCkoXh",
    "pycharm": {
     "name": "#%% md\n"
    }
   },
   "source": [
    "Поскольку нормализация softmax выполняется для K, его значения определяют степень важности, придаваемой Q.\n",
    "\n",
    "Выходные данные представляют собой умножение весов внимания и вектора V (значения). Это гарантирует, что слова, на которых вы хотите сосредоточиться, останутся как есть, а нерелевантные слова будут удалены.\n",
    "\n"
   ]
  },
  {
   "cell_type": "code",
   "metadata": {
    "id": "n90YjClyInFy",
    "pycharm": {
     "name": "#%%\n"
    }
   },
   "source": [
    "def print_out(q, k, v):\n",
    "  temp_out, temp_attn = scaled_dot_product_attention(\n",
    "      q, k, v, None)\n",
    "  print ('Attention weights are:')\n",
    "  print (temp_attn)\n",
    "  print ('Output is:')\n",
    "  print (temp_out)"
   ],
   "execution_count": 141,
   "outputs": []
  },
  {
   "cell_type": "code",
   "metadata": {
    "colab": {
     "base_uri": "https://localhost:8080/"
    },
    "id": "yAzUAf2DPlNt",
    "outputId": "c9b87c52-8762-443f-f07d-a228e0ba07ff",
    "pycharm": {
     "name": "#%%\n"
    }
   },
   "source": [
    "np.set_printoptions(suppress=True)\n",
    "\n",
    "temp_k = tf.constant([[10,0,0],\n",
    "                      [0,10,0],\n",
    "                      [0,0,10],\n",
    "                      [0,0,10]], dtype=tf.float32)  # (4, 3)\n",
    "\n",
    "temp_v = tf.constant([[   1,0],\n",
    "                      [  10,0],\n",
    "                      [ 100,5],\n",
    "                      [1000,6]], dtype=tf.float32)  # (4, 2)\n",
    "\n",
    "# This `query` aligns with the second `key`,\n",
    "# so the second `value` is returned.\n",
    "temp_q = tf.constant([[0, 10, 0]], dtype=tf.float32)  # (1, 3)\n",
    "print_out(temp_q, temp_k, temp_v)"
   ],
   "execution_count": 142,
   "outputs": [
    {
     "name": "stdout",
     "output_type": "stream",
     "text": [
      "Attention weights are:\n",
      "tf.Tensor([[0. 1. 0. 0.]], shape=(1, 4), dtype=float32)\n",
      "Output is:\n",
      "tf.Tensor([[10.  0.]], shape=(1, 2), dtype=float32)\n"
     ]
    }
   ]
  },
  {
   "cell_type": "code",
   "metadata": {
    "colab": {
     "base_uri": "https://localhost:8080/"
    },
    "id": "zg6k-fGhgXra",
    "outputId": "a634527e-5113-4e88-f21f-05a22dfdb09d",
    "pycharm": {
     "name": "#%%\n"
    }
   },
   "source": [
    "# This query aligns with a repeated key (third and fourth), \n",
    "# so all associated values get averaged.\n",
    "temp_q = tf.constant([[0, 0, 10]], dtype=tf.float32)  # (1, 3)\n",
    "print_out(temp_q, temp_k, temp_v)"
   ],
   "execution_count": 143,
   "outputs": [
    {
     "name": "stdout",
     "output_type": "stream",
     "text": [
      "Attention weights are:\n",
      "tf.Tensor([[0.  0.  0.5 0.5]], shape=(1, 4), dtype=float32)\n",
      "Output is:\n",
      "tf.Tensor([[550.    5.5]], shape=(1, 2), dtype=float32)\n"
     ]
    }
   ]
  },
  {
   "cell_type": "code",
   "metadata": {
    "colab": {
     "base_uri": "https://localhost:8080/"
    },
    "id": "UAq3YOzUgXhb",
    "outputId": "60c17003-a170-4e8d-831d-5d647fa7782d",
    "pycharm": {
     "name": "#%%\n"
    }
   },
   "source": [
    "# This query aligns equally with the first and second key, \n",
    "# so their values get averaged.\n",
    "temp_q = tf.constant([[10, 10, 0]], dtype=tf.float32)  # (1, 3)\n",
    "print_out(temp_q, temp_k, temp_v)"
   ],
   "execution_count": 144,
   "outputs": [
    {
     "name": "stdout",
     "output_type": "stream",
     "text": [
      "Attention weights are:\n",
      "tf.Tensor([[0.5 0.5 0.  0. ]], shape=(1, 4), dtype=float32)\n",
      "Output is:\n",
      "tf.Tensor([[5.5 0. ]], shape=(1, 2), dtype=float32)\n"
     ]
    }
   ]
  },
  {
   "cell_type": "markdown",
   "metadata": {
    "id": "aOz-4_XIhaTP",
    "pycharm": {
     "name": "#%% md\n"
    }
   },
   "source": [
    "Pass all the queries together."
   ]
  },
  {
   "cell_type": "code",
   "metadata": {
    "colab": {
     "base_uri": "https://localhost:8080/"
    },
    "id": "6dlU8Tm-hYrF",
    "outputId": "1751e607-a1da-433a-c2ca-12f1abaaefb0",
    "pycharm": {
     "name": "#%%\n"
    }
   },
   "source": [
    "temp_q = tf.constant([[0, 0, 10], [0, 10, 0], [10, 10, 0]], dtype=tf.float32)  # (3, 3)\n",
    "print_out(temp_q, temp_k, temp_v)"
   ],
   "execution_count": 145,
   "outputs": [
    {
     "name": "stdout",
     "output_type": "stream",
     "text": [
      "Attention weights are:\n",
      "tf.Tensor(\n",
      "[[0.  0.  0.5 0.5]\n",
      " [0.  1.  0.  0. ]\n",
      " [0.5 0.5 0.  0. ]], shape=(3, 4), dtype=float32)\n",
      "Output is:\n",
      "tf.Tensor(\n",
      "[[550.    5.5]\n",
      " [ 10.    0. ]\n",
      " [  5.5   0. ]], shape=(3, 2), dtype=float32)\n"
     ]
    }
   ]
  },
  {
   "cell_type": "markdown",
   "metadata": {
    "id": "kmzGPEy64qmA",
    "pycharm": {
     "name": "#%% md\n"
    }
   },
   "source": [
    "## Multi-head attention"
   ]
  },
  {
   "cell_type": "markdown",
   "metadata": {
    "id": "fz5BMC8Kaoqo",
    "pycharm": {
     "name": "#%% md\n"
    }
   },
   "source": [
    "<img src=\"https://www.tensorflow.org/images/tutorials/transformer/multi_head_attention.png\" width=\"500\" alt=\"multi-head attention\">\n",
    "\n",
    "\n",
    "Многоголовое внимание состоит из четырех частей:\n",
    "\n",
    "* Слои линейные и разбиваются на головы.\n",
    "* Повышенное внимание к скалярному продукту\n",
    "* Конкатенация голов.\n",
    "* Финальный линейный слой."
   ]
  },
  {
   "cell_type": "markdown",
   "metadata": {
    "id": "JPmbr6F1C-v_",
    "pycharm": {
     "name": "#%% md\n"
    }
   },
   "source": [
    "Каждый блок внимания с несколькими головами получает три входа; Q (запрос), K (ключ), V (значение). Они проходят через линейные (плотные) слои и разбиваются на несколько головок.\n",
    "\n",
    "scaled_dot_product_attention определенный выше, применяется к каждой голове (транслируется для эффективности). На этапе внимания необходимо использовать соответствующую маску. Затем вывод внимания для каждой головы объединяется (с использованием tf.transpose и tf.reshape ) и пропускается через последний слой Dense .\n",
    "\n",
    "Вместо одной единственной головы внимания Q, K и V разделены на несколько голов, потому что это позволяет модели совместно обращать внимание на информацию в разных положениях из разных пространств представления. После разделения каждая голова имеет уменьшенную размерность, поэтому общая стоимость вычислений такая же, как и внимание одной головы с полной размерностью.\n",
    "\n"
   ]
  },
  {
   "cell_type": "code",
   "metadata": {
    "id": "BSV3PPKsYecw",
    "pycharm": {
     "name": "#%%\n"
    }
   },
   "source": [
    "class MultiHeadAttention(tf.keras.layers.Layer):\n",
    "  def __init__(self, d_model, num_heads):\n",
    "    super(MultiHeadAttention, self).__init__()\n",
    "    self.num_heads = num_heads\n",
    "    self.d_model = d_model\n",
    "    \n",
    "    assert d_model % self.num_heads == 0\n",
    "    \n",
    "    self.depth = d_model // self.num_heads\n",
    "    \n",
    "    self.wq = tf.keras.layers.Dense(d_model)\n",
    "    self.wk = tf.keras.layers.Dense(d_model)\n",
    "    self.wv = tf.keras.layers.Dense(d_model)\n",
    "    \n",
    "    self.dense = tf.keras.layers.Dense(d_model)\n",
    "        \n",
    "  def split_heads(self, x, batch_size):\n",
    "    \"\"\"Split the last dimension into (num_heads, depth).\n",
    "    Transpose the result such that the shape is (batch_size, num_heads, seq_len, depth)\n",
    "    \"\"\"\n",
    "    x = tf.reshape(x, (batch_size, -1, self.num_heads, self.depth))\n",
    "    return tf.transpose(x, perm=[0, 2, 1, 3])\n",
    "    \n",
    "  def call(self, v, k, q, mask):\n",
    "    batch_size = tf.shape(q)[0]\n",
    "    \n",
    "    q = self.wq(q)  # (batch_size, seq_len, d_model)\n",
    "    k = self.wk(k)  # (batch_size, seq_len, d_model)\n",
    "    v = self.wv(v)  # (batch_size, seq_len, d_model)\n",
    "    \n",
    "    q = self.split_heads(q, batch_size)  # (batch_size, num_heads, seq_len_q, depth)\n",
    "    k = self.split_heads(k, batch_size)  # (batch_size, num_heads, seq_len_k, depth)\n",
    "    v = self.split_heads(v, batch_size)  # (batch_size, num_heads, seq_len_v, depth)\n",
    "    \n",
    "    # scaled_attention.shape == (batch_size, num_heads, seq_len_q, depth)\n",
    "    # attention_weights.shape == (batch_size, num_heads, seq_len_q, seq_len_k)\n",
    "    scaled_attention, attention_weights = scaled_dot_product_attention(\n",
    "        q, k, v, mask)\n",
    "    \n",
    "    scaled_attention = tf.transpose(scaled_attention, perm=[0, 2, 1, 3])  # (batch_size, seq_len_q, num_heads, depth)\n",
    "\n",
    "    concat_attention = tf.reshape(scaled_attention, \n",
    "                                  (batch_size, -1, self.d_model))  # (batch_size, seq_len_q, d_model)\n",
    "\n",
    "    output = self.dense(concat_attention)  # (batch_size, seq_len_q, d_model)\n",
    "        \n",
    "    return output, attention_weights"
   ],
   "execution_count": 146,
   "outputs": []
  },
  {
   "cell_type": "markdown",
   "metadata": {
    "id": "0D8FJue5lDyZ",
    "pycharm": {
     "name": "#%% md\n"
    }
   },
   "source": [
    "Создайте слой MultiHeadAttention чтобы попробовать. В каждом месте в последовательности y MultiHeadAttention запускает все 8 головок внимания по всем другим местам в последовательности, возвращая новый вектор той же длины в каждом месте.\n",
    "\n"
   ]
  },
  {
   "cell_type": "code",
   "metadata": {
    "colab": {
     "base_uri": "https://localhost:8080/"
    },
    "id": "Hu94p-_-2_BX",
    "outputId": "4aa4d573-3e54-4a49-f32e-211795836931",
    "pycharm": {
     "name": "#%%\n"
    }
   },
   "source": [
    "temp_mha = MultiHeadAttention(d_model=512, num_heads=8)\n",
    "y = tf.random.uniform((1, 60, 512))  # (batch_size, encoder_sequence, d_model)\n",
    "out, attn = temp_mha(y, k=y, q=y, mask=None)\n",
    "out.shape, attn.shape"
   ],
   "execution_count": 147,
   "outputs": [
    {
     "data": {
      "text/plain": "(TensorShape([1, 60, 512]), TensorShape([1, 8, 60, 60]))"
     },
     "execution_count": 147,
     "metadata": {},
     "output_type": "execute_result"
    }
   ]
  },
  {
   "cell_type": "markdown",
   "metadata": {
    "id": "RdDqGayx67vv",
    "pycharm": {
     "name": "#%% md\n"
    }
   },
   "source": [
    "## Point wise feed forward network"
   ]
  },
  {
   "cell_type": "markdown",
   "metadata": {
    "id": "gBqzJXGfHK3X",
    "pycharm": {
     "name": "#%% md\n"
    }
   },
   "source": [
    "Сеть с точечной прямой связью состоит из двух полностью связанных слоев с активацией ReLU между ними.\n"
   ]
  },
  {
   "cell_type": "code",
   "metadata": {
    "id": "ET7xLt0yCT6Z",
    "pycharm": {
     "name": "#%%\n"
    }
   },
   "source": [
    "def point_wise_feed_forward_network(d_model, dff):\n",
    "  return tf.keras.Sequential([\n",
    "      tf.keras.layers.Dense(dff, activation='relu'),  # (batch_size, seq_len, dff)\n",
    "      tf.keras.layers.Dense(d_model)  # (batch_size, seq_len, d_model)\n",
    "  ])"
   ],
   "execution_count": 148,
   "outputs": []
  },
  {
   "cell_type": "code",
   "metadata": {
    "colab": {
     "base_uri": "https://localhost:8080/"
    },
    "id": "mytb1lPyOHLB",
    "outputId": "bb30191c-7f18-496a-e7cc-e6c9099a756a",
    "pycharm": {
     "name": "#%%\n"
    }
   },
   "source": [
    "sample_ffn = point_wise_feed_forward_network(512, 2048)\n",
    "sample_ffn(tf.random.uniform((64, 50, 512))).shape"
   ],
   "execution_count": 149,
   "outputs": [
    {
     "data": {
      "text/plain": "TensorShape([64, 50, 512])"
     },
     "execution_count": 149,
     "metadata": {},
     "output_type": "execute_result"
    }
   ]
  },
  {
   "cell_type": "markdown",
   "metadata": {
    "id": "7e7hKcxn6-zd",
    "pycharm": {
     "name": "#%% md\n"
    }
   },
   "source": [
    "## Encoder and decoder"
   ]
  },
  {
   "cell_type": "markdown",
   "metadata": {
    "id": "yScbC0MUH8dS",
    "pycharm": {
     "name": "#%% md\n"
    }
   },
   "source": [
    "<img src=\"https://www.tensorflow.org/images/tutorials/transformer/transformer.png\" width=\"600\" alt=\"transformer\">"
   ]
  },
  {
   "cell_type": "markdown",
   "metadata": {
    "id": "MfYJG-Kvgwy2",
    "pycharm": {
     "name": "#%% md\n"
    }
   },
   "source": [
    "Модель трансформера следует той же общей схеме, что и стандартная последовательность действий с моделью внимания .\n",
    "\n",
    "Входное предложение проходит через N уровней кодировщика, которые генерируют выходные данные для каждого слова / токена в последовательности.\n",
    "Декодер отслеживает вывод кодировщика и свой собственный ввод (самовнимание), чтобы предсказать следующее слово.\n"
   ]
  },
  {
   "cell_type": "markdown",
   "metadata": {
    "id": "QFv-FNYUmvpn",
    "pycharm": {
     "name": "#%% md\n"
    }
   },
   "source": [
    "### Encoder layer\n",
    "\n",
    "Каждый уровень кодировщика состоит из подслоев:\n",
    "\n",
    "Многоголовое внимание (с дополнительной маской)\n",
    "Точечные сети прямого распространения.\n",
    "Каждый из этих подуровней имеет остаточную связь вокруг себя, за которой следует нормализация уровня. Остаточные соединения помогают избежать проблемы исчезающего градиента в глубоких сетях.\n",
    "\n",
    "Результатом каждого подслоя является LayerNorm(x + Sublayer(x)) . Нормализация выполняется по d_model (последняя). В трансформаторе N слоев кодировщика.\n",
    "\n"
   ]
  },
  {
   "cell_type": "code",
   "metadata": {
    "id": "ncyS-Ms3i2x_",
    "pycharm": {
     "name": "#%%\n"
    }
   },
   "source": [
    "class EncoderLayer(tf.keras.layers.Layer):\n",
    "  def __init__(self, d_model, num_heads, dff, rate=0.1):\n",
    "    super(EncoderLayer, self).__init__()\n",
    "\n",
    "    self.mha = MultiHeadAttention(d_model, num_heads)\n",
    "    self.ffn = point_wise_feed_forward_network(d_model, dff)\n",
    "\n",
    "    self.layernorm1 = tf.keras.layers.LayerNormalization(epsilon=1e-6)\n",
    "    self.layernorm2 = tf.keras.layers.LayerNormalization(epsilon=1e-6)\n",
    "    \n",
    "    self.dropout1 = tf.keras.layers.Dropout(rate)\n",
    "    self.dropout2 = tf.keras.layers.Dropout(rate)\n",
    "    \n",
    "  def call(self, x, training, mask):\n",
    "\n",
    "    attn_output, _ = self.mha(x, x, x, mask)  # (batch_size, input_seq_len, d_model)\n",
    "    attn_output = self.dropout1(attn_output, training=training)\n",
    "    out1 = self.layernorm1(x + attn_output)  # (batch_size, input_seq_len, d_model)\n",
    "    \n",
    "    ffn_output = self.ffn(out1)  # (batch_size, input_seq_len, d_model)\n",
    "    ffn_output = self.dropout2(ffn_output, training=training)\n",
    "    out2 = self.layernorm2(out1 + ffn_output)  # (batch_size, input_seq_len, d_model)\n",
    "    \n",
    "    return out2"
   ],
   "execution_count": 150,
   "outputs": []
  },
  {
   "cell_type": "code",
   "metadata": {
    "colab": {
     "base_uri": "https://localhost:8080/"
    },
    "id": "AzZRXdO0mI48",
    "outputId": "d5bcbf5e-15ce-49b1-a3ba-3f73945df75a",
    "pycharm": {
     "name": "#%%\n"
    }
   },
   "source": [
    "sample_encoder_layer = EncoderLayer(512, 8, 2048)\n",
    "\n",
    "sample_encoder_layer_output = sample_encoder_layer(\n",
    "    tf.random.uniform((64, 43, 512)), False, None)\n",
    "\n",
    "sample_encoder_layer_output.shape  # (batch_size, input_seq_len, d_model)"
   ],
   "execution_count": 151,
   "outputs": [
    {
     "data": {
      "text/plain": "TensorShape([64, 43, 512])"
     },
     "execution_count": 151,
     "metadata": {},
     "output_type": "execute_result"
    }
   ]
  },
  {
   "cell_type": "markdown",
   "metadata": {
    "id": "6LO_48Owmx_o",
    "pycharm": {
     "name": "#%% md\n"
    }
   },
   "source": [
    "### Decoder layer\n",
    "\n",
    "Каждый слой декодера состоит из подслоев:\n",
    "\n",
    "Замаскированное внимание с несколькими головами (с опережающей маской и дополнительной маской)\n",
    "Многоголовое внимание (с дополнительной маской). V (значение) и K (ключ) получают выходной сигнал энкодера в качестве входных данных. Q (запрос) получает выходные данные от подуровня замаскированного многоголового внимания.\n",
    "Точечные сети прямого распространения\n",
    "Каждый из этих подуровней имеет остаточную связь вокруг себя, за которой следует нормализация уровня. Результатом каждого подслоя является LayerNorm(x + Sublayer(x)) . Нормализация выполняется по d_model (последняя).\n",
    "\n",
    "В трансформаторе N слоев декодера.\n",
    "\n",
    "Поскольку Q принимает выходные данные от первого блока внимания декодера, а K принимает выходные данные кодировщика, веса внимания представляют важность, придаваемую входу декодера на основе выходных данных кодера. Другими словами, декодер предсказывает следующее слово, глядя на выходные данные кодировщика и самостоятельно присматриваясь к своим собственным выходным данным. См. Демонстрацию выше в разделе «Внимание к скалярному произведению».\n",
    "\n"
   ]
  },
  {
   "cell_type": "code",
   "metadata": {
    "id": "9SoX0-vd1hue",
    "pycharm": {
     "name": "#%%\n"
    }
   },
   "source": [
    "class DecoderLayer(tf.keras.layers.Layer):\n",
    "  def __init__(self, d_model, num_heads, dff, rate=0.1):\n",
    "    super(DecoderLayer, self).__init__()\n",
    "\n",
    "    self.mha1 = MultiHeadAttention(d_model, num_heads)\n",
    "    self.mha2 = MultiHeadAttention(d_model, num_heads)\n",
    "\n",
    "    self.ffn = point_wise_feed_forward_network(d_model, dff)\n",
    " \n",
    "    self.layernorm1 = tf.keras.layers.LayerNormalization(epsilon=1e-6)\n",
    "    self.layernorm2 = tf.keras.layers.LayerNormalization(epsilon=1e-6)\n",
    "    self.layernorm3 = tf.keras.layers.LayerNormalization(epsilon=1e-6)\n",
    "    \n",
    "    self.dropout1 = tf.keras.layers.Dropout(rate)\n",
    "    self.dropout2 = tf.keras.layers.Dropout(rate)\n",
    "    self.dropout3 = tf.keras.layers.Dropout(rate)\n",
    "    \n",
    "    \n",
    "  def call(self, x, enc_output, training, \n",
    "           look_ahead_mask, padding_mask):\n",
    "    # enc_output.shape == (batch_size, input_seq_len, d_model)\n",
    "\n",
    "    attn1, attn_weights_block1 = self.mha1(x, x, x, look_ahead_mask)  # (batch_size, target_seq_len, d_model)\n",
    "    attn1 = self.dropout1(attn1, training=training)\n",
    "    out1 = self.layernorm1(attn1 + x)\n",
    "    \n",
    "    attn2, attn_weights_block2 = self.mha2(\n",
    "        enc_output, enc_output, out1, padding_mask)  # (batch_size, target_seq_len, d_model)\n",
    "    attn2 = self.dropout2(attn2, training=training)\n",
    "    out2 = self.layernorm2(attn2 + out1)  # (batch_size, target_seq_len, d_model)\n",
    "    \n",
    "    ffn_output = self.ffn(out2)  # (batch_size, target_seq_len, d_model)\n",
    "    ffn_output = self.dropout3(ffn_output, training=training)\n",
    "    out3 = self.layernorm3(ffn_output + out2)  # (batch_size, target_seq_len, d_model)\n",
    "    \n",
    "    return out3, attn_weights_block1, attn_weights_block2"
   ],
   "execution_count": 152,
   "outputs": []
  },
  {
   "cell_type": "code",
   "metadata": {
    "colab": {
     "base_uri": "https://localhost:8080/"
    },
    "id": "Ne2Bqx8k71l0",
    "outputId": "a537f2ba-b617-4591-f380-e5879fa25c4c",
    "pycharm": {
     "name": "#%%\n"
    }
   },
   "source": [
    "sample_decoder_layer = DecoderLayer(512, 8, 2048)\n",
    "\n",
    "sample_decoder_layer_output, _, _ = sample_decoder_layer(\n",
    "    tf.random.uniform((64, 50, 512)), sample_encoder_layer_output, \n",
    "    False, None, None)\n",
    "\n",
    "sample_decoder_layer_output.shape  # (batch_size, target_seq_len, d_model)"
   ],
   "execution_count": 153,
   "outputs": [
    {
     "data": {
      "text/plain": "TensorShape([64, 50, 512])"
     },
     "execution_count": 153,
     "metadata": {},
     "output_type": "execute_result"
    }
   ]
  },
  {
   "cell_type": "markdown",
   "metadata": {
    "id": "SE1H51Ajm0q1",
    "pycharm": {
     "name": "#%% md\n"
    }
   },
   "source": [
    "### Encoder\n",
    "\n",
    "The `Encoder` consists of:\n",
    "1.   Input Embedding\n",
    "2.   Positional Encoding\n",
    "3.   N encoder layers\n",
    "\n",
    "The input is put through an embedding which is summed with the positional encoding. The output of this summation is the input to the encoder layers. The output of the encoder is the input to the decoder."
   ]
  },
  {
   "cell_type": "code",
   "metadata": {
    "id": "jpEox7gJ8FCI",
    "pycharm": {
     "name": "#%%\n"
    }
   },
   "source": [
    "class Encoder(tf.keras.layers.Layer):\n",
    "  def __init__(self, num_layers, d_model, num_heads, dff, input_vocab_size,\n",
    "               maximum_position_encoding, rate=0.1):\n",
    "    super(Encoder, self).__init__()\n",
    "\n",
    "    self.d_model = d_model\n",
    "    self.num_layers = num_layers\n",
    "    \n",
    "    self.embedding = tf.keras.layers.Embedding(input_vocab_size, d_model)\n",
    "    self.pos_encoding = positional_encoding(maximum_position_encoding, \n",
    "                                            self.d_model)\n",
    "    \n",
    "    \n",
    "    self.enc_layers = [EncoderLayer(d_model, num_heads, dff, rate) \n",
    "                       for _ in range(num_layers)]\n",
    "  \n",
    "    self.dropout = tf.keras.layers.Dropout(rate)\n",
    "        \n",
    "  def call(self, x, training, mask):\n",
    "\n",
    "    seq_len = tf.shape(x)[1]\n",
    "    \n",
    "    # adding embedding and position encoding.\n",
    "    x = self.embedding(x)  # (batch_size, input_seq_len, d_model)\n",
    "    x *= tf.math.sqrt(tf.cast(self.d_model, tf.float32))\n",
    "    x += self.pos_encoding[:, :seq_len, :]\n",
    "\n",
    "    x = self.dropout(x, training=training)\n",
    "    \n",
    "    for i in range(self.num_layers):\n",
    "      x = self.enc_layers[i](x, training, mask)\n",
    "    \n",
    "    return x  # (batch_size, input_seq_len, d_model)"
   ],
   "execution_count": 154,
   "outputs": []
  },
  {
   "cell_type": "code",
   "metadata": {
    "colab": {
     "base_uri": "https://localhost:8080/"
    },
    "id": "8QG9nueFQKXx",
    "outputId": "8fb6f2d7-b253-4b1d-922c-d3972981ca41",
    "pycharm": {
     "name": "#%%\n"
    }
   },
   "source": [
    "sample_encoder = Encoder(num_layers=2, d_model=512, num_heads=8, \n",
    "                         dff=2048, input_vocab_size=8500,\n",
    "                         maximum_position_encoding=10000)\n",
    "temp_input = tf.random.uniform((64, 62), dtype=tf.int64, minval=0, maxval=200)\n",
    "\n",
    "sample_encoder_output = sample_encoder(temp_input, training=False, mask=None)\n",
    "\n",
    "print (sample_encoder_output.shape)  # (batch_size, input_seq_len, d_model)"
   ],
   "execution_count": 155,
   "outputs": [
    {
     "name": "stdout",
     "output_type": "stream",
     "text": [
      "(64, 62, 512)\n"
     ]
    }
   ]
  },
  {
   "cell_type": "markdown",
   "metadata": {
    "id": "p-uO6ls8m2O5",
    "pycharm": {
     "name": "#%% md\n"
    }
   },
   "source": [
    "### Decoder"
   ]
  },
  {
   "cell_type": "markdown",
   "metadata": {
    "id": "ZtT7PKzrXkNr",
    "pycharm": {
     "name": "#%% md\n"
    }
   },
   "source": [
    " The `Decoder` consists of:\n",
    "1.   Output Embedding\n",
    "2.   Positional Encoding\n",
    "3.   N decoder layers\n",
    "\n",
    "The target is put through an embedding which is summed with the positional encoding. The output of this summation is the input to the decoder layers. The output of the decoder is the input to the final linear layer."
   ]
  },
  {
   "cell_type": "code",
   "metadata": {
    "id": "d5_d5-PLQXwY",
    "pycharm": {
     "name": "#%%\n"
    }
   },
   "source": [
    "class Decoder(tf.keras.layers.Layer):\n",
    "  def __init__(self, num_layers, d_model, num_heads, dff, target_vocab_size,\n",
    "               maximum_position_encoding, rate=0.1):\n",
    "    super(Decoder, self).__init__()\n",
    "\n",
    "    self.d_model = d_model\n",
    "    self.num_layers = num_layers\n",
    "    \n",
    "    self.embedding = tf.keras.layers.Embedding(target_vocab_size, d_model)\n",
    "    self.pos_encoding = positional_encoding(maximum_position_encoding, d_model)\n",
    "    \n",
    "    self.dec_layers = [DecoderLayer(d_model, num_heads, dff, rate) \n",
    "                       for _ in range(num_layers)]\n",
    "    self.dropout = tf.keras.layers.Dropout(rate)\n",
    "    \n",
    "  def call(self, x, enc_output, training, \n",
    "           look_ahead_mask, padding_mask):\n",
    "\n",
    "    seq_len = tf.shape(x)[1]\n",
    "    attention_weights = {}\n",
    "    \n",
    "    x = self.embedding(x)  # (batch_size, target_seq_len, d_model)\n",
    "    x *= tf.math.sqrt(tf.cast(self.d_model, tf.float32))\n",
    "    x += self.pos_encoding[:, :seq_len, :]\n",
    "    \n",
    "    x = self.dropout(x, training=training)\n",
    "\n",
    "    for i in range(self.num_layers):\n",
    "      x, block1, block2 = self.dec_layers[i](x, enc_output, training,\n",
    "                                             look_ahead_mask, padding_mask)\n",
    "      \n",
    "      attention_weights['decoder_layer{}_block1'.format(i+1)] = block1\n",
    "      attention_weights['decoder_layer{}_block2'.format(i+1)] = block2\n",
    "    \n",
    "    # x.shape == (batch_size, target_seq_len, d_model)\n",
    "    return x, attention_weights"
   ],
   "execution_count": 156,
   "outputs": []
  },
  {
   "cell_type": "code",
   "metadata": {
    "colab": {
     "base_uri": "https://localhost:8080/"
    },
    "id": "a1jXoAMRZyvu",
    "outputId": "f8a09609-877a-4e2a-87aa-50d226afba7d",
    "pycharm": {
     "name": "#%%\n"
    }
   },
   "source": [
    "sample_decoder = Decoder(num_layers=2, d_model=512, num_heads=8, \n",
    "                         dff=2048, target_vocab_size=8000,\n",
    "                         maximum_position_encoding=5000)\n",
    "temp_input = tf.random.uniform((64, 26), dtype=tf.int64, minval=0, maxval=200)\n",
    "\n",
    "output, attn = sample_decoder(temp_input, \n",
    "                              enc_output=sample_encoder_output, \n",
    "                              training=False,\n",
    "                              look_ahead_mask=None, \n",
    "                              padding_mask=None)\n",
    "\n",
    "output.shape, attn['decoder_layer2_block2'].shape"
   ],
   "execution_count": 157,
   "outputs": [
    {
     "data": {
      "text/plain": "(TensorShape([64, 26, 512]), TensorShape([64, 8, 26, 62]))"
     },
     "execution_count": 157,
     "metadata": {},
     "output_type": "execute_result"
    }
   ]
  },
  {
   "cell_type": "markdown",
   "metadata": {
    "id": "y54xnJnuYgJ7",
    "pycharm": {
     "name": "#%% md\n"
    }
   },
   "source": [
    "## Create the Transformer"
   ]
  },
  {
   "cell_type": "markdown",
   "metadata": {
    "id": "uERO1y54cOKq",
    "pycharm": {
     "name": "#%% md\n"
    }
   },
   "source": [
    "Transformer consists of the encoder, decoder and a final linear layer. The output of the decoder is the input to the linear layer and its output is returned."
   ]
  },
  {
   "cell_type": "code",
   "metadata": {
    "id": "PED3bIpOYkBu",
    "pycharm": {
     "name": "#%%\n"
    }
   },
   "source": [
    "class Transformer(tf.keras.Model):\n",
    "  def __init__(self, num_layers, d_model, num_heads, dff, input_vocab_size, \n",
    "               target_vocab_size, pe_input, pe_target, rate=0.1):\n",
    "    super(Transformer, self).__init__()\n",
    "\n",
    "    self.encoder = Encoder(num_layers, d_model, num_heads, dff, \n",
    "                           input_vocab_size, pe_input, rate)\n",
    "\n",
    "    self.decoder = Decoder(num_layers, d_model, num_heads, dff, \n",
    "                           target_vocab_size, pe_target, rate)\n",
    "\n",
    "    self.final_layer = tf.keras.layers.Dense(target_vocab_size)\n",
    "    \n",
    "  def call(self, inp, tar, training, enc_padding_mask, \n",
    "           look_ahead_mask, dec_padding_mask):\n",
    "\n",
    "    enc_output = self.encoder(inp, training, enc_padding_mask)  # (batch_size, inp_seq_len, d_model)\n",
    "    \n",
    "    # dec_output.shape == (batch_size, tar_seq_len, d_model)\n",
    "    dec_output, attention_weights = self.decoder(\n",
    "        tar, enc_output, training, look_ahead_mask, dec_padding_mask)\n",
    "    \n",
    "    final_output = self.final_layer(dec_output)  # (batch_size, tar_seq_len, target_vocab_size)\n",
    "    \n",
    "    return final_output, attention_weights"
   ],
   "execution_count": 158,
   "outputs": []
  },
  {
   "cell_type": "code",
   "metadata": {
    "colab": {
     "base_uri": "https://localhost:8080/"
    },
    "id": "tJ4fbQcIkHW1",
    "outputId": "b260d0b1-3050-498e-cb9e-a6d9e1802fe0",
    "pycharm": {
     "name": "#%%\n"
    }
   },
   "source": [
    "sample_transformer = Transformer(\n",
    "    num_layers=2, d_model=512, num_heads=8, dff=2048, \n",
    "    input_vocab_size=8500, target_vocab_size=8000, \n",
    "    pe_input=10000, pe_target=6000)\n",
    "\n",
    "temp_input = tf.random.uniform((64, 38), dtype=tf.int64, minval=0, maxval=200)\n",
    "temp_target = tf.random.uniform((64, 36), dtype=tf.int64, minval=0, maxval=200)\n",
    "\n",
    "fn_out, _ = sample_transformer(temp_input, temp_target, training=False, \n",
    "                               enc_padding_mask=None, \n",
    "                               look_ahead_mask=None,\n",
    "                               dec_padding_mask=None)\n",
    "\n",
    "fn_out.shape  # (batch_size, tar_seq_len, target_vocab_size)"
   ],
   "execution_count": 159,
   "outputs": [
    {
     "data": {
      "text/plain": "TensorShape([64, 36, 8000])"
     },
     "execution_count": 159,
     "metadata": {},
     "output_type": "execute_result"
    }
   ]
  },
  {
   "cell_type": "markdown",
   "metadata": {
    "id": "wsINyf1VEQLC",
    "pycharm": {
     "name": "#%% md\n"
    }
   },
   "source": [
    "## Set hyperparameters"
   ]
  },
  {
   "cell_type": "markdown",
   "metadata": {
    "id": "zVjWCxFNcgbt",
    "pycharm": {
     "name": "#%% md\n"
    }
   },
   "source": [
    "To keep this example small and relatively fast, the values for *num_layers, d_model, and dff* have been reduced. \n",
    "\n",
    "The values used in the base model of transformer were; *num_layers=6*, *d_model = 512*, *dff = 2048*. See the [paper](https://arxiv.org/abs/1706.03762) for all the other versions of the transformer.\n",
    "\n",
    "Note: By changing the values below, you can get the model that achieved state of the art on many tasks."
   ]
  },
  {
   "cell_type": "code",
   "metadata": {
    "id": "lnJn5SLA2ahP",
    "pycharm": {
     "name": "#%%\n"
    }
   },
   "source": [
    "num_layers = 4\n",
    "d_model = 128\n",
    "dff = 512\n",
    "num_heads = 8\n",
    "\n",
    "input_vocab_size = tokenizer_pt.vocab_size + 2\n",
    "target_vocab_size = tokenizer_en.vocab_size + 2\n",
    "dropout_rate = 0.1"
   ],
   "execution_count": 160,
   "outputs": []
  },
  {
   "cell_type": "markdown",
   "metadata": {
    "id": "xYEGhEOtzn5W",
    "pycharm": {
     "name": "#%% md\n"
    }
   },
   "source": [
    "## Optimizer"
   ]
  },
  {
   "cell_type": "markdown",
   "metadata": {
    "id": "GOmWW--yP3zx",
    "pycharm": {
     "name": "#%% md\n"
    }
   },
   "source": [
    "Use the Adam optimizer with a custom learning rate scheduler according to the formula in the [paper](https://arxiv.org/abs/1706.03762).\n",
    "\n",
    "$$\\Large{lrate = d_{model}^{-0.5} * min(step{\\_}num^{-0.5}, step{\\_}num * warmup{\\_}steps^{-1.5})}$$\n"
   ]
  },
  {
   "cell_type": "code",
   "metadata": {
    "id": "iYQdOO1axwEI",
    "pycharm": {
     "name": "#%%\n"
    }
   },
   "source": [
    "class CustomSchedule(tf.keras.optimizers.schedules.LearningRateSchedule):\n",
    "  def __init__(self, d_model, warmup_steps=4000):\n",
    "    super(CustomSchedule, self).__init__()\n",
    "    \n",
    "    self.d_model = d_model\n",
    "    self.d_model = tf.cast(self.d_model, tf.float32)\n",
    "\n",
    "    self.warmup_steps = warmup_steps\n",
    "    \n",
    "  def __call__(self, step):\n",
    "    step = tf.cast(step, tf.float32)\n",
    "    arg1 = tf.math.rsqrt(step)\n",
    "    arg2 = step * (self.warmup_steps ** -1.5)\n",
    "\n",
    "    return  tf.math.rsqrt(self.d_model) * tf.math.minimum(arg1, arg2)"
   ],
   "execution_count": 161,
   "outputs": []
  },
  {
   "cell_type": "code",
   "metadata": {
    "id": "7r4scdulztRx",
    "pycharm": {
     "name": "#%%\n"
    }
   },
   "source": [
    "learning_rate = CustomSchedule(d_model)\n",
    "\n",
    "optimizer = tf.keras.optimizers.Adam(learning_rate=learning_rate, beta_1=0.9, beta_2=0.98,\n",
    "                                     epsilon=1e-9)"
   ],
   "execution_count": 162,
   "outputs": []
  },
  {
   "cell_type": "code",
   "metadata": {
    "colab": {
     "base_uri": "https://localhost:8080/",
     "height": 297
    },
    "id": "f33ZCgvHpPdG",
    "outputId": "8c4adffc-6867-4625-aacc-dc3e41cd9b63",
    "pycharm": {
     "name": "#%%\n"
    }
   },
   "source": [
    "temp_learning_rate_schedule = CustomSchedule(d_model)\n",
    "\n",
    "plt.plot(temp_learning_rate_schedule(tf.range(40000, dtype=tf.float32)))\n",
    "plt.ylabel(\"Learning Rate\")\n",
    "plt.xlabel(\"Train Step\")"
   ],
   "execution_count": 163,
   "outputs": [
    {
     "data": {
      "text/plain": "Text(0.5, 0, 'Train Step')"
     },
     "execution_count": 163,
     "metadata": {},
     "output_type": "execute_result"
    },
    {
     "data": {
      "text/plain": "<Figure size 640x480 with 1 Axes>",
      "image/png": "[encoded data removed]"
     },
     "metadata": {},
     "output_type": "display_data"
    }
   ]
  },
  {
   "cell_type": "markdown",
   "metadata": {
    "id": "YgkDE7hzo8r5",
    "pycharm": {
     "name": "#%% md\n"
    }
   },
   "source": [
    "## Loss and metrics"
   ]
  },
  {
   "cell_type": "markdown",
   "metadata": {
    "id": "oxGJtoDuYIHL",
    "pycharm": {
     "name": "#%% md\n"
    }
   },
   "source": [
    "Since the target sequences are padded, it is important to apply a padding mask when calculating the loss."
   ]
  },
  {
   "cell_type": "code",
   "metadata": {
    "id": "MlhsJMm0TW_B",
    "pycharm": {
     "name": "#%%\n"
    }
   },
   "source": [
    "loss_object = tf.keras.losses.SparseCategoricalCrossentropy(\n",
    "    from_logits=True, reduction='none')"
   ],
   "execution_count": 164,
   "outputs": []
  },
  {
   "cell_type": "code",
   "metadata": {
    "id": "67oqVHiT0Eiu",
    "pycharm": {
     "name": "#%%\n"
    }
   },
   "source": [
    "def loss_function(real, pred):\n",
    "  mask = tf.math.logical_not(tf.math.equal(real, 0))\n",
    "  loss_ = loss_object(real, pred)\n",
    "\n",
    "  mask = tf.cast(mask, dtype=loss_.dtype)\n",
    "  loss_ *= mask\n",
    "  \n",
    "  return tf.reduce_sum(loss_)/tf.reduce_sum(mask)\n",
    "\n",
    "\n",
    "def accuracy_function(real, pred):\n",
    "  accuracies = tf.equal(real, tf.argmax(pred, axis=2))\n",
    "  \n",
    "  mask = tf.math.logical_not(tf.math.equal(real, 0))\n",
    "  accuracies = tf.math.logical_and(mask, accuracies)\n",
    "\n",
    "  accuracies = tf.cast(accuracies, dtype=tf.float32)\n",
    "  mask = tf.cast(mask, dtype=tf.float32)\n",
    "  return tf.reduce_sum(accuracies)/tf.reduce_sum(mask)"
   ],
   "execution_count": 165,
   "outputs": []
  },
  {
   "cell_type": "code",
   "metadata": {
    "id": "phlyxMnm-Tpx",
    "pycharm": {
     "name": "#%%\n"
    }
   },
   "source": [
    "train_loss = tf.keras.metrics.Mean(name='train_loss')\n",
    "train_accuracy = tf.keras.metrics.Mean(name='train_accuracy')"
   ],
   "execution_count": 166,
   "outputs": []
  },
  {
   "cell_type": "markdown",
   "metadata": {
    "id": "aeHumfr7zmMa",
    "pycharm": {
     "name": "#%% md\n"
    }
   },
   "source": [
    "## Training and checkpointing"
   ]
  },
  {
   "cell_type": "code",
   "metadata": {
    "id": "UiysUa--4tOU",
    "pycharm": {
     "name": "#%%\n"
    }
   },
   "source": [
    "transformer = Transformer(num_layers, d_model, num_heads, dff,\n",
    "                          input_vocab_size, target_vocab_size, \n",
    "                          pe_input=input_vocab_size, \n",
    "                          pe_target=target_vocab_size,\n",
    "                          rate=dropout_rate)"
   ],
   "execution_count": 167,
   "outputs": []
  },
  {
   "cell_type": "code",
   "metadata": {
    "id": "ZOJUSB1T8GjM",
    "pycharm": {
     "name": "#%%\n"
    }
   },
   "source": [
    "def create_masks(inp, tar):\n",
    "  # Encoder padding mask\n",
    "  enc_padding_mask = create_padding_mask(inp)\n",
    "  \n",
    "  # Used in the 2nd attention block in the decoder.\n",
    "  # This padding mask is used to mask the encoder outputs.\n",
    "  dec_padding_mask = create_padding_mask(inp)\n",
    "  \n",
    "  # Used in the 1st attention block in the decoder.\n",
    "  # It is used to pad and mask future tokens in the input received by \n",
    "  # the decoder.\n",
    "  look_ahead_mask = create_look_ahead_mask(tf.shape(tar)[1])\n",
    "  dec_target_padding_mask = create_padding_mask(tar)\n",
    "  combined_mask = tf.maximum(dec_target_padding_mask, look_ahead_mask)\n",
    "  \n",
    "  return enc_padding_mask, combined_mask, dec_padding_mask"
   ],
   "execution_count": 168,
   "outputs": []
  },
  {
   "cell_type": "markdown",
   "metadata": {
    "id": "Fzuf06YZp66w",
    "pycharm": {
     "name": "#%% md\n"
    }
   },
   "source": [
    "Create the checkpoint path and the checkpoint manager. This will be used to save checkpoints every `n` epochs."
   ]
  },
  {
   "cell_type": "code",
   "metadata": {
    "id": "hNhuYfllndLZ",
    "pycharm": {
     "name": "#%%\n"
    }
   },
   "source": [
    "checkpoint_path = \"./checkpoints/train\"\n",
    "\n",
    "ckpt = tf.train.Checkpoint(transformer=transformer,\n",
    "                           optimizer=optimizer)\n",
    "\n",
    "ckpt_manager = tf.train.CheckpointManager(ckpt, checkpoint_path, max_to_keep=5)\n",
    "\n",
    "# if a checkpoint exists, restore the latest checkpoint.\n",
    "if ckpt_manager.latest_checkpoint:\n",
    "  ckpt.restore(ckpt_manager.latest_checkpoint)\n",
    "  print ('Latest checkpoint restored!!')"
   ],
   "execution_count": 169,
   "outputs": [
    {
     "name": "stdout",
     "output_type": "stream",
     "text": [
      "Latest checkpoint restored!!\n"
     ]
    }
   ]
  },
  {
   "cell_type": "markdown",
   "metadata": {
    "id": "0Di_Yaa1gf9r",
    "pycharm": {
     "name": "#%% md\n"
    }
   },
   "source": [
    "Цель делится на tar_inp и tar_real. tar_inp передается декодеру в качестве входных данных. tar_real - это тот же самый ввод, сдвинутый на 1: в каждом месте tar_input tar_real содержит следующий токен, который должен быть предсказан.\n",
    "\n",
    "Например, sentence = \"SOS Лев в джунглях спит EOS\"\n",
    "\n",
    "tar_inp = \"SOS tar_inp лев в джунглях\"\n",
    "\n",
    "tar_real = \"Лев в джунглях спит EOS\"\n",
    "\n",
    "Преобразователь - это авторегрессивная модель: он делает прогнозы по частям и использует свои выходные данные, чтобы решить, что делать дальше.\n",
    "\n",
    "Во время обучения в этом примере используется принуждение учителя (как в учебнике по созданию текста ). Принуждение учителя передает истинный результат следующему временному шагу независимо от того, что модель предсказывает на текущем временном шаге.\n",
    "\n",
    "Поскольку преобразователь предсказывает каждое слово, самовнимание позволяет ему смотреть на предыдущие слова во входной последовательности, чтобы лучше предсказать следующее слово.\n",
    "\n",
    "Чтобы модель не просматривала ожидаемый результат, в модели используется маска просмотра вперед.\n",
    "\n"
   ]
  },
  {
   "cell_type": "code",
   "metadata": {
    "id": "LKpoA6q1sJFj",
    "pycharm": {
     "name": "#%%\n"
    }
   },
   "source": [
    "EPOCHS = 5"
   ],
   "execution_count": 170,
   "outputs": []
  },
  {
   "cell_type": "code",
   "metadata": {
    "id": "iJwmp9OE29oj",
    "pycharm": {
     "name": "#%%\n"
    }
   },
   "source": [
    "# The @tf.function trace-compiles train_step into a TF graph for faster\n",
    "# execution. The function specializes to the precise shape of the argument\n",
    "# tensors. To avoid re-tracing due to the variable sequence lengths or variable\n",
    "# batch sizes (the last batch is smaller), use input_signature to specify\n",
    "# more generic shapes.\n",
    "\n",
    "train_step_signature = [\n",
    "    tf.TensorSpec(shape=(None, None), dtype=tf.int64),\n",
    "    tf.TensorSpec(shape=(None, None), dtype=tf.int64),\n",
    "]\n",
    "\n",
    "@tf.function(input_signature=train_step_signature)\n",
    "def train_step(inp, tar):\n",
    "  tar_inp = tar[:, :-1]\n",
    "  tar_real = tar[:, 1:]\n",
    "  \n",
    "  enc_padding_mask, combined_mask, dec_padding_mask = create_masks(inp, tar_inp)\n",
    "  \n",
    "  with tf.GradientTape() as tape:\n",
    "    predictions, _ = transformer(inp, tar_inp, \n",
    "                                 True, \n",
    "                                 enc_padding_mask, \n",
    "                                 combined_mask, \n",
    "                                 dec_padding_mask)\n",
    "    loss = loss_function(tar_real, predictions)\n",
    "\n",
    "  gradients = tape.gradient(loss, transformer.trainable_variables)    \n",
    "  optimizer.apply_gradients(zip(gradients, transformer.trainable_variables))\n",
    "  \n",
    "  train_loss(loss)\n",
    "  train_accuracy(accuracy_function(tar_real, predictions))"
   ],
   "execution_count": 171,
   "outputs": []
  },
  {
   "cell_type": "markdown",
   "metadata": {
    "id": "qM2PDWGDJ_8V",
    "pycharm": {
     "name": "#%% md\n"
    }
   },
   "source": [
    "Ru is used as the input language and English is the target language."
   ]
  },
  {
   "cell_type": "code",
   "metadata": {
    "colab": {
     "base_uri": "https://localhost:8080/"
    },
    "id": "bbvmaKNiznHZ",
    "outputId": "a9fd937b-43e0-426e-8565-f640bf934653",
    "pycharm": {
     "name": "#%%\n"
    }
   },
   "source": [
    "for epoch in range(EPOCHS):\n",
    "  start = time.time()\n",
    "  \n",
    "  train_loss.reset_states()\n",
    "  train_accuracy.reset_states()\n",
    "  \n",
    "  # inp -> portuguese, tar -> english\n",
    "  for (batch, (inp, tar)) in enumerate(train_dataset):\n",
    "    train_step(inp, tar)\n",
    "    \n",
    "    if batch % 50 == 0:\n",
    "      print ('Epoch {} Batch {} Loss {:.4f} Accuracy {:.4f}'.format(\n",
    "          epoch + 1, batch, train_loss.result(), train_accuracy.result()))\n",
    "      \n",
    "  if (epoch + 1) % 5 == 0:\n",
    "    ckpt_save_path = ckpt_manager.save()\n",
    "    print ('Saving checkpoint for epoch {} at {}'.format(epoch+1,\n",
    "                                                         ckpt_save_path))\n",
    "    \n",
    "  print ('Epoch {} Loss {:.4f} Accuracy {:.4f}'.format(epoch + 1, \n",
    "                                                train_loss.result(), \n",
    "                                                train_accuracy.result()))\n",
    "\n",
    "  print ('Time taken for 1 epoch: {} secs\\n'.format(time.time() - start))"
   ],
   "execution_count": 172,
   "outputs": [
    {
     "name": "stdout",
     "output_type": "stream",
     "text": [
      "Epoch 1 Batch 0 Loss 3.7716 Accuracy 0.3817\n",
      "Epoch 1 Batch 50 Loss 3.8778 Accuracy 0.3634\n",
      "Epoch 1 Batch 100 Loss 3.8989 Accuracy 0.3628\n",
      "Epoch 1 Batch 150 Loss 3.8943 Accuracy 0.3634\n",
      "Epoch 1 Batch 200 Loss 3.8979 Accuracy 0.3629\n",
      "Epoch 1 Batch 250 Loss 3.8951 Accuracy 0.3638\n",
      "Epoch 1 Batch 300 Loss 3.8916 Accuracy 0.3646\n",
      "Epoch 1 Batch 350 Loss 3.8819 Accuracy 0.3658\n",
      "Epoch 1 Batch 400 Loss 3.8788 Accuracy 0.3661\n",
      "Epoch 1 Batch 450 Loss 3.8740 Accuracy 0.3668\n",
      "Epoch 1 Batch 500 Loss 3.8686 Accuracy 0.3674\n",
      "Epoch 1 Batch 550 Loss 3.8649 Accuracy 0.3681\n",
      "Epoch 1 Batch 600 Loss 3.8609 Accuracy 0.3686\n",
      "Epoch 1 Batch 650 Loss 3.8555 Accuracy 0.3691\n",
      "Epoch 1 Batch 700 Loss 3.8480 Accuracy 0.3700\n",
      "Epoch 1 Batch 750 Loss 3.8385 Accuracy 0.3708\n",
      "Epoch 1 Batch 800 Loss 3.8315 Accuracy 0.3716\n",
      "Epoch 1 Batch 850 Loss 3.8245 Accuracy 0.3724\n",
      "Epoch 1 Batch 900 Loss 3.8172 Accuracy 0.3733\n",
      "Epoch 1 Batch 950 Loss 3.8095 Accuracy 0.3743\n",
      "Epoch 1 Batch 1000 Loss 3.8031 Accuracy 0.3750\n",
      "Epoch 1 Batch 1050 Loss 3.7969 Accuracy 0.3758\n",
      "Epoch 1 Batch 1100 Loss 3.7900 Accuracy 0.3765\n",
      "Epoch 1 Batch 1150 Loss 3.7839 Accuracy 0.3774\n",
      "Epoch 1 Batch 1200 Loss 3.7761 Accuracy 0.3781\n",
      "Epoch 1 Batch 1250 Loss 3.7697 Accuracy 0.3788\n",
      "Epoch 1 Batch 1300 Loss 3.7634 Accuracy 0.3794\n",
      "Epoch 1 Batch 1350 Loss 3.7571 Accuracy 0.3802\n",
      "Epoch 1 Batch 1400 Loss 3.7510 Accuracy 0.3809\n",
      "Epoch 1 Batch 1450 Loss 3.7448 Accuracy 0.3816\n",
      "Epoch 1 Batch 1500 Loss 3.7388 Accuracy 0.3823\n",
      "Epoch 1 Batch 1550 Loss 3.7326 Accuracy 0.3830\n",
      "Epoch 1 Batch 1600 Loss 3.7260 Accuracy 0.3838\n",
      "Epoch 1 Batch 1650 Loss 3.7197 Accuracy 0.3845\n",
      "Epoch 1 Batch 1700 Loss 3.7136 Accuracy 0.3852\n",
      "Epoch 1 Batch 1750 Loss 3.7074 Accuracy 0.3859\n",
      "Epoch 1 Batch 1800 Loss 3.7006 Accuracy 0.3867\n",
      "Epoch 1 Batch 1850 Loss 3.6956 Accuracy 0.3872\n",
      "Epoch 1 Batch 1900 Loss 3.6890 Accuracy 0.3879\n",
      "Epoch 1 Batch 1950 Loss 3.6830 Accuracy 0.3885\n",
      "Epoch 1 Batch 2000 Loss 3.6778 Accuracy 0.3891\n",
      "Epoch 1 Batch 2050 Loss 3.6714 Accuracy 0.3897\n",
      "Epoch 1 Batch 2100 Loss 3.6657 Accuracy 0.3903\n",
      "Epoch 1 Batch 2150 Loss 3.6599 Accuracy 0.3909\n",
      "Epoch 1 Batch 2200 Loss 3.6539 Accuracy 0.3916\n",
      "Epoch 1 Batch 2250 Loss 3.6484 Accuracy 0.3922\n",
      "Epoch 1 Batch 2300 Loss 3.6429 Accuracy 0.3928\n",
      "Epoch 1 Batch 2350 Loss 3.6371 Accuracy 0.3934\n",
      "Epoch 1 Batch 2400 Loss 3.6313 Accuracy 0.3940\n",
      "Epoch 1 Batch 2450 Loss 3.6258 Accuracy 0.3946\n",
      "Epoch 1 Batch 2500 Loss 3.6203 Accuracy 0.3952\n",
      "Epoch 1 Batch 2550 Loss 3.6152 Accuracy 0.3957\n",
      "Epoch 1 Batch 2600 Loss 3.6102 Accuracy 0.3963\n",
      "Epoch 1 Loss 3.6078 Accuracy 0.3965\n",
      "Time taken for 1 epoch: 1756.957715511322 secs\n",
      "\n",
      "Epoch 2 Batch 0 Loss 3.3099 Accuracy 0.4250\n",
      "Epoch 2 Batch 50 Loss 3.2378 Accuracy 0.4355\n",
      "Epoch 2 Batch 100 Loss 3.2371 Accuracy 0.4356\n",
      "Epoch 2 Batch 150 Loss 3.2467 Accuracy 0.4339\n",
      "Epoch 2 Batch 200 Loss 3.2408 Accuracy 0.4348\n",
      "Epoch 2 Batch 250 Loss 3.2421 Accuracy 0.4348\n",
      "Epoch 2 Batch 300 Loss 3.2395 Accuracy 0.4349\n",
      "Epoch 2 Batch 350 Loss 3.2340 Accuracy 0.4355\n",
      "Epoch 2 Batch 400 Loss 3.2299 Accuracy 0.4362\n",
      "Epoch 2 Batch 450 Loss 3.2261 Accuracy 0.4366\n",
      "Epoch 2 Batch 500 Loss 3.2217 Accuracy 0.4372\n",
      "Epoch 2 Batch 550 Loss 3.2183 Accuracy 0.4375\n",
      "Epoch 2 Batch 600 Loss 3.2149 Accuracy 0.4378\n",
      "Epoch 2 Batch 650 Loss 3.2122 Accuracy 0.4380\n",
      "Epoch 2 Batch 700 Loss 3.2072 Accuracy 0.4387\n",
      "Epoch 2 Batch 750 Loss 3.2016 Accuracy 0.4393\n",
      "Epoch 2 Batch 800 Loss 3.1987 Accuracy 0.4398\n",
      "Epoch 2 Batch 850 Loss 3.1944 Accuracy 0.4402\n",
      "Epoch 2 Batch 900 Loss 3.1890 Accuracy 0.4410\n",
      "Epoch 2 Batch 950 Loss 3.1864 Accuracy 0.4413\n",
      "Epoch 2 Batch 1000 Loss 3.1809 Accuracy 0.4421\n",
      "Epoch 2 Batch 1050 Loss 3.1763 Accuracy 0.4424\n",
      "Epoch 2 Batch 1100 Loss 3.1734 Accuracy 0.4428\n",
      "Epoch 2 Batch 1150 Loss 3.1696 Accuracy 0.4433\n",
      "Epoch 2 Batch 1200 Loss 3.1657 Accuracy 0.4437\n",
      "Epoch 2 Batch 1250 Loss 3.1614 Accuracy 0.4442\n",
      "Epoch 2 Batch 1300 Loss 3.1579 Accuracy 0.4446\n",
      "Epoch 2 Batch 1350 Loss 3.1549 Accuracy 0.4449\n",
      "Epoch 2 Batch 1400 Loss 3.1508 Accuracy 0.4454\n",
      "Epoch 2 Batch 1450 Loss 3.1467 Accuracy 0.4459\n",
      "Epoch 2 Batch 1500 Loss 3.1430 Accuracy 0.4463\n",
      "Epoch 2 Batch 1550 Loss 3.1397 Accuracy 0.4467\n",
      "Epoch 2 Batch 1600 Loss 3.1358 Accuracy 0.4471\n",
      "Epoch 2 Batch 1650 Loss 3.1324 Accuracy 0.4475\n",
      "Epoch 2 Batch 1700 Loss 3.1286 Accuracy 0.4479\n",
      "Epoch 2 Batch 1750 Loss 3.1266 Accuracy 0.4482\n",
      "Epoch 2 Batch 1800 Loss 3.1230 Accuracy 0.4485\n",
      "Epoch 2 Batch 1850 Loss 3.1199 Accuracy 0.4489\n",
      "Epoch 2 Batch 1900 Loss 3.1177 Accuracy 0.4491\n",
      "Epoch 2 Batch 1950 Loss 3.1144 Accuracy 0.4495\n",
      "Epoch 2 Batch 2000 Loss 3.1111 Accuracy 0.4498\n",
      "Epoch 2 Batch 2050 Loss 3.1073 Accuracy 0.4503\n",
      "Epoch 2 Batch 2100 Loss 3.1040 Accuracy 0.4507\n",
      "Epoch 2 Batch 2150 Loss 3.1007 Accuracy 0.4510\n",
      "Epoch 2 Batch 2200 Loss 3.0977 Accuracy 0.4513\n",
      "Epoch 2 Batch 2250 Loss 3.0940 Accuracy 0.4518\n",
      "Epoch 2 Batch 2300 Loss 3.0912 Accuracy 0.4521\n",
      "Epoch 2 Batch 2350 Loss 3.0878 Accuracy 0.4525\n",
      "Epoch 2 Batch 2400 Loss 3.0845 Accuracy 0.4529\n",
      "Epoch 2 Batch 2450 Loss 3.0813 Accuracy 0.4532\n",
      "Epoch 2 Batch 2500 Loss 3.0788 Accuracy 0.4535\n",
      "Epoch 2 Batch 2550 Loss 3.0760 Accuracy 0.4538\n",
      "Epoch 2 Batch 2600 Loss 3.0731 Accuracy 0.4541\n",
      "Epoch 2 Loss 3.0720 Accuracy 0.4542\n",
      "Time taken for 1 epoch: 1767.195021390915 secs\n",
      "\n",
      "Epoch 3 Batch 0 Loss 2.8317 Accuracy 0.4907\n",
      "Epoch 3 Batch 50 Loss 2.8791 Accuracy 0.4775\n",
      "Epoch 3 Batch 100 Loss 2.8549 Accuracy 0.4788\n",
      "Epoch 3 Batch 150 Loss 2.8547 Accuracy 0.4786\n",
      "Epoch 3 Batch 200 Loss 2.8585 Accuracy 0.4782\n",
      "Epoch 3 Batch 250 Loss 2.8529 Accuracy 0.4789\n",
      "Epoch 3 Batch 300 Loss 2.8579 Accuracy 0.4780\n",
      "Epoch 3 Batch 350 Loss 2.8580 Accuracy 0.4778\n",
      "Epoch 3 Batch 400 Loss 2.8558 Accuracy 0.4779\n",
      "Epoch 3 Batch 450 Loss 2.8558 Accuracy 0.4780\n",
      "Epoch 3 Batch 500 Loss 2.8539 Accuracy 0.4782\n",
      "Epoch 3 Batch 550 Loss 2.8535 Accuracy 0.4783\n",
      "Epoch 3 Batch 600 Loss 2.8522 Accuracy 0.4784\n",
      "Epoch 3 Batch 650 Loss 2.8511 Accuracy 0.4785\n",
      "Epoch 3 Batch 700 Loss 2.8476 Accuracy 0.4791\n",
      "Epoch 3 Batch 750 Loss 2.8479 Accuracy 0.4792\n",
      "Epoch 3 Batch 800 Loss 2.8442 Accuracy 0.4796\n",
      "Epoch 3 Batch 850 Loss 2.8418 Accuracy 0.4797\n",
      "Epoch 3 Batch 900 Loss 2.8394 Accuracy 0.4800\n",
      "Epoch 3 Batch 950 Loss 2.8375 Accuracy 0.4803\n",
      "Epoch 3 Batch 1000 Loss 2.8356 Accuracy 0.4805\n",
      "Epoch 3 Batch 1050 Loss 2.8344 Accuracy 0.4807\n",
      "Epoch 3 Batch 1100 Loss 2.8323 Accuracy 0.4809\n",
      "Epoch 3 Batch 1150 Loss 2.8308 Accuracy 0.4811\n",
      "Epoch 3 Batch 1200 Loss 2.8301 Accuracy 0.4811\n",
      "Epoch 3 Batch 1250 Loss 2.8284 Accuracy 0.4813\n",
      "Epoch 3 Batch 1300 Loss 2.8256 Accuracy 0.4816\n",
      "Epoch 3 Batch 1350 Loss 2.8237 Accuracy 0.4819\n",
      "Epoch 3 Batch 1400 Loss 2.8220 Accuracy 0.4821\n",
      "Epoch 3 Batch 1450 Loss 2.8199 Accuracy 0.4824\n",
      "Epoch 3 Batch 1500 Loss 2.8184 Accuracy 0.4827\n",
      "Epoch 3 Batch 1550 Loss 2.8168 Accuracy 0.4829\n",
      "Epoch 3 Batch 1600 Loss 2.8152 Accuracy 0.4831\n",
      "Epoch 3 Batch 1650 Loss 2.8145 Accuracy 0.4831\n",
      "Epoch 3 Batch 1700 Loss 2.8125 Accuracy 0.4834\n",
      "Epoch 3 Batch 1750 Loss 2.8113 Accuracy 0.4836\n",
      "Epoch 3 Batch 1800 Loss 2.8098 Accuracy 0.4838\n",
      "Epoch 3 Batch 1850 Loss 2.8085 Accuracy 0.4839\n",
      "Epoch 3 Batch 1900 Loss 2.8071 Accuracy 0.4841\n",
      "Epoch 3 Batch 1950 Loss 2.8055 Accuracy 0.4843\n",
      "Epoch 3 Batch 2000 Loss 2.8037 Accuracy 0.4846\n",
      "Epoch 3 Batch 2050 Loss 2.8023 Accuracy 0.4847\n",
      "Epoch 3 Batch 2100 Loss 2.8004 Accuracy 0.4849\n",
      "Epoch 3 Batch 2150 Loss 2.7984 Accuracy 0.4851\n",
      "Epoch 3 Batch 2200 Loss 2.7967 Accuracy 0.4853\n",
      "Epoch 3 Batch 2250 Loss 2.7945 Accuracy 0.4855\n",
      "Epoch 3 Batch 2300 Loss 2.7928 Accuracy 0.4857\n",
      "Epoch 3 Batch 2350 Loss 2.7911 Accuracy 0.4859\n",
      "Epoch 3 Batch 2400 Loss 2.7900 Accuracy 0.4860\n",
      "Epoch 3 Batch 2450 Loss 2.7886 Accuracy 0.4861\n",
      "Epoch 3 Batch 2500 Loss 2.7869 Accuracy 0.4863\n",
      "Epoch 3 Batch 2550 Loss 2.7855 Accuracy 0.4865\n",
      "Epoch 3 Batch 2600 Loss 2.7832 Accuracy 0.4868\n",
      "Epoch 3 Loss 2.7827 Accuracy 0.4868\n",
      "Time taken for 1 epoch: 1686.0227484703064 secs\n",
      "\n",
      "Epoch 4 Batch 0 Loss 2.4648 Accuracy 0.5378\n",
      "Epoch 4 Batch 50 Loss 2.6611 Accuracy 0.4988\n",
      "Epoch 4 Batch 100 Loss 2.6558 Accuracy 0.4994\n",
      "Epoch 4 Batch 150 Loss 2.6584 Accuracy 0.4994\n",
      "Epoch 4 Batch 200 Loss 2.6635 Accuracy 0.4989\n",
      "Epoch 4 Batch 250 Loss 2.6646 Accuracy 0.4989\n",
      "Epoch 4 Batch 300 Loss 2.6605 Accuracy 0.4994\n",
      "Epoch 4 Batch 350 Loss 2.6577 Accuracy 0.4998\n",
      "Epoch 4 Batch 400 Loss 2.6561 Accuracy 0.4998\n",
      "Epoch 4 Batch 450 Loss 2.6552 Accuracy 0.5002\n",
      "Epoch 4 Batch 500 Loss 2.6563 Accuracy 0.5001\n",
      "Epoch 4 Batch 550 Loss 2.6534 Accuracy 0.5006\n",
      "Epoch 4 Batch 600 Loss 2.6517 Accuracy 0.5008\n",
      "Epoch 4 Batch 650 Loss 2.6499 Accuracy 0.5011\n",
      "Epoch 4 Batch 700 Loss 2.6481 Accuracy 0.5014\n",
      "Epoch 4 Batch 750 Loss 2.6475 Accuracy 0.5015\n",
      "Epoch 4 Batch 800 Loss 2.6466 Accuracy 0.5017\n",
      "Epoch 4 Batch 850 Loss 2.6454 Accuracy 0.5018\n",
      "Epoch 4 Batch 900 Loss 2.6422 Accuracy 0.5023\n",
      "Epoch 4 Batch 950 Loss 2.6413 Accuracy 0.5026\n",
      "Epoch 4 Batch 1000 Loss 2.6411 Accuracy 0.5025\n",
      "Epoch 4 Batch 1050 Loss 2.6407 Accuracy 0.5025\n",
      "Epoch 4 Batch 1100 Loss 2.6406 Accuracy 0.5025\n",
      "Epoch 4 Batch 1150 Loss 2.6392 Accuracy 0.5028\n",
      "Epoch 4 Batch 1200 Loss 2.6391 Accuracy 0.5028\n",
      "Epoch 4 Batch 1250 Loss 2.6387 Accuracy 0.5028\n",
      "Epoch 4 Batch 1300 Loss 2.6370 Accuracy 0.5032\n",
      "Epoch 4 Batch 1350 Loss 2.6353 Accuracy 0.5034\n",
      "Epoch 4 Batch 1400 Loss 2.6339 Accuracy 0.5035\n",
      "Epoch 4 Batch 1450 Loss 2.6324 Accuracy 0.5037\n",
      "Epoch 4 Batch 1500 Loss 2.6318 Accuracy 0.5038\n",
      "Epoch 4 Batch 1550 Loss 2.6315 Accuracy 0.5040\n",
      "Epoch 4 Batch 1600 Loss 2.6305 Accuracy 0.5042\n",
      "Epoch 4 Batch 1650 Loss 2.6288 Accuracy 0.5044\n",
      "Epoch 4 Batch 1700 Loss 2.6273 Accuracy 0.5047\n",
      "Epoch 4 Batch 1750 Loss 2.6264 Accuracy 0.5048\n",
      "Epoch 4 Batch 1800 Loss 2.6248 Accuracy 0.5051\n",
      "Epoch 4 Batch 1850 Loss 2.6238 Accuracy 0.5052\n",
      "Epoch 4 Batch 1900 Loss 2.6230 Accuracy 0.5053\n",
      "Epoch 4 Batch 1950 Loss 2.6225 Accuracy 0.5054\n",
      "Epoch 4 Batch 2000 Loss 2.6217 Accuracy 0.5055\n",
      "Epoch 4 Batch 2050 Loss 2.6206 Accuracy 0.5056\n",
      "Epoch 4 Batch 2100 Loss 2.6195 Accuracy 0.5058\n",
      "Epoch 4 Batch 2150 Loss 2.6182 Accuracy 0.5060\n",
      "Epoch 4 Batch 2200 Loss 2.6170 Accuracy 0.5061\n",
      "Epoch 4 Batch 2250 Loss 2.6166 Accuracy 0.5062\n",
      "Epoch 4 Batch 2300 Loss 2.6163 Accuracy 0.5062\n",
      "Epoch 4 Batch 2350 Loss 2.6155 Accuracy 0.5063\n",
      "Epoch 4 Batch 2400 Loss 2.6141 Accuracy 0.5065\n",
      "Epoch 4 Batch 2450 Loss 2.6135 Accuracy 0.5066\n",
      "Epoch 4 Batch 2500 Loss 2.6132 Accuracy 0.5066\n",
      "Epoch 4 Batch 2550 Loss 2.6128 Accuracy 0.5067\n",
      "Epoch 4 Batch 2600 Loss 2.6119 Accuracy 0.5068\n",
      "Epoch 4 Loss 2.6113 Accuracy 0.5069\n",
      "Time taken for 1 epoch: 1664.871319770813 secs\n",
      "\n",
      "Epoch 5 Batch 0 Loss 2.4857 Accuracy 0.5026\n",
      "Epoch 5 Batch 50 Loss 2.5369 Accuracy 0.5146\n",
      "Epoch 5 Batch 100 Loss 2.5296 Accuracy 0.5159\n",
      "Epoch 5 Batch 150 Loss 2.5318 Accuracy 0.5159\n",
      "Epoch 5 Batch 200 Loss 2.5293 Accuracy 0.5159\n",
      "Epoch 5 Batch 250 Loss 2.5261 Accuracy 0.5168\n",
      "Epoch 5 Batch 300 Loss 2.5272 Accuracy 0.5168\n",
      "Epoch 5 Batch 350 Loss 2.5277 Accuracy 0.5165\n",
      "Epoch 5 Batch 400 Loss 2.5283 Accuracy 0.5160\n",
      "Epoch 5 Batch 450 Loss 2.5249 Accuracy 0.5166\n",
      "Epoch 5 Batch 500 Loss 2.5226 Accuracy 0.5169\n",
      "Epoch 5 Batch 550 Loss 2.5218 Accuracy 0.5170\n",
      "Epoch 5 Batch 600 Loss 2.5205 Accuracy 0.5172\n",
      "Epoch 5 Batch 650 Loss 2.5206 Accuracy 0.5175\n",
      "Epoch 5 Batch 700 Loss 2.5186 Accuracy 0.5178\n",
      "Epoch 5 Batch 750 Loss 2.5173 Accuracy 0.5180\n",
      "Epoch 5 Batch 800 Loss 2.5167 Accuracy 0.5181\n",
      "Epoch 5 Batch 850 Loss 2.5178 Accuracy 0.5181\n",
      "Epoch 5 Batch 900 Loss 2.5146 Accuracy 0.5185\n",
      "Epoch 5 Batch 950 Loss 2.5145 Accuracy 0.5184\n",
      "Epoch 5 Batch 1000 Loss 2.5141 Accuracy 0.5184\n",
      "Epoch 5 Batch 1050 Loss 2.5120 Accuracy 0.5186\n",
      "Epoch 5 Batch 1100 Loss 2.5112 Accuracy 0.5186\n",
      "Epoch 5 Batch 1150 Loss 2.5108 Accuracy 0.5187\n",
      "Epoch 5 Batch 1200 Loss 2.5119 Accuracy 0.5187\n",
      "Epoch 5 Batch 1250 Loss 2.5109 Accuracy 0.5188\n",
      "Epoch 5 Batch 1300 Loss 2.5096 Accuracy 0.5189\n",
      "Epoch 5 Batch 1350 Loss 2.5089 Accuracy 0.5190\n",
      "Epoch 5 Batch 1400 Loss 2.5082 Accuracy 0.5192\n",
      "Epoch 5 Batch 1450 Loss 2.5072 Accuracy 0.5193\n",
      "Epoch 5 Batch 1500 Loss 2.5065 Accuracy 0.5195\n",
      "Epoch 5 Batch 1550 Loss 2.5061 Accuracy 0.5196\n",
      "Epoch 5 Batch 1600 Loss 2.5052 Accuracy 0.5196\n",
      "Epoch 5 Batch 1650 Loss 2.5044 Accuracy 0.5198\n",
      "Epoch 5 Batch 1700 Loss 2.5044 Accuracy 0.5198\n",
      "Epoch 5 Batch 1750 Loss 2.5039 Accuracy 0.5199\n",
      "Epoch 5 Batch 1800 Loss 2.5038 Accuracy 0.5199\n",
      "Epoch 5 Batch 1850 Loss 2.5028 Accuracy 0.5200\n",
      "Epoch 5 Batch 1900 Loss 2.5015 Accuracy 0.5202\n",
      "Epoch 5 Batch 1950 Loss 2.5012 Accuracy 0.5202\n",
      "Epoch 5 Batch 2000 Loss 2.4999 Accuracy 0.5203\n",
      "Epoch 5 Batch 2050 Loss 2.4996 Accuracy 0.5204\n",
      "Epoch 5 Batch 2100 Loss 2.4979 Accuracy 0.5206\n",
      "Epoch 5 Batch 2150 Loss 2.4970 Accuracy 0.5207\n",
      "Epoch 5 Batch 2200 Loss 2.4959 Accuracy 0.5208\n",
      "Epoch 5 Batch 2250 Loss 2.4954 Accuracy 0.5209\n",
      "Epoch 5 Batch 2300 Loss 2.4953 Accuracy 0.5209\n",
      "Epoch 5 Batch 2350 Loss 2.4952 Accuracy 0.5209\n",
      "Epoch 5 Batch 2400 Loss 2.4946 Accuracy 0.5210\n",
      "Epoch 5 Batch 2450 Loss 2.4943 Accuracy 0.5210\n",
      "Epoch 5 Batch 2500 Loss 2.4940 Accuracy 0.5210\n",
      "Epoch 5 Batch 2550 Loss 2.4937 Accuracy 0.5211\n",
      "Epoch 5 Batch 2600 Loss 2.4932 Accuracy 0.5211\n",
      "Saving checkpoint for epoch 5 at ./checkpoints/train/ckpt-2\n",
      "Epoch 5 Loss 2.4929 Accuracy 0.5212\n",
      "Time taken for 1 epoch: 1675.2816607952118 secs\n",
      "\n"
     ]
    }
   ]
  },
  {
   "cell_type": "markdown",
   "metadata": {
    "id": "QfcsSWswSdGV",
    "pycharm": {
     "name": "#%% md\n"
    }
   },
   "source": [
    "## Evaluate"
   ]
  },
  {
   "cell_type": "markdown",
   "metadata": {
    "id": "y6APsFrgImLW",
    "pycharm": {
     "name": "#%% md\n"
    }
   },
   "source": [
    "Для оценки используются следующие шаги:\n",
    "\n",
    "Закодируйте входное предложение с помощью русского токенизатора ( tokenizer_pt ). Кроме того, добавьте начальный и конечный токены, чтобы ввод был эквивалентен тому, с чем обучается модель. Это вход энкодера.\n",
    "Вход декодера - это start token == tokenizer_en.vocab_size .\n",
    "Рассчитайте маски заполнения и маски прогнозирования.\n",
    "Затем decoder выводит прогнозы, глядя на encoder output и собственные выходные данные (самовнимание).\n",
    "Выберите последнее слово и вычислите его argmax.\n",
    "Конкатентируйте предсказанное слово на вход декодера при передаче его в декодер.\n",
    "В этом подходе декодер предсказывает следующее слово на основе предсказанных им предыдущих слов.\n"
   ]
  },
  {
   "cell_type": "code",
   "metadata": {
    "id": "5buvMlnvyrFm",
    "pycharm": {
     "name": "#%%\n"
    }
   },
   "source": [
    "def evaluate(inp_sentence):\n",
    "  start_token = [tokenizer_pt.vocab_size]\n",
    "  end_token = [tokenizer_pt.vocab_size + 1]\n",
    "  \n",
    "  # inp sentence is portuguese, hence adding the start and end token\n",
    "  inp_sentence = start_token + tokenizer_pt.encode(inp_sentence) + end_token\n",
    "  encoder_input = tf.expand_dims(inp_sentence, 0)\n",
    "  \n",
    "  # as the target is english, the first word to the transformer should be the\n",
    "  # english start token.\n",
    "  decoder_input = [tokenizer_en.vocab_size]\n",
    "  output = tf.expand_dims(decoder_input, 0)\n",
    "    \n",
    "  for i in range(MAX_LENGTH):\n",
    "    enc_padding_mask, combined_mask, dec_padding_mask = create_masks(\n",
    "        encoder_input, output)\n",
    "  \n",
    "    # predictions.shape == (batch_size, seq_len, vocab_size)\n",
    "    predictions, attention_weights = transformer(encoder_input, \n",
    "                                                 output,\n",
    "                                                 False,\n",
    "                                                 enc_padding_mask,\n",
    "                                                 combined_mask,\n",
    "                                                 dec_padding_mask)\n",
    "    \n",
    "    # select the last word from the seq_len dimension\n",
    "    predictions = predictions[: ,-1:, :]  # (batch_size, 1, vocab_size)\n",
    "\n",
    "    predicted_id = tf.cast(tf.argmax(predictions, axis=-1), tf.int32)\n",
    "    \n",
    "    # return the result if the predicted_id is equal to the end token\n",
    "    if predicted_id == tokenizer_en.vocab_size+1:\n",
    "      return tf.squeeze(output, axis=0), attention_weights\n",
    "    \n",
    "    # concatentate the predicted_id to the output which is given to the decoder\n",
    "    # as its input.\n",
    "    output = tf.concat([output, predicted_id], axis=-1)\n",
    "\n",
    "  return tf.squeeze(output, axis=0), attention_weights"
   ],
   "execution_count": 173,
   "outputs": []
  },
  {
   "cell_type": "code",
   "metadata": {
    "id": "CN-BV43FMBej",
    "pycharm": {
     "name": "#%%\n"
    }
   },
   "source": [
    "def plot_attention_weights(attention, sentence, result, layer):\n",
    "  fig = plt.figure(figsize=(16, 8))\n",
    "  \n",
    "  sentence = tokenizer_pt.encode(sentence)\n",
    "  \n",
    "  attention = tf.squeeze(attention[layer], axis=0)\n",
    "  \n",
    "  for head in range(attention.shape[0]):\n",
    "    ax = fig.add_subplot(2, 4, head+1)\n",
    "    \n",
    "    # plot the attention weights\n",
    "    ax.matshow(attention[head][:-1, :], cmap='viridis')\n",
    "\n",
    "    fontdict = {'fontsize': 10}\n",
    "    \n",
    "    ax.set_xticks(range(len(sentence)+2))\n",
    "    ax.set_yticks(range(len(result)))\n",
    "    \n",
    "    ax.set_ylim(len(result)-1.5, -0.5)\n",
    "        \n",
    "    ax.set_xticklabels(\n",
    "        ['<start>']+[tokenizer_pt.decode([i]) for i in sentence]+['<end>'], \n",
    "        fontdict=fontdict, rotation=90)\n",
    "    \n",
    "    ax.set_yticklabels([tokenizer_en.decode([i]) for i in result \n",
    "                        if i < tokenizer_en.vocab_size], \n",
    "                       fontdict=fontdict)\n",
    "    \n",
    "    ax.set_xlabel('Head {}'.format(head+1))\n",
    "  \n",
    "  plt.tight_layout()\n",
    "  plt.show()"
   ],
   "execution_count": 174,
   "outputs": []
  },
  {
   "cell_type": "code",
   "metadata": {
    "id": "lU2_yG_vBGza",
    "pycharm": {
     "name": "#%%\n"
    }
   },
   "source": [
    "def translate(sentence, plot=''):\n",
    "  result, attention_weights = evaluate(sentence)\n",
    "  \n",
    "  predicted_sentence = tokenizer_en.decode([i for i in result \n",
    "                                            if i < tokenizer_en.vocab_size])  \n",
    "\n",
    "  print('Input: {}'.format(sentence))\n",
    "  print('Predicted translation: {}'.format(predicted_sentence))\n",
    "  \n",
    "  if plot:\n",
    "    plot_attention_weights(attention_weights, sentence, result, plot)"
   ],
   "execution_count": 175,
   "outputs": []
  },
  {
   "cell_type": "code",
   "metadata": {
    "colab": {
     "base_uri": "https://localhost:8080/"
    },
    "id": "BpsHP-x3Lnq5",
    "outputId": "07c0ee80-7cc5-4bed-98c3-949be134c9c7",
    "pycharm": {
     "name": "#%%\n"
    }
   },
   "source": [
    "translate('Осенним вечером шёл дождь!')"
   ],
   "execution_count": 176,
   "outputs": [
    {
     "name": "stdout",
     "output_type": "stream",
     "text": [
      "Input: Осенним вечером шёл дождь!\n",
      "Predicted translation: the buzzy night was going to rain .\n"
     ]
    }
   ]
  },
  {
   "cell_type": "code",
   "metadata": {
    "colab": {
     "base_uri": "https://localhost:8080/"
    },
    "id": "gmLTN9cgL3ed",
    "outputId": "9a540e15-b89b-4dc4-a334-c71e1311e60d",
    "pycharm": {
     "name": "#%%\n"
    }
   },
   "source": [
    "translate('он собирается домой')"
   ],
   "execution_count": 177,
   "outputs": [
    {
     "name": "stdout",
     "output_type": "stream",
     "text": [
      "Input: он собирается домой\n",
      "Predicted translation: he goes home .\n"
     ]
    }
   ]
  },
  {
   "cell_type": "code",
   "metadata": {
    "id": "QHzndZ1xNHKn",
    "pycharm": {
     "name": "#%%\n"
    }
   },
   "source": [],
   "execution_count": null,
   "outputs": []
  }
 ]
}