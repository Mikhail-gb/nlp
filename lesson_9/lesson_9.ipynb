{
 "nbformat": 4,
 "nbformat_minor": 0,
 "metadata": {
  "accelerator": "GPU",
  "colab": {
   "provenance": [],
   "include_colab_link": true
  },
  "kernelspec": {
   "display_name": "Python 3",
   "name": "python3"
  }
 },
 "cells": [
  {
   "cell_type": "code",
   "metadata": {
    "id": "yG_n40gFzf9s",
    "pycharm": {
     "name": "#%%\n"
    }
   },
   "source": [
    "import tensorflow as tf\n",
    "\n",
    "import numpy as np\n",
    "import os\n",
    "import time"
   ],
   "execution_count": 1,
   "outputs": [
    {
     "name": "stderr",
     "output_type": "stream",
     "text": [
      "2023-05-04 16:47:08.457254: I tensorflow/core/platform/cpu_feature_guard.cc:193] This TensorFlow binary is optimized with oneAPI Deep Neural Network Library (oneDNN) to use the following CPU instructions in performance-critical operations:  AVX2 FMA\n",
      "To enable them in other operations, rebuild TensorFlow with the appropriate compiler flags.\n",
      "2023-05-04 16:47:08.837925: W tensorflow/compiler/xla/stream_executor/platform/default/dso_loader.cc:64] Could not load dynamic library 'libcudart.so.11.0'; dlerror: libcudart.so.11.0: cannot open shared object file: No such file or directory\n",
      "2023-05-04 16:47:08.837950: I tensorflow/compiler/xla/stream_executor/cuda/cudart_stub.cc:29] Ignore above cudart dlerror if you do not have a GPU set up on your machine.\n",
      "2023-05-04 16:47:10.234649: W tensorflow/compiler/xla/stream_executor/platform/default/dso_loader.cc:64] Could not load dynamic library 'libnvinfer.so.7'; dlerror: libnvinfer.so.7: cannot open shared object file: No such file or directory\n",
      "2023-05-04 16:47:10.234841: W tensorflow/compiler/xla/stream_executor/platform/default/dso_loader.cc:64] Could not load dynamic library 'libnvinfer_plugin.so.7'; dlerror: libnvinfer_plugin.so.7: cannot open shared object file: No such file or directory\n",
      "2023-05-04 16:47:10.234851: W tensorflow/compiler/tf2tensorrt/utils/py_utils.cc:38] TF-TRT Warning: Cannot dlopen some TensorRT libraries. If you would like to use Nvidia GPU with TensorRT, please make sure the missing libraries mentioned above are installed properly.\n"
     ]
    }
   ]
  },
  {
   "cell_type": "code",
   "metadata": {
    "id": "-an5tHuaRmqD",
    "pycharm": {
     "name": "#%%\n"
    }
   },
   "source": [
    "path_to_file = 'evgenyi_onegin.txt'"
   ],
   "execution_count": 2,
   "outputs": []
  },
  {
   "cell_type": "code",
   "metadata": {
    "colab": {
     "base_uri": "https://localhost:8080/"
    },
    "id": "aavnuByVymwK",
    "outputId": "291ec6fb-9c35-466d-a0cc-8bcbb9821fb7",
    "pycharm": {
     "name": "#%%\n"
    }
   },
   "source": [
    "text = open(path_to_file, 'rb').read().decode(encoding='utf-8')\n",
    "# length of text is the number of characters in it\n",
    "print('Length of text: {} characters'.format(len(text)))"
   ],
   "execution_count": 3,
   "outputs": [
    {
     "name": "stdout",
     "output_type": "stream",
     "text": [
      "Length of text: 286984 characters\n"
     ]
    }
   ]
  },
  {
   "cell_type": "code",
   "metadata": {
    "colab": {
     "base_uri": "https://localhost:8080/"
    },
    "id": "Duhg9NrUymwO",
    "outputId": "8deaa4cb-7ffe-410e-d0ed-254c5325c52d",
    "pycharm": {
     "name": "#%%\n"
    }
   },
   "source": [
    "print(text[2000:2500])"
   ],
   "execution_count": 4,
   "outputs": [
    {
     "name": "stdout",
     "output_type": "stream",
     "text": [
      "          Так думал молодой повеса,\n",
      "                        Летя в пыли на почтовых,\n",
      "                        Всевышней волею Зевеса\n",
      "                        Наследник всех своих родных.\n",
      "                        Друзья Людмилы и Руслана!\n",
      "                        С героем моего романа\n",
      "                        Без предисловий, сей же час\n",
      "                        Позвольте познакомить вас:\n",
      "                        Онегин, добрый мой приятель,\n",
      "                        Родился на брегах Невы,\n",
      "               \n"
     ]
    }
   ]
  },
  {
   "cell_type": "code",
   "metadata": {
    "id": "jtNGSzKn1o-6",
    "pycharm": {
     "name": "#%%\n"
    }
   },
   "source": [
    "text = text + text"
   ],
   "execution_count": 5,
   "outputs": []
  },
  {
   "cell_type": "code",
   "metadata": {
    "colab": {
     "base_uri": "https://localhost:8080/"
    },
    "id": "IlCgQBRVymwR",
    "outputId": "600c7e9b-6f4b-49cf-bd58-e82fb64740f3",
    "pycharm": {
     "name": "#%%\n"
    }
   },
   "source": [
    "# The unique characters in the file\n",
    "vocab = sorted(set(text))\n",
    "print('{} unique characters'.format(len(vocab)))"
   ],
   "execution_count": 6,
   "outputs": [
    {
     "name": "stdout",
     "output_type": "stream",
     "text": [
      "131 unique characters\n"
     ]
    }
   ]
  },
  {
   "cell_type": "code",
   "metadata": {
    "id": "IalZLbvOzf-F",
    "pycharm": {
     "name": "#%%\n"
    }
   },
   "source": [
    "# Creating a mapping from unique characters to indices\n",
    "char2idx = {u:i for i, u in enumerate(vocab)}\n",
    "idx2char = np.array(vocab)\n",
    "\n",
    "text_as_int = np.array([char2idx[c] for c in text])"
   ],
   "execution_count": 7,
   "outputs": []
  },
  {
   "cell_type": "code",
   "metadata": {
    "colab": {
     "base_uri": "https://localhost:8080/"
    },
    "id": "p-DhY8bbTY3g",
    "outputId": "6cbc0454-9823-4af3-fe56-888f5dd51852",
    "pycharm": {
     "name": "#%%\n"
    }
   },
   "source": [
    "text_as_int, text[:500], len(text_as_int), len(text)"
   ],
   "execution_count": 8,
   "outputs": [
    {
     "data": {
      "text/plain": "(array([ 71, 110, 104, ..., 104, 121,   0]),\n 'Александр Сергеевич Пушкин\\n\\n                                Евгений Онегин\\n                                Роман в стихах\\n\\n                        Не мысля гордый свет забавить,\\n                        Вниманье дружбы возлюбя,\\n                        Хотел бы я тебе представить\\n                        Залог достойнее тебя,\\n                        Достойнее души прекрасной,\\n                        Святой исполненной мечты,\\n                        Поэзии живой и ясной,\\n                        Высо',\n 573968,\n 573968)"
     },
     "execution_count": 8,
     "metadata": {},
     "output_type": "execute_result"
    }
   ]
  },
  {
   "cell_type": "markdown",
   "metadata": {
    "id": "hgsVvVxnymwf",
    "pycharm": {
     "name": "#%% md\n"
    }
   },
   "source": [
    "### train and target"
   ]
  },
  {
   "cell_type": "code",
   "metadata": {
    "colab": {
     "base_uri": "https://localhost:8080/"
    },
    "id": "0UHJDA39zf-O",
    "outputId": "c1b9d04f-69f0-40ec-af0f-c2da5ed21b58",
    "pycharm": {
     "name": "#%%\n"
    }
   },
   "source": [
    "# The maximum length sentence you want for a single input in characters\n",
    "seq_length = 100\n",
    "examples_per_epoch = len(text)//(seq_length+1)\n",
    "\n",
    "# Create training examples / targets\n",
    "char_dataset = tf.data.Dataset.from_tensor_slices(text_as_int)\n",
    "\n",
    "for i in char_dataset.take(5):\n",
    "    print(idx2char[i.numpy()])"
   ],
   "execution_count": 9,
   "outputs": [
    {
     "name": "stdout",
     "output_type": "stream",
     "text": [
      "А\n",
      "л\n",
      "е\n",
      "к\n",
      "с\n"
     ]
    },
    {
     "name": "stderr",
     "output_type": "stream",
     "text": [
      "2023-05-04 16:47:23.836718: W tensorflow/compiler/xla/stream_executor/platform/default/dso_loader.cc:64] Could not load dynamic library 'libcuda.so.1'; dlerror: libcuda.so.1: cannot open shared object file: No such file or directory\n",
      "2023-05-04 16:47:23.837016: W tensorflow/compiler/xla/stream_executor/cuda/cuda_driver.cc:265] failed call to cuInit: UNKNOWN ERROR (303)\n",
      "2023-05-04 16:47:23.837057: I tensorflow/compiler/xla/stream_executor/cuda/cuda_diagnostics.cc:156] kernel driver does not appear to be running on this host (mvkomarov-h): /proc/driver/nvidia/version does not exist\n",
      "2023-05-04 16:47:23.866489: I tensorflow/core/platform/cpu_feature_guard.cc:193] This TensorFlow binary is optimized with oneAPI Deep Neural Network Library (oneDNN) to use the following CPU instructions in performance-critical operations:  AVX2 FMA\n",
      "To enable them in other operations, rebuild TensorFlow with the appropriate compiler flags.\n"
     ]
    }
   ]
  },
  {
   "cell_type": "code",
   "metadata": {
    "colab": {
     "base_uri": "https://localhost:8080/"
    },
    "id": "l4hkDU3i7ozi",
    "outputId": "d325f984-7359-454e-a6ad-eea20b594ba0",
    "pycharm": {
     "name": "#%%\n"
    }
   },
   "source": [
    "sequences = char_dataset.batch(seq_length+1, drop_remainder=True)\n",
    "\n",
    "for item in sequences.take(5):\n",
    "    print(repr(''.join(idx2char[item.numpy()])))"
   ],
   "execution_count": 10,
   "outputs": [
    {
     "name": "stdout",
     "output_type": "stream",
     "text": [
      "'Александр Сергеевич Пушкин\\n\\n                                Евгений Онегин\\n                          '\n",
      "'      Роман в стихах\\n\\n                        Не мысля гордый свет забавить,\\n                        '\n",
      "'Вниманье дружбы возлюбя,\\n                        Хотел бы я тебе представить\\n                        '\n",
      "'Залог достойнее тебя,\\n                        Достойнее души прекрасной,\\n                        Свят'\n",
      "'ой исполненной мечты,\\n                        Поэзии живой и ясной,\\n                        Высоких д'\n"
     ]
    }
   ]
  },
  {
   "cell_type": "code",
   "metadata": {
    "id": "9NGu-FkO_kYU",
    "pycharm": {
     "name": "#%%\n"
    }
   },
   "source": [
    "def split_input_target(chunk):\n",
    "    input_text = chunk[:-1]\n",
    "    target_text = chunk[1:]\n",
    "    return input_text, target_text\n",
    "\n",
    "dataset = sequences.map(split_input_target)"
   ],
   "execution_count": 11,
   "outputs": []
  },
  {
   "cell_type": "markdown",
   "metadata": {
    "id": "hiCopyGZymwi",
    "pycharm": {
     "name": "#%% md\n"
    }
   },
   "source": [
    "Print the first example input and target values:"
   ]
  },
  {
   "cell_type": "code",
   "metadata": {
    "colab": {
     "base_uri": "https://localhost:8080/"
    },
    "id": "GNbw-iR0ymwj",
    "outputId": "b0af9042-1e46-4dd9-8667-b41619cf5b79",
    "pycharm": {
     "name": "#%%\n"
    }
   },
   "source": [
    "for input_example, target_example in  dataset.take(2):\n",
    "    print('Input data: ', repr(''.join(idx2char[input_example.numpy()])))\n",
    "    print('Target data:', repr(''.join(idx2char[target_example.numpy()])))"
   ],
   "execution_count": 12,
   "outputs": [
    {
     "name": "stdout",
     "output_type": "stream",
     "text": [
      "Input data:  'Александр Сергеевич Пушкин\\n\\n                                Евгений Онегин\\n                         '\n",
      "Target data: 'лександр Сергеевич Пушкин\\n\\n                                Евгений Онегин\\n                          '\n",
      "Input data:  '      Роман в стихах\\n\\n                        Не мысля гордый свет забавить,\\n                       '\n",
      "Target data: '     Роман в стихах\\n\\n                        Не мысля гордый свет забавить,\\n                        '\n"
     ]
    }
   ]
  },
  {
   "cell_type": "code",
   "metadata": {
    "colab": {
     "base_uri": "https://localhost:8080/"
    },
    "id": "p2pGotuNzf-S",
    "outputId": "e5d4d076-1c10-4ea4-a295-82543f9c61b7",
    "pycharm": {
     "name": "#%%\n"
    }
   },
   "source": [
    "# Batch size\n",
    "BATCH_SIZE = 64\n",
    "\n",
    "# Buffer size to shuffle the dataset\n",
    "# (TF data is designed to work with possibly infinite sequences,\n",
    "# so it doesn't attempt to shuffle the entire sequence in memory. Instead,\n",
    "# it maintains a buffer in which it shuffles elements).\n",
    "BUFFER_SIZE = 10000\n",
    "\n",
    "dataset = dataset.shuffle(BUFFER_SIZE).batch(BATCH_SIZE, drop_remainder=True)\n",
    "\n",
    "dataset"
   ],
   "execution_count": 13,
   "outputs": [
    {
     "data": {
      "text/plain": "<BatchDataset element_spec=(TensorSpec(shape=(64, 100), dtype=tf.int64, name=None), TensorSpec(shape=(64, 100), dtype=tf.int64, name=None))>"
     },
     "execution_count": 13,
     "metadata": {},
     "output_type": "execute_result"
    }
   ]
  },
  {
   "cell_type": "code",
   "metadata": {
    "id": "zHT8cLh7EAsg",
    "pycharm": {
     "name": "#%%\n"
    }
   },
   "source": [
    "# Length of the vocabulary in chars\n",
    "vocab_size = len(vocab)\n",
    "\n",
    "# The embedding dimension\n",
    "embedding_dim = 256\n",
    "\n",
    "# Number of RNN units\n",
    "rnn_units = 1024"
   ],
   "execution_count": 14,
   "outputs": []
  },
  {
   "cell_type": "code",
   "metadata": {
    "id": "ZUzZLkyC1UpP",
    "pycharm": {
     "name": "#%%\n"
    }
   },
   "source": [
    "# model = tf.keras.Sequential(\n",
    "#     [\n",
    "#         tf.keras.layers.Embedding(vocab_size, embedding_dim),\n",
    "#         tf.keras.layers.LSTM(rnn_units, return_sequences=True),\n",
    "#         tf.keras.layers.Dense(vocab_size)\n",
    "#     ]\n",
    "# )"
   ],
   "execution_count": 15,
   "outputs": []
  },
  {
   "cell_type": "code",
   "metadata": {
    "id": "tm1u0iNSaLOi",
    "pycharm": {
     "name": "#%%\n"
    }
   },
   "source": [
    "# class RNNgenerator(tf.keras.Model):\n",
    "#     def __init__(self, vocab_size, embedding_dim, batch_size):\n",
    "#         super(RNNgenerator, self).__init__()\n",
    "        \n",
    "#         self.emb = tf.keras.layers.Embedding(vocab_size, embedding_dim)\n",
    "                                 \n",
    "#         self.gru1 = tf.keras.layers.GRU(rnn_units,\n",
    "#                             return_sequences=True,\n",
    "#                             recurrent_initializer='glorot_uniform')\n",
    "#         self.gru2 = tf.keras.layers.GRU(rnn_units,\n",
    "#                             return_sequences=True,\n",
    "#                             recurrent_initializer='glorot_uniform')\n",
    "                           \n",
    "#         self.fc = tf.keras.layers.Dense(vocab_size)\n",
    "\n",
    "#     def call(self, x):\n",
    "#         emb_x = self.emb(x)\n",
    "#         x1 = self.gru1(emb_x)\n",
    "#         x = x1\n",
    "#         for _ in range(3):\n",
    "#             x = self.gru2(x)\n",
    "#         #x = self.gru1(x)\n",
    "#         x = (x + x1)/2\n",
    "#         return self.fc(x)\n",
    "\n",
    "# model = RNNgenerator(vocab_size, embedding_dim, BATCH_SIZE)"
   ],
   "execution_count": 16,
   "outputs": []
  },
  {
   "cell_type": "code",
   "metadata": {
    "id": "MtCrdfzEI2N0",
    "pycharm": {
     "name": "#%%\n"
    }
   },
   "source": [
    "# def build_model(vocab_size, embedding_dim, rnn_units, batch_size):\n",
    "#     model = tf.keras.Sequential([\n",
    "#         tf.keras.layers.Embedding(vocab_size, embedding_dim,\n",
    "#                                   batch_input_shape=[batch_size, None]),\n",
    "                                 \n",
    "#         tf.keras.layers.LSTM(rnn_units,\n",
    "#                             return_sequences=True,\n",
    "#                             stateful=True,\n",
    "#                             recurrent_initializer='glorot_uniform'),\n",
    "\n",
    "#         tf.keras.layers.LSTM(rnn_units,\n",
    "#                             return_sequences=True,\n",
    "#                             stateful=True,\n",
    "#                             recurrent_initializer='glorot_uniform'),\n",
    "\n",
    "#          tf.keras.layers.LSTM(rnn_units,\n",
    "#                             return_sequences=True,\n",
    "#                             stateful=True,\n",
    "#                             recurrent_initializer='glorot_uniform'),\n",
    "        \n",
    "#         tf.keras.layers.LSTM(rnn_units,\n",
    "#                             return_sequences=True,\n",
    "#                             stateful=True,\n",
    "#                             recurrent_initializer='glorot_uniform'),\n",
    "                                   \n",
    "#         tf.keras.layers.Dense(vocab_size)\n",
    "#     ])\n",
    "#     return model"
   ],
   "execution_count": 17,
   "outputs": []
  },
  {
   "cell_type": "code",
   "metadata": {
    "id": "FNfDlxWZ8NXK",
    "pycharm": {
     "name": "#%%\n"
    }
   },
   "source": [
    "def build_model(vocab_size, embedding_dim, rnn_units, batch_size):\n",
    "    model = tf.keras.Sequential([\n",
    "        tf.keras.layers.Embedding(vocab_size, embedding_dim),\n",
    "                                 \n",
    "        tf.keras.layers.GRU(rnn_units,\n",
    "                            return_sequences=True,\n",
    "                            stateful=False,\n",
    "                            recurrent_initializer='glorot_uniform'),\n",
    "\n",
    "        tf.keras.layers.GRU(rnn_units,\n",
    "                            return_sequences=True,\n",
    "                            stateful=False,\n",
    "                            recurrent_initializer='glorot_uniform'),\n",
    "\n",
    "         tf.keras.layers.GRU(rnn_units,\n",
    "                            return_sequences=True,\n",
    "                            stateful=False,\n",
    "                            recurrent_initializer='glorot_uniform'),\n",
    "                                   \n",
    "        tf.keras.layers.Dense(vocab_size)\n",
    "    ])\n",
    "    return model"
   ],
   "execution_count": 18,
   "outputs": []
  },
  {
   "cell_type": "code",
   "metadata": {
    "id": "wwsrpOik5zhv",
    "pycharm": {
     "name": "#%%\n"
    }
   },
   "source": [
    "model = build_model(\n",
    "    vocab_size=len(vocab),\n",
    "    embedding_dim=embedding_dim,\n",
    "    rnn_units=rnn_units,\n",
    "    batch_size=BATCH_SIZE)"
   ],
   "execution_count": 19,
   "outputs": []
  },
  {
   "cell_type": "code",
   "metadata": {
    "colab": {
     "base_uri": "https://localhost:8080/"
    },
    "id": "C-_70kKAPrPU",
    "outputId": "5571971f-8eb3-45f6-f748-0933f6ff0776",
    "pycharm": {
     "name": "#%%\n"
    }
   },
   "source": [
    "for input_example_batch, target_example_batch in dataset.take(1):\n",
    "    example_batch_predictions = model(input_example_batch)\n",
    "    print(example_batch_predictions.shape, \"# (batch_size, sequence_length, vocab_size)\")"
   ],
   "execution_count": 20,
   "outputs": [
    {
     "name": "stdout",
     "output_type": "stream",
     "text": [
      "(64, 100, 131) # (batch_size, sequence_length, vocab_size)\n"
     ]
    }
   ]
  },
  {
   "cell_type": "code",
   "metadata": {
    "colab": {
     "base_uri": "https://localhost:8080/"
    },
    "id": "vPGmAAXmVLGC",
    "outputId": "57587aea-f817-443f-88a1-a8de96b3cb8f",
    "pycharm": {
     "name": "#%%\n"
    }
   },
   "source": [
    "model.summary()"
   ],
   "execution_count": 21,
   "outputs": [
    {
     "name": "stdout",
     "output_type": "stream",
     "text": [
      "Model: \"sequential\"\n",
      "_________________________________________________________________\n",
      " Layer (type)                Output Shape              Param #   \n",
      "=================================================================\n",
      " embedding (Embedding)       (None, None, 256)         33536     \n",
      "                                                                 \n",
      " gru (GRU)                   (None, None, 1024)        3938304   \n",
      "                                                                 \n",
      " gru_1 (GRU)                 (None, None, 1024)        6297600   \n",
      "                                                                 \n",
      " gru_2 (GRU)                 (None, None, 1024)        6297600   \n",
      "                                                                 \n",
      " dense (Dense)               (None, None, 131)         134275    \n",
      "                                                                 \n",
      "=================================================================\n",
      "Total params: 16,701,315\n",
      "Trainable params: 16,701,315\n",
      "Non-trainable params: 0\n",
      "_________________________________________________________________\n"
     ]
    }
   ]
  },
  {
   "cell_type": "markdown",
   "metadata": {
    "id": "LJL0Q0YPY6Ee",
    "pycharm": {
     "name": "#%% md\n"
    }
   },
   "source": [
    "## Train the model"
   ]
  },
  {
   "cell_type": "code",
   "metadata": {
    "colab": {
     "base_uri": "https://localhost:8080/"
    },
    "id": "4HrXTACTdzY-",
    "outputId": "b2712001-6cc1-4f1d-f4cc-58d9e90e1413",
    "pycharm": {
     "name": "#%%\n"
    }
   },
   "source": [
    "def loss(labels, logits):\n",
    "    return tf.keras.losses.sparse_categorical_crossentropy(labels, logits, from_logits=True)\n",
    "\n",
    "example_batch_loss = loss(target_example_batch, example_batch_predictions)\n",
    "print(\"Prediction shape: \", example_batch_predictions.shape, \" # (batch_size, sequence_length, vocab_size)\")\n",
    "print(\"scalar_loss:      \", example_batch_loss.numpy().mean())"
   ],
   "execution_count": 22,
   "outputs": [
    {
     "name": "stdout",
     "output_type": "stream",
     "text": [
      "Prediction shape:  (64, 100, 131)  # (batch_size, sequence_length, vocab_size)\n",
      "scalar_loss:       4.881549\n"
     ]
    }
   ]
  },
  {
   "cell_type": "code",
   "metadata": {
    "id": "DDl1_Een6rL0",
    "pycharm": {
     "name": "#%%\n"
    }
   },
   "source": [
    "model.compile(optimizer='adam', loss=loss, run_eagerly=True)"
   ],
   "execution_count": 23,
   "outputs": []
  },
  {
   "cell_type": "markdown",
   "metadata": {
    "id": "ieSJdchZggUj",
    "pycharm": {
     "name": "#%% md\n"
    }
   },
   "source": [
    "### Configure checkpoints"
   ]
  },
  {
   "cell_type": "code",
   "metadata": {
    "id": "tINIEZEzLH1C",
    "pycharm": {
     "name": "#%%\n"
    }
   },
   "source": [
    "!rm -rf ./training_checkpoints"
   ],
   "execution_count": 24,
   "outputs": []
  },
  {
   "cell_type": "code",
   "metadata": {
    "colab": {
     "base_uri": "https://localhost:8080/"
    },
    "id": "q71A8AWiOMa7",
    "outputId": "e3b0c31a-6fc4-4490-ec37-828f87572382",
    "pycharm": {
     "name": "#%%\n"
    }
   },
   "source": [
    "!ls ./training_checkpoints"
   ],
   "execution_count": 25,
   "outputs": [
    {
     "name": "stdout",
     "output_type": "stream",
     "text": [
      "ls: cannot access './training_checkpoints': No such file or directory\r\n"
     ]
    }
   ]
  },
  {
   "cell_type": "code",
   "metadata": {
    "id": "W6fWTriUZP-n",
    "pycharm": {
     "name": "#%%\n"
    }
   },
   "source": [
    "# Directory where the checkpoints will be saved\n",
    "checkpoint_dir = './training_checkpoints'\n",
    "# Name of the checkpoint files\n",
    "checkpoint_prefix = os.path.join(checkpoint_dir, \"ckpt_{epoch}\")\n",
    "\n",
    "checkpoint_callback = tf.keras.callbacks.ModelCheckpoint(\n",
    "    filepath=checkpoint_prefix,\n",
    "    save_freq=88*3,\n",
    "    save_weights_only=True)"
   ],
   "execution_count": 26,
   "outputs": []
  },
  {
   "cell_type": "markdown",
   "metadata": {
    "id": "3Ky3F_BhgkTW",
    "pycharm": {
     "name": "#%% md\n"
    }
   },
   "source": [
    "### Execute the training"
   ]
  },
  {
   "cell_type": "code",
   "metadata": {
    "id": "7yGBE2zxMMHs",
    "pycharm": {
     "name": "#%%\n"
    }
   },
   "source": [
    "EPOCHS = 15"
   ],
   "execution_count": 27,
   "outputs": []
  },
  {
   "cell_type": "code",
   "metadata": {
    "colab": {
     "base_uri": "https://localhost:8080/"
    },
    "id": "UK-hmKjYVoll",
    "outputId": "2645e741-6ec7-4381-ac0e-6d29d14e0ecb",
    "pycharm": {
     "name": "#%%\n"
    }
   },
   "source": [
    "history = model.fit(dataset, epochs=EPOCHS, callbacks=[checkpoint_callback])"
   ],
   "execution_count": 28,
   "outputs": [
    {
     "name": "stdout",
     "output_type": "stream",
     "text": [
      "Epoch 1/15\n",
      "88/88 [==============================] - 899s 10s/step - loss: 1.9128\n",
      "Epoch 2/15\n",
      "88/88 [==============================] - 896s 10s/step - loss: 1.3880\n",
      "Epoch 3/15\n",
      "88/88 [==============================] - 897s 10s/step - loss: 1.2622\n",
      "Epoch 4/15\n",
      "88/88 [==============================] - 896s 10s/step - loss: 1.1544\n",
      "Epoch 5/15\n",
      "88/88 [==============================] - 897s 10s/step - loss: 1.0869\n",
      "Epoch 6/15\n",
      "88/88 [==============================] - 897s 10s/step - loss: 0.9667\n",
      "Epoch 7/15\n",
      "88/88 [==============================] - 896s 10s/step - loss: 0.8650\n",
      "Epoch 8/15\n",
      "88/88 [==============================] - 896s 10s/step - loss: 0.7842\n",
      "Epoch 9/15\n",
      "88/88 [==============================] - 896s 10s/step - loss: 0.6606\n",
      "Epoch 10/15\n",
      "88/88 [==============================] - 898s 10s/step - loss: 0.5622\n",
      "Epoch 11/15\n",
      "88/88 [==============================] - 897s 10s/step - loss: 0.4678\n",
      "Epoch 12/15\n",
      "88/88 [==============================] - 896s 10s/step - loss: 0.3747\n",
      "Epoch 13/15\n",
      "88/88 [==============================] - 896s 10s/step - loss: 0.3284\n",
      "Epoch 14/15\n",
      "88/88 [==============================] - 896s 10s/step - loss: 0.2785\n",
      "Epoch 15/15\n",
      "88/88 [==============================] - 906s 10s/step - loss: 0.2532\n"
     ]
    }
   ]
  },
  {
   "cell_type": "markdown",
   "metadata": {
    "id": "kKkD5M6eoSiN",
    "pycharm": {
     "name": "#%% md\n"
    }
   },
   "source": [
    "## Generate text"
   ]
  },
  {
   "cell_type": "code",
   "metadata": {
    "colab": {
     "base_uri": "https://localhost:8080/",
     "height": 36
    },
    "id": "zk2WJ2-XjkGz",
    "outputId": "c88371a7-bcb1-461b-b1df-f52e17dbab37",
    "pycharm": {
     "name": "#%%\n"
    }
   },
   "source": [
    "tf.train.latest_checkpoint(checkpoint_dir)"
   ],
   "execution_count": 29,
   "outputs": [
    {
     "data": {
      "text/plain": "'./training_checkpoints/ckpt_15'"
     },
     "execution_count": 29,
     "metadata": {},
     "output_type": "execute_result"
    }
   ]
  },
  {
   "cell_type": "code",
   "metadata": {
    "id": "LycQ-ot_jjyu",
    "colab": {
     "base_uri": "https://localhost:8080/"
    },
    "outputId": "ddccb1a4-1312-44cc-fda9-1fda259f5e9c",
    "pycharm": {
     "name": "#%%\n"
    }
   },
   "source": [
    "model = build_model(vocab_size, embedding_dim, rnn_units, batch_size=1)\n",
    "model.load_weights(tf.train.latest_checkpoint(checkpoint_dir))\n",
    "model.build(tf.TensorShape([1, None]))"
   ],
   "execution_count": 30,
   "outputs": []
  },
  {
   "cell_type": "code",
   "metadata": {
    "colab": {
     "base_uri": "https://localhost:8080/"
    },
    "id": "71xa6jnYVrAN",
    "outputId": "a449c90b-f1ce-4437-9ee4-97821c6999f8",
    "pycharm": {
     "name": "#%%\n"
    }
   },
   "source": [
    "model.summary()"
   ],
   "execution_count": 31,
   "outputs": [
    {
     "name": "stdout",
     "output_type": "stream",
     "text": [
      "Model: \"sequential_1\"\n",
      "_________________________________________________________________\n",
      " Layer (type)                Output Shape              Param #   \n",
      "=================================================================\n",
      " embedding_1 (Embedding)     (None, None, 256)         33536     \n",
      "                                                                 \n",
      " gru_3 (GRU)                 (None, None, 1024)        3938304   \n",
      "                                                                 \n",
      " gru_4 (GRU)                 (None, None, 1024)        6297600   \n",
      "                                                                 \n",
      " gru_5 (GRU)                 (None, None, 1024)        6297600   \n",
      "                                                                 \n",
      " dense_1 (Dense)             (None, None, 131)         134275    \n",
      "                                                                 \n",
      "=================================================================\n",
      "Total params: 16,701,315\n",
      "Trainable params: 16,701,315\n",
      "Non-trainable params: 0\n",
      "_________________________________________________________________\n"
     ]
    }
   ]
  },
  {
   "cell_type": "code",
   "metadata": {
    "id": "WvuwZBX5Ogfd",
    "pycharm": {
     "name": "#%%\n"
    }
   },
   "source": [
    "def generate_text(model, start_string):\n",
    "    # Evaluation step (generating text using the learned model)\n",
    "\n",
    "    # Number of characters to generate\n",
    "    num_generate = 500\n",
    "\n",
    "    # Converting our start string to numbers (vectorizing)\n",
    "    input_eval = [char2idx[s] for s in start_string]\n",
    "    input_eval = tf.expand_dims(input_eval, 0)\n",
    "\n",
    "    # Empty string to store our results\n",
    "    text_generated = []\n",
    "\n",
    "    # Low temperature results in more predictable text.\n",
    "    # Higher temperature results in more surprising text.\n",
    "    # Experiment to find the best setting.\n",
    "    temperature = 1\n",
    "\n",
    "    # Here batch size == 1\n",
    "    model.reset_states()\n",
    "    for i in range(num_generate):\n",
    "        predictions = model(input_eval)\n",
    "        predictions = tf.squeeze(predictions, 0)\n",
    "        # using a categorical distribution to predict the character returned by the model\n",
    "        predictions = predictions / temperature\n",
    "        predicted_id = tf.random.categorical(predictions, num_samples=1)[-1, 0].numpy()\n",
    "\n",
    "        # Pass the predicted character as the next input to the model\n",
    "        # along with the previous hidden state\n",
    "        input_eval = tf.expand_dims([predicted_id], 0)\n",
    "\n",
    "        text_generated.append(idx2char[predicted_id])\n",
    "\n",
    "    return (start_string + ''.join(text_generated))"
   ],
   "execution_count": 32,
   "outputs": []
  },
  {
   "cell_type": "code",
   "metadata": {
    "colab": {
     "base_uri": "https://localhost:8080/"
    },
    "id": "ktovv0RFhrkn",
    "outputId": "06952a14-2086-4d0c-8c05-a814e884e1ab",
    "pycharm": {
     "name": "#%%\n"
    }
   },
   "source": [
    "text_ = generate_text(model, start_string=u\"С героем моего романа\")\n",
    "print(text_)"
   ],
   "execution_count": 33,
   "outputs": [
    {
     "name": "stdout",
     "output_type": "stream",
     "text": [
      "С героем моего романа\n",
      "    Сх Рдлеря         падняей)\n",
      "                    О    черов-    бощечадолоезе       чей.            не в  ноданеднылу;\n",
      "  Онотат      Ихолзить,\n",
      "          Взиша      кананемно,               К,\n",
      "      наля,\n",
      "  мчекарадей    миймнналоре\n",
      "          надццоших    ду зи!     сь          нерVI1ачавемубраливафrcLI1ище,          лик и     Пам      н.  сьмум    ж   Ic}\n",
      "    преказ         ды            XeIh3жебрахо          пем Чь,\n",
      "     Ямевижи р\n",
      "      р\n",
      "      жадитьнеши   Дв празашедрегдвоемупою\n",
      " и,\n",
      " фрыше\n"
     ]
    }
   ]
  },
  {
   "cell_type": "code",
   "metadata": {
    "id": "4wqVniuFpofL",
    "colab": {
     "base_uri": "https://localhost:8080/"
    },
    "outputId": "f549e50f-1ecf-4242-8fa9-42b55416e9d5",
    "pycharm": {
     "name": "#%%\n"
    }
   },
   "source": [
    "len(text_)"
   ],
   "execution_count": 34,
   "outputs": [
    {
     "data": {
      "text/plain": "521"
     },
     "execution_count": 34,
     "metadata": {},
     "output_type": "execute_result"
    }
   ]
  },
  {
   "cell_type": "code",
   "metadata": {
    "id": "hjuhCdppiVqy",
    "pycharm": {
     "name": "#%%\n"
    }
   },
   "source": [],
   "execution_count": 34,
   "outputs": []
  }
 ]
}