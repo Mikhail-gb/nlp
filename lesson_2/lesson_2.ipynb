{
 "cells": [
  {
   "cell_type": "code",
   "execution_count": 32,
   "outputs": [],
   "source": [
    "import pandas as pd\n",
    "import pickle\n",
    "from sklearn.feature_extraction.text import CountVectorizer\n",
    "from sklearn.feature_extraction.text import TfidfVectorizer\n",
    "from sklearn import model_selection, preprocessing, linear_model\n",
    "from sklearn.metrics import accuracy_score\n",
    "\n",
    "import warnings\n",
    "warnings.filterwarnings(\"ignore\")"
   ],
   "metadata": {
    "collapsed": false,
    "pycharm": {
     "name": "#%%\n"
    }
   }
  },
  {
   "cell_type": "code",
   "execution_count": 33,
   "outputs": [],
   "source": [
    "df: pd.DataFrame | None = None\n",
    "with open('../lesson_1/data.pickle', 'rb') as f:\n",
    "    df = pickle.load(f)"
   ],
   "metadata": {
    "collapsed": false,
    "pycharm": {
     "name": "#%%\n"
    }
   }
  },
  {
   "cell_type": "code",
   "execution_count": 34,
   "outputs": [],
   "source": [
    "count_vectorizer = CountVectorizer(\n",
    "    ngram_range=(1, 1), analyzer='word', binary=False, max_df=0.9, max_features=1000, stop_words='english'\n",
    ")\n",
    "tfidf_vectorizer = TfidfVectorizer(\n",
    "    ngram_range=(1, 1), analyzer='word', binary=False, max_df=0.9, max_features=1000, stop_words='english'\n",
    ")"
   ],
   "metadata": {
    "collapsed": false,
    "pycharm": {
     "name": "#%%\n"
    }
   }
  },
  {
   "cell_type": "code",
   "execution_count": 35,
   "outputs": [],
   "source": [
    "df['tweet_stemmed'] = df['tweet_stemmed'].apply(lambda x: ' '.join(x))\n",
    "df['tweet_lemmatized'] = df['tweet_lemmatized'].apply(lambda x: ' '.join(x))"
   ],
   "metadata": {
    "collapsed": false,
    "pycharm": {
     "name": "#%%\n"
    }
   }
  },
  {
   "cell_type": "code",
   "execution_count": 36,
   "outputs": [
    {
     "data": {
      "text/plain": "   abl  absolut  abt  abus  accept  account  act  action  activ  actor  ...  \\\n0    0        0    0     0       0        0    0       0      0      0  ...   \n1    0        0    0     0       0        0    0       0      0      0  ...   \n2    0        0    0     0       0        0    0       0      0      0  ...   \n3    0        0    0     0       0        0    0       0      0      0  ...   \n4    0        0    0     0       0        0    0       0      0      0  ...   \n\n   year  yesterday  yo  yoga  young  youtub  yoyou  yoyour  yr  yummi  \n0     0          0   0     0      0       0      0       0   0      0  \n1     0          0   0     0      0       0      0       0   0      0  \n2     0          0   0     0      0       0      0       0   0      0  \n3     0          0   0     0      0       0      0       0   0      0  \n4     0          0   0     0      0       0      0       0   0      0  \n\n[5 rows x 1000 columns]",
      "text/html": "<div>\n<style scoped>\n    .dataframe tbody tr th:only-of-type {\n        vertical-align: middle;\n    }\n\n    .dataframe tbody tr th {\n        vertical-align: top;\n    }\n\n    .dataframe thead th {\n        text-align: right;\n    }\n</style>\n<table border=\"1\" class=\"dataframe\">\n  <thead>\n    <tr style=\"text-align: right;\">\n      <th></th>\n      <th>abl</th>\n      <th>absolut</th>\n      <th>abt</th>\n      <th>abus</th>\n      <th>accept</th>\n      <th>account</th>\n      <th>act</th>\n      <th>action</th>\n      <th>activ</th>\n      <th>actor</th>\n      <th>...</th>\n      <th>year</th>\n      <th>yesterday</th>\n      <th>yo</th>\n      <th>yoga</th>\n      <th>young</th>\n      <th>youtub</th>\n      <th>yoyou</th>\n      <th>yoyour</th>\n      <th>yr</th>\n      <th>yummi</th>\n    </tr>\n  </thead>\n  <tbody>\n    <tr>\n      <th>0</th>\n      <td>0</td>\n      <td>0</td>\n      <td>0</td>\n      <td>0</td>\n      <td>0</td>\n      <td>0</td>\n      <td>0</td>\n      <td>0</td>\n      <td>0</td>\n      <td>0</td>\n      <td>...</td>\n      <td>0</td>\n      <td>0</td>\n      <td>0</td>\n      <td>0</td>\n      <td>0</td>\n      <td>0</td>\n      <td>0</td>\n      <td>0</td>\n      <td>0</td>\n      <td>0</td>\n    </tr>\n    <tr>\n      <th>1</th>\n      <td>0</td>\n      <td>0</td>\n      <td>0</td>\n      <td>0</td>\n      <td>0</td>\n      <td>0</td>\n      <td>0</td>\n      <td>0</td>\n      <td>0</td>\n      <td>0</td>\n      <td>...</td>\n      <td>0</td>\n      <td>0</td>\n      <td>0</td>\n      <td>0</td>\n      <td>0</td>\n      <td>0</td>\n      <td>0</td>\n      <td>0</td>\n      <td>0</td>\n      <td>0</td>\n    </tr>\n    <tr>\n      <th>2</th>\n      <td>0</td>\n      <td>0</td>\n      <td>0</td>\n      <td>0</td>\n      <td>0</td>\n      <td>0</td>\n      <td>0</td>\n      <td>0</td>\n      <td>0</td>\n      <td>0</td>\n      <td>...</td>\n      <td>0</td>\n      <td>0</td>\n      <td>0</td>\n      <td>0</td>\n      <td>0</td>\n      <td>0</td>\n      <td>0</td>\n      <td>0</td>\n      <td>0</td>\n      <td>0</td>\n    </tr>\n    <tr>\n      <th>3</th>\n      <td>0</td>\n      <td>0</td>\n      <td>0</td>\n      <td>0</td>\n      <td>0</td>\n      <td>0</td>\n      <td>0</td>\n      <td>0</td>\n      <td>0</td>\n      <td>0</td>\n      <td>...</td>\n      <td>0</td>\n      <td>0</td>\n      <td>0</td>\n      <td>0</td>\n      <td>0</td>\n      <td>0</td>\n      <td>0</td>\n      <td>0</td>\n      <td>0</td>\n      <td>0</td>\n    </tr>\n    <tr>\n      <th>4</th>\n      <td>0</td>\n      <td>0</td>\n      <td>0</td>\n      <td>0</td>\n      <td>0</td>\n      <td>0</td>\n      <td>0</td>\n      <td>0</td>\n      <td>0</td>\n      <td>0</td>\n      <td>...</td>\n      <td>0</td>\n      <td>0</td>\n      <td>0</td>\n      <td>0</td>\n      <td>0</td>\n      <td>0</td>\n      <td>0</td>\n      <td>0</td>\n      <td>0</td>\n      <td>0</td>\n    </tr>\n  </tbody>\n</table>\n<p>5 rows × 1000 columns</p>\n</div>"
     },
     "execution_count": 36,
     "metadata": {},
     "output_type": "execute_result"
    }
   ],
   "source": [
    "bag_of_words_stemmed_cv = count_vectorizer.fit_transform(df['tweet_stemmed'])\n",
    "feature_names_stemmed_cv = count_vectorizer.get_feature_names_out()\n",
    "df_stemmed_cv = pd.DataFrame(bag_of_words_stemmed_cv.toarray(), columns = feature_names_stemmed_cv)\n",
    "df_stemmed_cv.head()"
   ],
   "metadata": {
    "collapsed": false,
    "pycharm": {
     "name": "#%%\n"
    }
   }
  },
  {
   "cell_type": "code",
   "execution_count": 37,
   "outputs": [
    {
     "data": {
      "text/plain": "   abl  absolut  abt  abus  accept  account  act  action  activ  actor  ...  \\\n0    0        0    0     0       0        0    0       0      0      0  ...   \n1    0        0    0     0       0        0    0       0      0      0  ...   \n2    0        0    0     0       0        0    0       0      0      0  ...   \n3    0        0    0     0       0        0    0       0      0      0  ...   \n4    0        0    0     0       0        0    0       0      0      0  ...   \n\n   yesterday  yo  yoga  york  young  youtub  yoyou  yoyour  yr  yummi  \n0          0   0     0     0      0       0      0       0   0      0  \n1          0   0     0     0      0       0      0       0   0      0  \n2          0   0     0     0      0       0      0       0   0      0  \n3          0   0     0     0      0       0      0       0   0      0  \n4          0   0     0     0      0       0      0       0   0      0  \n\n[5 rows x 1000 columns]",
      "text/html": "<div>\n<style scoped>\n    .dataframe tbody tr th:only-of-type {\n        vertical-align: middle;\n    }\n\n    .dataframe tbody tr th {\n        vertical-align: top;\n    }\n\n    .dataframe thead th {\n        text-align: right;\n    }\n</style>\n<table border=\"1\" class=\"dataframe\">\n  <thead>\n    <tr style=\"text-align: right;\">\n      <th></th>\n      <th>abl</th>\n      <th>absolut</th>\n      <th>abt</th>\n      <th>abus</th>\n      <th>accept</th>\n      <th>account</th>\n      <th>act</th>\n      <th>action</th>\n      <th>activ</th>\n      <th>actor</th>\n      <th>...</th>\n      <th>yesterday</th>\n      <th>yo</th>\n      <th>yoga</th>\n      <th>york</th>\n      <th>young</th>\n      <th>youtub</th>\n      <th>yoyou</th>\n      <th>yoyour</th>\n      <th>yr</th>\n      <th>yummi</th>\n    </tr>\n  </thead>\n  <tbody>\n    <tr>\n      <th>0</th>\n      <td>0</td>\n      <td>0</td>\n      <td>0</td>\n      <td>0</td>\n      <td>0</td>\n      <td>0</td>\n      <td>0</td>\n      <td>0</td>\n      <td>0</td>\n      <td>0</td>\n      <td>...</td>\n      <td>0</td>\n      <td>0</td>\n      <td>0</td>\n      <td>0</td>\n      <td>0</td>\n      <td>0</td>\n      <td>0</td>\n      <td>0</td>\n      <td>0</td>\n      <td>0</td>\n    </tr>\n    <tr>\n      <th>1</th>\n      <td>0</td>\n      <td>0</td>\n      <td>0</td>\n      <td>0</td>\n      <td>0</td>\n      <td>0</td>\n      <td>0</td>\n      <td>0</td>\n      <td>0</td>\n      <td>0</td>\n      <td>...</td>\n      <td>0</td>\n      <td>0</td>\n      <td>0</td>\n      <td>0</td>\n      <td>0</td>\n      <td>0</td>\n      <td>0</td>\n      <td>0</td>\n      <td>0</td>\n      <td>0</td>\n    </tr>\n    <tr>\n      <th>2</th>\n      <td>0</td>\n      <td>0</td>\n      <td>0</td>\n      <td>0</td>\n      <td>0</td>\n      <td>0</td>\n      <td>0</td>\n      <td>0</td>\n      <td>0</td>\n      <td>0</td>\n      <td>...</td>\n      <td>0</td>\n      <td>0</td>\n      <td>0</td>\n      <td>0</td>\n      <td>0</td>\n      <td>0</td>\n      <td>0</td>\n      <td>0</td>\n      <td>0</td>\n      <td>0</td>\n    </tr>\n    <tr>\n      <th>3</th>\n      <td>0</td>\n      <td>0</td>\n      <td>0</td>\n      <td>0</td>\n      <td>0</td>\n      <td>0</td>\n      <td>0</td>\n      <td>0</td>\n      <td>0</td>\n      <td>0</td>\n      <td>...</td>\n      <td>0</td>\n      <td>0</td>\n      <td>0</td>\n      <td>0</td>\n      <td>0</td>\n      <td>0</td>\n      <td>0</td>\n      <td>0</td>\n      <td>0</td>\n      <td>0</td>\n    </tr>\n    <tr>\n      <th>4</th>\n      <td>0</td>\n      <td>0</td>\n      <td>0</td>\n      <td>0</td>\n      <td>0</td>\n      <td>0</td>\n      <td>0</td>\n      <td>0</td>\n      <td>0</td>\n      <td>0</td>\n      <td>...</td>\n      <td>0</td>\n      <td>0</td>\n      <td>0</td>\n      <td>0</td>\n      <td>0</td>\n      <td>0</td>\n      <td>0</td>\n      <td>0</td>\n      <td>0</td>\n      <td>0</td>\n    </tr>\n  </tbody>\n</table>\n<p>5 rows × 1000 columns</p>\n</div>"
     },
     "execution_count": 37,
     "metadata": {},
     "output_type": "execute_result"
    }
   ],
   "source": [
    "bag_of_words_lemmatized_cv = count_vectorizer.fit_transform(df['tweet_lemmatized'])\n",
    "feature_names_lemmatized_cv = count_vectorizer.get_feature_names_out()\n",
    "df_lemmatized_cv = pd.DataFrame(bag_of_words_lemmatized_cv.toarray(), columns = feature_names_lemmatized_cv)\n",
    "df_lemmatized_cv.head()"
   ],
   "metadata": {
    "collapsed": false,
    "pycharm": {
     "name": "#%%\n"
    }
   }
  },
  {
   "cell_type": "code",
   "execution_count": 38,
   "outputs": [
    {
     "data": {
      "text/plain": "   abl  absolut  abt  abus  accept  account  act  action  activ  actor  ...  \\\n0  0.0      0.0  0.0   0.0     0.0      0.0  0.0     0.0    0.0    0.0  ...   \n1  0.0      0.0  0.0   0.0     0.0      0.0  0.0     0.0    0.0    0.0  ...   \n2  0.0      0.0  0.0   0.0     0.0      0.0  0.0     0.0    0.0    0.0  ...   \n3  0.0      0.0  0.0   0.0     0.0      0.0  0.0     0.0    0.0    0.0  ...   \n4  0.0      0.0  0.0   0.0     0.0      0.0  0.0     0.0    0.0    0.0  ...   \n\n   year  yesterday   yo  yoga  young  youtub  yoyou  yoyour   yr  yummi  \n0   0.0        0.0  0.0   0.0    0.0     0.0    0.0     0.0  0.0    0.0  \n1   0.0        0.0  0.0   0.0    0.0     0.0    0.0     0.0  0.0    0.0  \n2   0.0        0.0  0.0   0.0    0.0     0.0    0.0     0.0  0.0    0.0  \n3   0.0        0.0  0.0   0.0    0.0     0.0    0.0     0.0  0.0    0.0  \n4   0.0        0.0  0.0   0.0    0.0     0.0    0.0     0.0  0.0    0.0  \n\n[5 rows x 1000 columns]",
      "text/html": "<div>\n<style scoped>\n    .dataframe tbody tr th:only-of-type {\n        vertical-align: middle;\n    }\n\n    .dataframe tbody tr th {\n        vertical-align: top;\n    }\n\n    .dataframe thead th {\n        text-align: right;\n    }\n</style>\n<table border=\"1\" class=\"dataframe\">\n  <thead>\n    <tr style=\"text-align: right;\">\n      <th></th>\n      <th>abl</th>\n      <th>absolut</th>\n      <th>abt</th>\n      <th>abus</th>\n      <th>accept</th>\n      <th>account</th>\n      <th>act</th>\n      <th>action</th>\n      <th>activ</th>\n      <th>actor</th>\n      <th>...</th>\n      <th>year</th>\n      <th>yesterday</th>\n      <th>yo</th>\n      <th>yoga</th>\n      <th>young</th>\n      <th>youtub</th>\n      <th>yoyou</th>\n      <th>yoyour</th>\n      <th>yr</th>\n      <th>yummi</th>\n    </tr>\n  </thead>\n  <tbody>\n    <tr>\n      <th>0</th>\n      <td>0.0</td>\n      <td>0.0</td>\n      <td>0.0</td>\n      <td>0.0</td>\n      <td>0.0</td>\n      <td>0.0</td>\n      <td>0.0</td>\n      <td>0.0</td>\n      <td>0.0</td>\n      <td>0.0</td>\n      <td>...</td>\n      <td>0.0</td>\n      <td>0.0</td>\n      <td>0.0</td>\n      <td>0.0</td>\n      <td>0.0</td>\n      <td>0.0</td>\n      <td>0.0</td>\n      <td>0.0</td>\n      <td>0.0</td>\n      <td>0.0</td>\n    </tr>\n    <tr>\n      <th>1</th>\n      <td>0.0</td>\n      <td>0.0</td>\n      <td>0.0</td>\n      <td>0.0</td>\n      <td>0.0</td>\n      <td>0.0</td>\n      <td>0.0</td>\n      <td>0.0</td>\n      <td>0.0</td>\n      <td>0.0</td>\n      <td>...</td>\n      <td>0.0</td>\n      <td>0.0</td>\n      <td>0.0</td>\n      <td>0.0</td>\n      <td>0.0</td>\n      <td>0.0</td>\n      <td>0.0</td>\n      <td>0.0</td>\n      <td>0.0</td>\n      <td>0.0</td>\n    </tr>\n    <tr>\n      <th>2</th>\n      <td>0.0</td>\n      <td>0.0</td>\n      <td>0.0</td>\n      <td>0.0</td>\n      <td>0.0</td>\n      <td>0.0</td>\n      <td>0.0</td>\n      <td>0.0</td>\n      <td>0.0</td>\n      <td>0.0</td>\n      <td>...</td>\n      <td>0.0</td>\n      <td>0.0</td>\n      <td>0.0</td>\n      <td>0.0</td>\n      <td>0.0</td>\n      <td>0.0</td>\n      <td>0.0</td>\n      <td>0.0</td>\n      <td>0.0</td>\n      <td>0.0</td>\n    </tr>\n    <tr>\n      <th>3</th>\n      <td>0.0</td>\n      <td>0.0</td>\n      <td>0.0</td>\n      <td>0.0</td>\n      <td>0.0</td>\n      <td>0.0</td>\n      <td>0.0</td>\n      <td>0.0</td>\n      <td>0.0</td>\n      <td>0.0</td>\n      <td>...</td>\n      <td>0.0</td>\n      <td>0.0</td>\n      <td>0.0</td>\n      <td>0.0</td>\n      <td>0.0</td>\n      <td>0.0</td>\n      <td>0.0</td>\n      <td>0.0</td>\n      <td>0.0</td>\n      <td>0.0</td>\n    </tr>\n    <tr>\n      <th>4</th>\n      <td>0.0</td>\n      <td>0.0</td>\n      <td>0.0</td>\n      <td>0.0</td>\n      <td>0.0</td>\n      <td>0.0</td>\n      <td>0.0</td>\n      <td>0.0</td>\n      <td>0.0</td>\n      <td>0.0</td>\n      <td>...</td>\n      <td>0.0</td>\n      <td>0.0</td>\n      <td>0.0</td>\n      <td>0.0</td>\n      <td>0.0</td>\n      <td>0.0</td>\n      <td>0.0</td>\n      <td>0.0</td>\n      <td>0.0</td>\n      <td>0.0</td>\n    </tr>\n  </tbody>\n</table>\n<p>5 rows × 1000 columns</p>\n</div>"
     },
     "execution_count": 38,
     "metadata": {},
     "output_type": "execute_result"
    }
   ],
   "source": [
    "bag_of_words_stemmed_tfidf = tfidf_vectorizer.fit_transform(df['tweet_stemmed'])\n",
    "feature_names_stemmed_tfidf = tfidf_vectorizer.get_feature_names_out()\n",
    "df_stemmed_tfidf = pd.DataFrame(bag_of_words_stemmed_tfidf.toarray(), columns = feature_names_stemmed_tfidf)\n",
    "df_stemmed_tfidf.head()"
   ],
   "metadata": {
    "collapsed": false,
    "pycharm": {
     "name": "#%%\n"
    }
   }
  },
  {
   "cell_type": "code",
   "execution_count": 39,
   "outputs": [
    {
     "data": {
      "text/plain": "   abl  absolut  abt  abus  accept  account  act  action  activ  actor  ...  \\\n0  0.0      0.0  0.0   0.0     0.0      0.0  0.0     0.0    0.0    0.0  ...   \n1  0.0      0.0  0.0   0.0     0.0      0.0  0.0     0.0    0.0    0.0  ...   \n2  0.0      0.0  0.0   0.0     0.0      0.0  0.0     0.0    0.0    0.0  ...   \n3  0.0      0.0  0.0   0.0     0.0      0.0  0.0     0.0    0.0    0.0  ...   \n4  0.0      0.0  0.0   0.0     0.0      0.0  0.0     0.0    0.0    0.0  ...   \n\n   yesterday   yo  yoga  york  young  youtub  yoyou  yoyour   yr  yummi  \n0        0.0  0.0   0.0   0.0    0.0     0.0    0.0     0.0  0.0    0.0  \n1        0.0  0.0   0.0   0.0    0.0     0.0    0.0     0.0  0.0    0.0  \n2        0.0  0.0   0.0   0.0    0.0     0.0    0.0     0.0  0.0    0.0  \n3        0.0  0.0   0.0   0.0    0.0     0.0    0.0     0.0  0.0    0.0  \n4        0.0  0.0   0.0   0.0    0.0     0.0    0.0     0.0  0.0    0.0  \n\n[5 rows x 1000 columns]",
      "text/html": "<div>\n<style scoped>\n    .dataframe tbody tr th:only-of-type {\n        vertical-align: middle;\n    }\n\n    .dataframe tbody tr th {\n        vertical-align: top;\n    }\n\n    .dataframe thead th {\n        text-align: right;\n    }\n</style>\n<table border=\"1\" class=\"dataframe\">\n  <thead>\n    <tr style=\"text-align: right;\">\n      <th></th>\n      <th>abl</th>\n      <th>absolut</th>\n      <th>abt</th>\n      <th>abus</th>\n      <th>accept</th>\n      <th>account</th>\n      <th>act</th>\n      <th>action</th>\n      <th>activ</th>\n      <th>actor</th>\n      <th>...</th>\n      <th>yesterday</th>\n      <th>yo</th>\n      <th>yoga</th>\n      <th>york</th>\n      <th>young</th>\n      <th>youtub</th>\n      <th>yoyou</th>\n      <th>yoyour</th>\n      <th>yr</th>\n      <th>yummi</th>\n    </tr>\n  </thead>\n  <tbody>\n    <tr>\n      <th>0</th>\n      <td>0.0</td>\n      <td>0.0</td>\n      <td>0.0</td>\n      <td>0.0</td>\n      <td>0.0</td>\n      <td>0.0</td>\n      <td>0.0</td>\n      <td>0.0</td>\n      <td>0.0</td>\n      <td>0.0</td>\n      <td>...</td>\n      <td>0.0</td>\n      <td>0.0</td>\n      <td>0.0</td>\n      <td>0.0</td>\n      <td>0.0</td>\n      <td>0.0</td>\n      <td>0.0</td>\n      <td>0.0</td>\n      <td>0.0</td>\n      <td>0.0</td>\n    </tr>\n    <tr>\n      <th>1</th>\n      <td>0.0</td>\n      <td>0.0</td>\n      <td>0.0</td>\n      <td>0.0</td>\n      <td>0.0</td>\n      <td>0.0</td>\n      <td>0.0</td>\n      <td>0.0</td>\n      <td>0.0</td>\n      <td>0.0</td>\n      <td>...</td>\n      <td>0.0</td>\n      <td>0.0</td>\n      <td>0.0</td>\n      <td>0.0</td>\n      <td>0.0</td>\n      <td>0.0</td>\n      <td>0.0</td>\n      <td>0.0</td>\n      <td>0.0</td>\n      <td>0.0</td>\n    </tr>\n    <tr>\n      <th>2</th>\n      <td>0.0</td>\n      <td>0.0</td>\n      <td>0.0</td>\n      <td>0.0</td>\n      <td>0.0</td>\n      <td>0.0</td>\n      <td>0.0</td>\n      <td>0.0</td>\n      <td>0.0</td>\n      <td>0.0</td>\n      <td>...</td>\n      <td>0.0</td>\n      <td>0.0</td>\n      <td>0.0</td>\n      <td>0.0</td>\n      <td>0.0</td>\n      <td>0.0</td>\n      <td>0.0</td>\n      <td>0.0</td>\n      <td>0.0</td>\n      <td>0.0</td>\n    </tr>\n    <tr>\n      <th>3</th>\n      <td>0.0</td>\n      <td>0.0</td>\n      <td>0.0</td>\n      <td>0.0</td>\n      <td>0.0</td>\n      <td>0.0</td>\n      <td>0.0</td>\n      <td>0.0</td>\n      <td>0.0</td>\n      <td>0.0</td>\n      <td>...</td>\n      <td>0.0</td>\n      <td>0.0</td>\n      <td>0.0</td>\n      <td>0.0</td>\n      <td>0.0</td>\n      <td>0.0</td>\n      <td>0.0</td>\n      <td>0.0</td>\n      <td>0.0</td>\n      <td>0.0</td>\n    </tr>\n    <tr>\n      <th>4</th>\n      <td>0.0</td>\n      <td>0.0</td>\n      <td>0.0</td>\n      <td>0.0</td>\n      <td>0.0</td>\n      <td>0.0</td>\n      <td>0.0</td>\n      <td>0.0</td>\n      <td>0.0</td>\n      <td>0.0</td>\n      <td>...</td>\n      <td>0.0</td>\n      <td>0.0</td>\n      <td>0.0</td>\n      <td>0.0</td>\n      <td>0.0</td>\n      <td>0.0</td>\n      <td>0.0</td>\n      <td>0.0</td>\n      <td>0.0</td>\n      <td>0.0</td>\n    </tr>\n  </tbody>\n</table>\n<p>5 rows × 1000 columns</p>\n</div>"
     },
     "execution_count": 39,
     "metadata": {},
     "output_type": "execute_result"
    }
   ],
   "source": [
    "bag_of_words_lemmatized_tfidf = tfidf_vectorizer.fit_transform(df['tweet_lemmatized'])\n",
    "feature_names_lemmatized_tfidf = tfidf_vectorizer.get_feature_names_out()\n",
    "df_lemmatized_tfidf = pd.DataFrame(bag_of_words_lemmatized_tfidf.toarray(), columns = feature_names_lemmatized_tfidf)\n",
    "df_lemmatized_tfidf.head()"
   ],
   "metadata": {
    "collapsed": false,
    "pycharm": {
     "name": "#%%\n"
    }
   }
  },
  {
   "cell_type": "code",
   "execution_count": 40,
   "outputs": [
    {
     "data": {
      "text/plain": "                                                text       label\n0  Stuning even for the non-gamer: This sound tra...  __label__2\n1  The best soundtrack ever to anything.: I'm rea...  __label__2\n2  Amazing!: This soundtrack is my favorite music...  __label__2\n3  Excellent Soundtrack: I truly like this soundt...  __label__2\n4  Remember, Pull Your Jaw Off The Floor After He...  __label__2",
      "text/html": "<div>\n<style scoped>\n    .dataframe tbody tr th:only-of-type {\n        vertical-align: middle;\n    }\n\n    .dataframe tbody tr th {\n        vertical-align: top;\n    }\n\n    .dataframe thead th {\n        text-align: right;\n    }\n</style>\n<table border=\"1\" class=\"dataframe\">\n  <thead>\n    <tr style=\"text-align: right;\">\n      <th></th>\n      <th>text</th>\n      <th>label</th>\n    </tr>\n  </thead>\n  <tbody>\n    <tr>\n      <th>0</th>\n      <td>Stuning even for the non-gamer: This sound tra...</td>\n      <td>__label__2</td>\n    </tr>\n    <tr>\n      <th>1</th>\n      <td>The best soundtrack ever to anything.: I'm rea...</td>\n      <td>__label__2</td>\n    </tr>\n    <tr>\n      <th>2</th>\n      <td>Amazing!: This soundtrack is my favorite music...</td>\n      <td>__label__2</td>\n    </tr>\n    <tr>\n      <th>3</th>\n      <td>Excellent Soundtrack: I truly like this soundt...</td>\n      <td>__label__2</td>\n    </tr>\n    <tr>\n      <th>4</th>\n      <td>Remember, Pull Your Jaw Off The Floor After He...</td>\n      <td>__label__2</td>\n    </tr>\n  </tbody>\n</table>\n</div>"
     },
     "execution_count": 40,
     "metadata": {},
     "output_type": "execute_result"
    }
   ],
   "source": [
    "# Загружаем данные\n",
    "data = open('../data/corpus').read()\n",
    "labels, texts = [], []\n",
    "for i, line in enumerate(data.split(\"\\n\")):\n",
    "    content = line.split()\n",
    "    labels.append(content[0])\n",
    "    texts.append(\" \".join(content[1:]))\n",
    "\n",
    "# создаем df\n",
    "trainDF = pd.DataFrame()\n",
    "trainDF['text'] = texts\n",
    "trainDF['label'] = labels\n",
    "trainDF.head(5)"
   ],
   "metadata": {
    "collapsed": false,
    "pycharm": {
     "name": "#%%\n"
    }
   }
  },
  {
   "cell_type": "code",
   "execution_count": 41,
   "outputs": [],
   "source": [
    "train_x, valid_x, train_y, valid_y = model_selection.train_test_split(trainDF['text'], trainDF['label'])\n",
    "\n",
    "encoder = preprocessing.LabelEncoder()\n",
    "train_y = encoder.fit_transform(train_y)\n",
    "valid_y = encoder.fit_transform(valid_y)"
   ],
   "metadata": {
    "collapsed": false,
    "pycharm": {
     "name": "#%%\n"
    }
   }
  },
  {
   "cell_type": "code",
   "execution_count": 43,
   "outputs": [],
   "source": [
    "results = {\n",
    "    'vectorizer': [],\n",
    "    'ngram': [],\n",
    "    'features': [],\n",
    "    'accuracy': []\n",
    "}"
   ],
   "metadata": {
    "collapsed": false,
    "pycharm": {
     "name": "#%%\n"
    }
   }
  },
  {
   "cell_type": "code",
   "execution_count": 44,
   "outputs": [
    {
     "name": "stdout",
     "output_type": "stream",
     "text": [
      "CPU times: user 0 ns, sys: 35 µs, total: 35 µs\n",
      "Wall time: 51.5 µs\n"
     ]
    }
   ],
   "source": [
    "%%time\n",
    "models = ['count', 'tfidf']\n",
    "ngrams = [(1,1), (1,2), (1,3), (2,2), (2,3), (3,3)]\n",
    "features = [100, 200, 500, 1000, 2000, 5000, 10000]"
   ],
   "metadata": {
    "collapsed": false,
    "pycharm": {
     "name": "#%%\n"
    }
   }
  },
  {
   "cell_type": "code",
   "execution_count": 46,
   "outputs": [],
   "source": [
    "for model in models:\n",
    "    for ngram in ngrams:\n",
    "        for value in features:\n",
    "            vectorizers={\n",
    "                'count': CountVectorizer(\n",
    "                    ngram_range=ngram,\n",
    "                    analyzer='word',\n",
    "                    binary=False,\n",
    "                    max_df=0.9,\n",
    "                    max_features=value,\n",
    "                    stop_words='english'\n",
    "                ),\n",
    "                'tfidf': TfidfVectorizer(\n",
    "                    ngram_range=ngram,\n",
    "                    analyzer='word',\n",
    "                    binary=False,\n",
    "                    max_df=0.9,\n",
    "                    max_features=value,\n",
    "                    stop_words='english'\n",
    "                )\n",
    "            }\n",
    "\n",
    "\n",
    "            vectorizer = vectorizers[model]\n",
    "            vectorizer.fit(trainDF['text'])\n",
    "            xtrain_vec =  vectorizer.transform(train_x)\n",
    "            xvalid_vec =  vectorizer.transform(valid_x)\n",
    "\n",
    "            classifier = linear_model.LogisticRegression()\n",
    "            classifier.fit(xtrain_vec, train_y)\n",
    "            predictions = classifier.predict(xvalid_vec)\n",
    "\n",
    "            results['vectorizer'].append(model)\n",
    "            results['ngram'].append(ngram)\n",
    "            results['features'].append(value)\n",
    "            results['accuracy'].append(accuracy_score(valid_y, predictions))"
   ],
   "metadata": {
    "collapsed": false,
    "pycharm": {
     "name": "#%%\n"
    }
   }
  },
  {
   "cell_type": "code",
   "execution_count": 47,
   "outputs": [
    {
     "data": {
      "text/plain": "   vectorizer   ngram  features  accuracy\n62      tfidf  (1, 3)     10000    0.8724\n55      tfidf  (1, 2)     10000    0.8716\n48      tfidf  (1, 1)     10000    0.8696\n61      tfidf  (1, 3)      5000    0.8676\n54      tfidf  (1, 2)      5000    0.8672\n..        ...     ...       ...       ...\n79      tfidf  (3, 3)       500    0.5408\n78      tfidf  (3, 3)       200    0.5288\n36      count  (3, 3)       200    0.5280\n35      count  (3, 3)       100    0.5236\n77      tfidf  (3, 3)       100    0.5224\n\n[84 rows x 4 columns]",
      "text/html": "<div>\n<style scoped>\n    .dataframe tbody tr th:only-of-type {\n        vertical-align: middle;\n    }\n\n    .dataframe tbody tr th {\n        vertical-align: top;\n    }\n\n    .dataframe thead th {\n        text-align: right;\n    }\n</style>\n<table border=\"1\" class=\"dataframe\">\n  <thead>\n    <tr style=\"text-align: right;\">\n      <th></th>\n      <th>vectorizer</th>\n      <th>ngram</th>\n      <th>features</th>\n      <th>accuracy</th>\n    </tr>\n  </thead>\n  <tbody>\n    <tr>\n      <th>62</th>\n      <td>tfidf</td>\n      <td>(1, 3)</td>\n      <td>10000</td>\n      <td>0.8724</td>\n    </tr>\n    <tr>\n      <th>55</th>\n      <td>tfidf</td>\n      <td>(1, 2)</td>\n      <td>10000</td>\n      <td>0.8716</td>\n    </tr>\n    <tr>\n      <th>48</th>\n      <td>tfidf</td>\n      <td>(1, 1)</td>\n      <td>10000</td>\n      <td>0.8696</td>\n    </tr>\n    <tr>\n      <th>61</th>\n      <td>tfidf</td>\n      <td>(1, 3)</td>\n      <td>5000</td>\n      <td>0.8676</td>\n    </tr>\n    <tr>\n      <th>54</th>\n      <td>tfidf</td>\n      <td>(1, 2)</td>\n      <td>5000</td>\n      <td>0.8672</td>\n    </tr>\n    <tr>\n      <th>...</th>\n      <td>...</td>\n      <td>...</td>\n      <td>...</td>\n      <td>...</td>\n    </tr>\n    <tr>\n      <th>79</th>\n      <td>tfidf</td>\n      <td>(3, 3)</td>\n      <td>500</td>\n      <td>0.5408</td>\n    </tr>\n    <tr>\n      <th>78</th>\n      <td>tfidf</td>\n      <td>(3, 3)</td>\n      <td>200</td>\n      <td>0.5288</td>\n    </tr>\n    <tr>\n      <th>36</th>\n      <td>count</td>\n      <td>(3, 3)</td>\n      <td>200</td>\n      <td>0.5280</td>\n    </tr>\n    <tr>\n      <th>35</th>\n      <td>count</td>\n      <td>(3, 3)</td>\n      <td>100</td>\n      <td>0.5236</td>\n    </tr>\n    <tr>\n      <th>77</th>\n      <td>tfidf</td>\n      <td>(3, 3)</td>\n      <td>100</td>\n      <td>0.5224</td>\n    </tr>\n  </tbody>\n</table>\n<p>84 rows × 4 columns</p>\n</div>"
     },
     "execution_count": 47,
     "metadata": {},
     "output_type": "execute_result"
    }
   ],
   "source": [
    "pd.DataFrame(results).sort_values(by='accuracy', ascending=False)"
   ],
   "metadata": {
    "collapsed": false,
    "pycharm": {
     "name": "#%%\n"
    }
   }
  },
  {
   "cell_type": "markdown",
   "source": [
    "Наилучшие результаты показывает векторайзер tfidf при большем количестве фичей. Так же стоит обратить внимание на то что лучшие показатели наблюдаются при использовании ngram в сочетании от 1 и до 3. Думаю при использовании ngram более 3-х показатели вырастут."
   ],
   "metadata": {
    "collapsed": false,
    "pycharm": {
     "name": "#%% md\n"
    }
   }
  }
 ],
 "metadata": {
  "kernelspec": {
   "display_name": "Python 3",
   "language": "python",
   "name": "python3"
  },
  "language_info": {
   "codemirror_mode": {
    "name": "ipython",
    "version": 2
   },
   "file_extension": ".py",
   "mimetype": "text/x-python",
   "name": "python",
   "nbconvert_exporter": "python",
   "pygments_lexer": "ipython2",
   "version": "2.7.6"
  }
 },
 "nbformat": 4,
 "nbformat_minor": 0
}